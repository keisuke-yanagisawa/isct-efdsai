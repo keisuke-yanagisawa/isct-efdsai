{
 "cells": [
  {
   "cell_type": "markdown",
   "metadata": {},
   "source": [
    "<img height=\"40px\" src=\"https://science-tokyo.box.com/shared/static/ixeh39t6dro2ic589zc710sed0gcxf0t.png\">"
   ]
  },
  {
   "cell_type": "code",
   "execution_count": null,
   "metadata": {},
   "outputs": [],
   "source": [
    "# Preparation for auto-grading\n",
    "unit = \"suppl_EFDS4\"\n",
    "!pip install otter-grader \n",
    "!wget https://github.com/keisuke-yanagisawa/isct-efdsai/raw/refs/heads/main/supplementary_materials/{unit}/student.tar.gz -O {unit}.tar.gz\n",
    "!tar -zxvf {unit}.tar.gz \n",
    "!rm {unit}.tar.gz\n",
    "%cd student\n",
    "import otter\n",
    "grader = otter.Notebook()"
   ]
  },
  {
   "cell_type": "markdown",
   "metadata": {},
   "source": [
    "# 基盤データサイエンス演習 第4回 クラスタリング 補習資料"
   ]
  },
  {
   "cell_type": "markdown",
   "metadata": {},
   "source": [
    "# Supplemental Material: Excersices in Fundamentals of Data Science (4) - Clustering"
   ]
  },
  {
   "cell_type": "markdown",
   "metadata": {
    "id": "nIWu0KHd5qgP"
   },
   "source": [
    "## 1 | 階層型クラスタリング"
   ]
  },
  {
   "cell_type": "markdown",
   "metadata": {},
   "source": [
    "## 1 | Hierarchical Clustering"
   ]
  },
  {
   "cell_type": "markdown",
   "metadata": {
    "id": "FgHD4XBt5qgP"
   },
   "source": [
    "#### 事前準備"
   ]
  },
  {
   "cell_type": "markdown",
   "metadata": {},
   "source": [
    "#### Preliminaries"
   ]
  },
  {
   "cell_type": "code",
   "execution_count": null,
   "metadata": {},
   "outputs": [],
   "source": [
    "import numpy as np\n",
    "\n",
    "q1_sample = np.array([\n",
    "    [0.401, 0.3009],\n",
    "    [0.402, 0.6008], \n",
    "    [0.403, 0.1007],\n",
    "    [0.204, 0.5006],\n",
    "    [0.405, 0.4005],\n",
    "    [0.406, 0.2004], \n",
    "    [0.007, 0.6003],\n",
    "    [0.008, 0.5002],\n",
    "    [0.609, 0.1001],\n",
    "])"
   ]
  },
  {
   "cell_type": "markdown",
   "metadata": {},
   "source": [
    "#### 練習問題 1-1 | Ward法に基づく階層型クラスタリングの実施"
   ]
  },
  {
   "cell_type": "markdown",
   "metadata": {},
   "source": [
    "#### Exercise 1-1 | Perform Hierarchical Clustering Based on Ward's Method"
   ]
  },
  {
   "cell_type": "markdown",
   "metadata": {
    "deletable": false,
    "editable": false,
    "id": "a0StRQcy5qgS"
   },
   "source": [
    "Ward法に基づいて、 `q1_sample` のクラスタリングを行い、各データの属するクラスタを `q11_labels` に記録せよ。ただし、クラスタ数は2 (`n_clusters=2`) とする。"
   ]
  },
  {
   "cell_type": "markdown",
   "metadata": {
    "deletable": false,
    "editable": false
   },
   "source": [
    "Using Ward's method, perform clustering on `q1_sample` and record the cluster each data point belongs to in `q11_labels`. The number of clusters should be 2 (`n_clusters=2`)."
   ]
  },
  {
   "cell_type": "code",
   "execution_count": null,
   "metadata": {
    "colab": {
     "base_uri": "https://localhost:8080/",
     "height": 75
    },
    "id": "FlhOg7kW5qgS",
    "outputId": "4a337d36-97de-4029-f8d4-c44724b41d56",
    "tags": [
     "otter_answer_cell"
    ]
   },
   "outputs": [],
   "source": [
    "from sklearn.cluster import AgglomerativeClustering\n",
    "\n",
    "clustering = AgglomerativeClustering(...)\n",
    "clustering.fit(...)\n",
    "q11_labels = ...\n",
    "\n"
   ]
  },
  {
   "cell_type": "code",
   "execution_count": null,
   "metadata": {
    "deletable": false,
    "editable": false
   },
   "outputs": [],
   "source": [
    "grader.check(\"Exercise 1-1\")"
   ]
  },
  {
   "cell_type": "markdown",
   "metadata": {},
   "source": [
    "#### 練習問題 1-2 | クラスタリング結果の描画"
   ]
  },
  {
   "cell_type": "markdown",
   "metadata": {},
   "source": [
    "#### Exercise 1-2 | Visualizing Clustering Results"
   ]
  },
  {
   "cell_type": "markdown",
   "metadata": {
    "deletable": false,
    "editable": false,
    "id": "XToBP3w35qgU"
   },
   "source": [
    "練習問題 1-1 で実施したクラスタリング結果を描画し、その結果を確認せよ。なお、この練習問題は自動採点対象外である。"
   ]
  },
  {
   "cell_type": "markdown",
   "metadata": {
    "deletable": false,
    "editable": false
   },
   "source": [
    "Visualize the clustering results obtained in Exercise 1-1 and confirm the results. Note that this exercise is not subject to automatic grading."
   ]
  },
  {
   "cell_type": "code",
   "execution_count": null,
   "metadata": {
    "deletable": false,
    "editable": false
   },
   "outputs": [],
   "source": [
    "import matplotlib.pyplot as plt\n",
    "q12_labelzero = q1_sample[q11_labels == 0]\n",
    "q12_labelone = q1_sample[q11_labels == 1]\n",
    "\n",
    "plt.figure(figsize=(5, 5))\n",
    "plt.scatter(q12_labelzero[:, 0], q12_labelzero[:, 1], c='red', label='Cluster 0')\n",
    "plt.scatter(q12_labelone[:, 0], q12_labelone[:, 1], c='blue', label='Cluster 1')  \n",
    "plt.xlim(-0.05, 0.65)\n",
    "plt.ylim(-0.05, 0.65)\n",
    "plt.legend()\n",
    "plt.show()\n"
   ]
  },
  {
   "cell_type": "markdown",
   "metadata": {
    "id": "saroF1iy51qR"
   },
   "source": [
    "#### 練習問題 1-3 | 最短距離法に基づく階層型クラスタリングの実施"
   ]
  },
  {
   "cell_type": "markdown",
   "metadata": {},
   "source": [
    "#### Exercise 1-3 | Perform Hierarchical Clustering Based on Single Linkage Method"
   ]
  },
  {
   "cell_type": "markdown",
   "metadata": {
    "deletable": false,
    "editable": false,
    "id": "f-PSyrue6iq1"
   },
   "source": [
    "最短距離法 (single linkage method) に基づいて、 `q1_sample` のクラスタリングを行い、各データの属するクラスタを `q13_labels` に記録せよ。ただし、クラスタ数は2 (`n_clusters=2`) とする。"
   ]
  },
  {
   "cell_type": "markdown",
   "metadata": {
    "deletable": false,
    "editable": false
   },
   "source": [
    "Perform clustering on `q1_sample` based on the single linkage method and record the cluster each data point belongs to in `q13_labels`. The number of clusters should be 2 (`n_clusters=2`)."
   ]
  },
  {
   "cell_type": "code",
   "execution_count": null,
   "metadata": {
    "id": "pAdtzt9B7ToB",
    "tags": [
     "otter_answer_cell"
    ]
   },
   "outputs": [],
   "source": [
    "from sklearn.cluster import AgglomerativeClustering\n",
    "\n",
    "clustering = AgglomerativeClustering(...)\n",
    "clustering.fit(...)\n",
    "q13_labels = ...\n",
    "\n"
   ]
  },
  {
   "cell_type": "code",
   "execution_count": null,
   "metadata": {
    "tags": [
     "otter_answer_cell"
    ]
   },
   "outputs": [],
   "source": [
    "import matplotlib.pyplot as plt\n",
    "q13_labelzero = q1_sample[q13_labels == 0]\n",
    "q13_labelone = q1_sample[q13_labels == 1]\n",
    "\n",
    "plt.figure(figsize=(5, 5))\n",
    "plt.scatter(q13_labelzero[:, 0], q13_labelzero[:, 1], c='red', label='Cluster 0')\n",
    "plt.scatter(q13_labelone[:, 0], q13_labelone[:, 1], c='blue', label='Cluster 1')  \n",
    "plt.xlim(-0.05, 0.65)\n",
    "plt.ylim(-0.05, 0.65)\n",
    "plt.legend()\n",
    "plt.show()"
   ]
  },
  {
   "cell_type": "code",
   "execution_count": null,
   "metadata": {
    "deletable": false,
    "editable": false
   },
   "outputs": [],
   "source": [
    "grader.check(\"Exercise 1-3\")"
   ]
  },
  {
   "cell_type": "markdown",
   "metadata": {
    "id": "JpuoOclX6FE3"
   },
   "source": [
    "#### 練習問題 1-4 | 最短距離法のクラスタの性質の確認"
   ]
  },
  {
   "cell_type": "markdown",
   "metadata": {},
   "source": [
    "#### Exercise 1-4 | Confirming the Properties of Clusters Using Single Linkage Method"
   ]
  },
  {
   "cell_type": "markdown",
   "metadata": {
    "deletable": false,
    "editable": false,
    "id": "TYVOBzEz8T_T"
   },
   "source": [
    "最短距離法に基づくクラスタリングでは、2つ以上のデータからなるクラスタに所属する全てのデータ $x$ は、データ $x$ と最も近いデータ $x^*$ と同じクラスタに所属していることが保証されているはずである。\n",
    "\n",
    "以下に定義した `calc_dist_matrix()` は、`scipy.spatial.distance` モジュールの `pdist()` 関数を用いて、データセット `q1_sample` の全データ間の距離を行列形式で求める関数である。この関数を用いて、各データから最も近いデータのインデックスを `q14_nearest_indices` に記録せよ。"
   ]
  },
  {
   "cell_type": "markdown",
   "metadata": {
    "deletable": false,
    "editable": false
   },
   "source": [
    "In clustering based on the single linkage method, all data points $x$ that belong to a cluster containing two or more data points should belong to the same cluster as the data point $x^*$ that is closest to $x$.\n",
    "\n",
    "The `calc_dist_matrix()` defined below is a function that uses the `pdist()` function from the `scipy.spatial.distance` module to compute the distance between all data points in the dataset `q1_sample` in matrix form. Use this function to record the index of the nearest data point for each data point in `q14_nearest_indices`."
   ]
  },
  {
   "cell_type": "code",
   "execution_count": null,
   "metadata": {
    "deletable": false,
    "editable": false
   },
   "outputs": [],
   "source": [
    "from scipy.spatial.distance import pdist, squareform\n",
    "def calc_dist_matrix(X):\n",
    "    return squareform(pdist(X))\n",
    "print(calc_dist_matrix([[0, 0], [1, 0], [2, 0]])) # testing code: distance matrix of 3 points"
   ]
  },
  {
   "cell_type": "code",
   "execution_count": null,
   "metadata": {
    "id": "dkv48MSL9_hJ",
    "tags": [
     "otter_answer_cell"
    ]
   },
   "outputs": [],
   "source": [
    "q14_dist_matrix = ...\n",
    "q14_nearest_indices = []\n",
    "for i in range(...):\n",
    "    minimum_index = 0\n",
    "    for j in range(...):\n",
    "        if ...:\n",
    "            minimum_index = j\n",
    "    q14_nearest_indices.append(minimum_index)\n",
    "q14_nearest_indices = np.array(q14_nearest_indices)\n",
    "\n"
   ]
  },
  {
   "cell_type": "code",
   "execution_count": null,
   "metadata": {
    "deletable": false,
    "editable": false
   },
   "outputs": [],
   "source": [
    "grader.check(\"Exercise 1-4\")"
   ]
  },
  {
   "cell_type": "markdown",
   "metadata": {},
   "source": [
    "## 2 | *K*-meansクラスタリング"
   ]
  },
  {
   "cell_type": "markdown",
   "metadata": {},
   "source": [
    "## 2 | *K*-means Clustering"
   ]
  },
  {
   "cell_type": "markdown",
   "metadata": {},
   "source": [
    "#### 練習問題 2-1 | 点群の作成\n"
   ]
  },
  {
   "cell_type": "markdown",
   "metadata": {},
   "source": [
    "#### Exercise 2-1 | Creating Point Cloud\n"
   ]
  },
  {
   "cell_type": "markdown",
   "metadata": {
    "deletable": false,
    "editable": false
   },
   "source": [
    "5個以上の2次元上の点からなるデータセットを手動で作成し、そのデータセットを `q21_X` に記録せよ。\n",
    "また、`q21_X` の各点がクラスタ0に属するかクラスタ1に属するか手動で設定し、そのクラスタを `q21_labels` に記録せよ。"
   ]
  },
  {
   "cell_type": "markdown",
   "metadata": {
    "deletable": false,
    "editable": false
   },
   "source": [
    "Manually create a dataset consisting of more than 5 points in 2D and record it in `q21_X`.\n",
    "Also, manually set whether each point in `q21_X` belongs to cluster 0 or cluster 1, and record that cluster in `q21_labels`."
   ]
  },
  {
   "cell_type": "code",
   "execution_count": null,
   "metadata": {
    "tags": [
     "otter_answer_cell"
    ]
   },
   "outputs": [],
   "source": [
    "\n",
    "q21_X = ...\n",
    "q21_labels = ...\n",
    "\n",
    "q21_labelzero = q21_X[q21_labels == 0]\n",
    "q21_labelone = q21_X[q21_labels == 1]\n",
    "plt.figure(figsize=(5, 5))\n",
    "plt.scatter(q21_labelzero[:, 0], q21_labelzero[:, 1], c='red', label='Cluster 0')\n",
    "plt.scatter(q21_labelone[:, 0], q21_labelone[:, 1], c='blue', label='Cluster 1')  \n",
    "plt.legend()\n",
    "plt.show()"
   ]
  },
  {
   "cell_type": "code",
   "execution_count": null,
   "metadata": {
    "deletable": false,
    "editable": false
   },
   "outputs": [],
   "source": [
    "grader.check(\"Exercise 2-1\")"
   ]
  },
  {
   "cell_type": "markdown",
   "metadata": {},
   "source": [
    "#### 練習問題 2-2 | *K*-meansクラスタリングの実施"
   ]
  },
  {
   "cell_type": "markdown",
   "metadata": {},
   "source": [
    "#### Exercise 2-2 | Performing *K*-means Clustering"
   ]
  },
  {
   "cell_type": "markdown",
   "metadata": {
    "deletable": false,
    "editable": false
   },
   "source": [
    "*K*-means クラスタリングを行い、`q21_X` の各点の属するクラスタを `q22_labels` に記録せよ。ただし、クラスタ数は2 (`n_clusters=2`) とする。"
   ]
  },
  {
   "cell_type": "markdown",
   "metadata": {
    "deletable": false,
    "editable": false
   },
   "source": [
    "Perform *K*-means clustering and record the cluster each point in `q21_X` belongs to in `q22_labels`. The number of clusters should be 2 (`n_clusters=2`)."
   ]
  },
  {
   "cell_type": "code",
   "execution_count": null,
   "metadata": {
    "tags": [
     "otter_answer_cell"
    ]
   },
   "outputs": [],
   "source": [
    "from sklearn.cluster import AgglomerativeClustering\n",
    "\n",
    "clustering = AgglomerativeClustering(...)\n",
    "clustering.fit(...)\n",
    "q22_labels = ..."
   ]
  },
  {
   "cell_type": "code",
   "execution_count": null,
   "metadata": {
    "deletable": false,
    "editable": false
   },
   "outputs": [],
   "source": [
    "grader.check(\"Exercise 2-2\")"
   ]
  },
  {
   "cell_type": "markdown",
   "metadata": {},
   "source": [
    "#### 練習問題 2-3 | クラスタリング結果の比較"
   ]
  },
  {
   "cell_type": "markdown",
   "metadata": {},
   "source": [
    "#### Exercise 2-3 | Comparing Clustering Results"
   ]
  },
  {
   "cell_type": "markdown",
   "metadata": {},
   "source": [
    "練習問題 2-1 にて自分で設定したクラスタ `q21_labels` と、練習問題 2-2 で得られたクラスタリング結果 `q22_labels` を比較し、一致したかどうか確認せよ。一致しなかった場合は、その原因を検討せよ。\n",
    "ただし、`labels = [0, 1, 1, 0, 1]` と `labels = [1, 0, 0, 1, 0]` は一致していることに注意せよ（IDが異なるだけであるため）。\n",
    "\n",
    "この練習問題は自動添削対象外である。"
   ]
  },
  {
   "cell_type": "markdown",
   "metadata": {},
   "source": [
    "Compare the clusters `q21_labels` that you set yourself in Exercise 2-1 with the clustering results `q22_labels` obtained in Exercise 2-2, and check if they match. If they do not match, consider the reasons.\n",
    "Note that `labels = [0, 1, 1, 0, 1]` and `labels = [1, 0, 0, 1, 0]` are considered a match (as they only differ by ID).\n",
    "\n",
    "This exercise is not subject to automatic grading."
   ]
  }
 ],
 "metadata": {
  "colab": {
   "provenance": []
  },
  "kernelspec": {
   "display_name": "base",
   "language": "python",
   "name": "python3"
  },
  "language_info": {
   "codemirror_mode": {
    "name": "ipython",
    "version": 3
   },
   "file_extension": ".py",
   "mimetype": "text/x-python",
   "name": "python",
   "nbconvert_exporter": "python",
   "pygments_lexer": "ipython3",
   "version": "3.11.10"
  },
  "otter": {
   "OK_FORMAT": true,
   "tests": {
    "Exercise 1-1": {
     "name": "Exercise 1-1",
     "points": null,
     "suites": [
      {
       "cases": [
        {
         "code": ">>> isinstance(clustering, AgglomerativeClustering)\nTrue",
         "failure_message": "AgglomerativeClustering を利用してください。あるいは、変数名が間違っている可能性があります。 / Please use AgglomerativeClustering. Alternatively, the variable name may be incorrect.",
         "hidden": false,
         "locked": false
        },
        {
         "code": ">>> from sklearn.utils.validation import check_is_fitted\n>>> check_is_fitted(clustering)\n",
         "failure_message": "clustering.fit()を実行してください。 / Please execute clustering.fit().",
         "hidden": false,
         "locked": false
        },
        {
         "code": ">>> len(q11_labels) == len(q1_sample)\nTrue",
         "failure_message": "クラスタリング結果の要素数が正しくありません。q1_sampleのクラスタリングを行い、len(q11_labels) と len(q1_sample) が等しいことを確認してください。 / The number of elements in the clustering result is incorrect. Perform clustering on q1_sample and ensure len(q11_labels) equals len(q1_sample).",
         "hidden": false,
         "locked": false
        },
        {
         "code": ">>> np.all(q11_labels == np.array([0, 0, 1, 0, 0, 1, 0, 0, 1]))\nnp.True_",
         "failure_message": "クラスタリング結果が誤っています。異なるクラスタリング手法や異なるデータを使っていないか確認してください。 / The clustering result is incorrect. Check if you are using different clustering methods or different data.",
         "hidden": false,
         "locked": false
        }
       ],
       "scored": true,
       "setup": "",
       "teardown": "",
       "type": "doctest"
      }
     ]
    },
    "Exercise 1-3": {
     "name": "Exercise 1-3",
     "points": null,
     "suites": [
      {
       "cases": [
        {
         "code": ">>> isinstance(clustering, AgglomerativeClustering)\nTrue",
         "failure_message": "AgglomerativeClustering を利用してください。あるいは、変数名が間違っている可能性があります。 / Please use AgglomerativeClustering. Alternatively, the variable name may be incorrect.",
         "hidden": false,
         "locked": false
        },
        {
         "code": ">>> from sklearn.utils.validation import check_is_fitted\n>>> check_is_fitted(clustering)\n",
         "failure_message": "clustering.fit()を実行してください。 / Please execute clustering.fit().",
         "hidden": false,
         "locked": false
        },
        {
         "code": ">>> len(q13_labels) == len(q1_sample)\nTrue",
         "failure_message": "クラスタリング結果の要素数が正しくありません。q1_sampleのクラスタリングを行い、len(q13_labels) と len(q1_sample) が等しいことを確認してください。 / The number of elements in the clustering result is incorrect. Perform clustering on q1_sample and ensure len(q13_labels) equals len(q1_sample).",
         "hidden": false,
         "locked": false
        },
        {
         "code": ">>> np.all(q13_labels == np.array([0, 0, 0, 1, 0, 0, 1, 1, 0]))\nnp.True_",
         "failure_message": "クラスタリング結果が誤っています。異なるクラスタリング手法や異なるデータを使っていないか確認してください。 / The clustering result is incorrect. Check if you are using different clustering methods or different data.",
         "hidden": false,
         "locked": false
        }
       ],
       "scored": true,
       "setup": "",
       "teardown": "",
       "type": "doctest"
      }
     ]
    },
    "Exercise 1-4": {
     "name": "Exercise 1-4",
     "points": null,
     "suites": [
      {
       "cases": [
        {
         "code": ">>> q14_dist_matrix.shape == (9, 9)\nTrue",
         "failure_message": "距離行列の要素数が正しくありません。距離行列の要素数が正しいことを確認してください。 / The number of elements in the distance matrix is incorrect. Please verify that the number of elements in the distance matrix is correct.",
         "hidden": false,
         "locked": false
        },
        {
         "code": ">>> np.isclose(q14_dist_matrix, np.array([[0.0, 0.29990167, 0.20020999, 0.28051576, 0.09968029, 0.1006243, 0.49484984, 0.44064667, 0.28911008], [0.29990167, 0.0, 0.500101, 0.22190998, 0.20032247, 0.40041998, 0.39500032, 0.40664033, 0.54180208], [0.20020999, 0.500101, 0.0, 0.44667775, 0.29980667, 0.09974513, 0.63750777, 0.56180535, 0.20600087], [0.28051576, 0.22190998, 0.44667775, 0.0, 0.22454623, 0.36183427, 0.22079196, 0.19600041, 0.5695834], [0.09968029, 0.20032247, 0.29980667, 0.22454623, 0.0, 0.2001025, 0.44533587, 0.40932761, 0.36312004], [0.1006243, 0.40041998, 0.09974513, 0.36183427, 0.2001025, 0.0, 0.56490797, 0.49828109, 0.22642679], [0.49484984, 0.39500032, 0.63750777, 0.22079196, 0.44533587, 0.56490797, 0.0, 0.10010499, 0.78269026], [0.44064667, 0.40664033, 0.56180535, 0.19600041, 0.40932761, 0.49828109, 0.10010499, 0.0, 0.72199793], [0.28911008, 0.54180208, 0.20600087, 0.5695834, 0.36312004, 0.22642679, 0.78269026, 0.72199793, 0.0]]), atol=1e-08).all()\nnp.True_",
         "failure_message": "距離行列が正しくありません。距離行列の計算方法を確認してください。 / The distance matrix is incorrect. Please check the method of distance matrix calculation.",
         "hidden": false,
         "locked": false
        },
        {
         "code": ">>> len(q14_nearest_indices) == 9\nTrue",
         "failure_message": "最近傍インデックスの要素数が正しくありません。最近傍インデックスの要素数が正しいことを確認してください。 / The number of nearest indices is incorrect. Please verify that the number of nearest indices is correct.",
         "hidden": false,
         "locked": false
        },
        {
         "code": ">>> np.all((0 <= q14_nearest_indices) & (q14_nearest_indices < len(q1_sample)))\nnp.True_",
         "failure_message": "最近傍インデックスが正しくありません。最近傍インデックスが正しいことを確認してください。 / The nearest indices are incorrect. Please verify that the nearest indices are correct.",
         "hidden": false,
         "locked": false
        },
        {
         "code": ">>> np.all(q14_nearest_indices == np.array([0, 1, 2, 3, 4, 5, 6, 7, 8]))\nnp.True_",
         "failure_message": "最近傍インデックスが正しくありません。最近傍インデックスが正しいことを確認してください。 / The nearest indices are incorrect. Please verify that the nearest indices are correct.",
         "hidden": false,
         "locked": false
        }
       ],
       "scored": true,
       "setup": "",
       "teardown": "",
       "type": "doctest"
      }
     ]
    },
    "Exercise 2-1": {
     "name": "Exercise 2-1",
     "points": null,
     "suites": [
      {
       "cases": [
        {
         "code": ">>> q21_X.shape[1] == 2\nTrue",
         "failure_message": "2次元空間上の点を設定してください。 / Please set points in 2D space.",
         "hidden": false,
         "locked": false
        },
        {
         "code": ">>> q21_X.shape[0] == q21_labels.shape[0]\nTrue",
         "failure_message": "q21_X と q21_labels の要素数が一致していません。データ数とラベル数が一致していることを確認してください。 / The number of elements in q21_X and q21_labels do not match. Please ensure the number of data points matches the number of labels.",
         "hidden": false,
         "locked": false
        }
       ],
       "scored": true,
       "setup": "",
       "teardown": "",
       "type": "doctest"
      }
     ]
    },
    "Exercise 2-2": {
     "name": "Exercise 2-2",
     "points": null,
     "suites": [
      {
       "cases": [
        {
         "code": ">>> len(q22_labels) == len(q21_X)\nTrue",
         "failure_message": "クラスタリング結果の要素数が正しくありません。q21_Xのクラスタリングを行い、len(q22_labels) と len(q21_X) が等しいことを確認してください。 / The number of elements in the clustering result is incorrect. Perform clustering on q21_X and ensure len(q22_labels) equals len(q21_X).",
         "hidden": false,
         "locked": false
        },
        {
         "code": ">>> np.unique(q22_labels).shape[0] == 2 and q22_labels.max() == 1 and (q22_labels.min() == 0)\nnp.True_",
         "failure_message": "2つのクラスタに分類されていることを確認してください。 / Ensure that the points are classified into 2 clusters.",
         "hidden": false,
         "locked": false
        },
        {
         "code": ">>> np.all(q22_labels == np.array([1, 1, 1, 1, 1, 0, 0, 0, 0])) or np.all(q22_labels == np.array([0, 0, 0, 0, 0, 1, 1, 1, 1]))\nnp.True_",
         "failure_message": "クラスタリング結果が誤っています。異なるクラスタリング手法や異なるデータを使っていないか確認してください。 / The clustering result is incorrect. Check if you are using different clustering methods or different data.",
         "hidden": false,
         "locked": false
        }
       ],
       "scored": true,
       "setup": "",
       "teardown": "",
       "type": "doctest"
      }
     ]
    }
   }
  }
 },
 "nbformat": 4,
 "nbformat_minor": 0
}
