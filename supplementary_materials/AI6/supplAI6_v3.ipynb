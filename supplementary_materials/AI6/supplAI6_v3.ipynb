{
 "cells": [
  {
   "cell_type": "markdown",
   "metadata": {},
   "source": [
    "<img height=\"40px\" src=\"https://science-tokyo.box.com/shared/static/qjfkgaerixyqzkh91r93fnbett6ea0ox.png\">"
   ]
  },
  {
   "cell_type": "code",
   "execution_count": null,
   "metadata": {},
   "outputs": [],
   "source": [
    "# Preparation for auto-grading\n",
    "unit = \"AI6\"\n",
    "!pip install otter-grader \n",
    "!wget https://github.com/keisuke-yanagisawa/isct-efdsai/raw/refs/heads/main/supplementary_materials/{unit}/tests.tar.gz -O {unit}.tar.gz\n",
    "!tar -zxvf {unit}.tar.gz \n",
    "!rm {unit}.tar.gz\n",
    "import otter\n",
    "grader = otter.Notebook()"
   ]
  },
  {
   "cell_type": "markdown",
   "metadata": {},
   "source": [
    "# 基盤人工知能演習 第6回 ニューラルネットワークによる多クラス分類 補習資料"
   ]
  },
  {
   "cell_type": "markdown",
   "metadata": {},
   "source": [
    "# Supplemental Material: Exercises in Fundamentals of Data Science (6) - \tAI6: Multi-class Classification with Neural Networks"
   ]
  },
  {
   "cell_type": "markdown",
   "metadata": {},
   "source": [
    "## 1 | 手書き数字を用いた多クラス分類"
   ]
  },
  {
   "cell_type": "markdown",
   "metadata": {},
   "source": [
    "## 1 | Multi-class Classification using Handwritten Digits"
   ]
  },
  {
   "cell_type": "markdown",
   "metadata": {},
   "source": [
    "#### 事前準備"
   ]
  },
  {
   "cell_type": "markdown",
   "metadata": {},
   "source": [
    "#### Preparation"
   ]
  },
  {
   "cell_type": "code",
   "execution_count": null,
   "metadata": {},
   "outputs": [],
   "source": [
    "%pip install livelossplot"
   ]
  },
  {
   "cell_type": "code",
   "execution_count": null,
   "metadata": {},
   "outputs": [],
   "source": [
    "# load digits dataset\n",
    "\n",
    "from sklearn.datasets import load_digits\n",
    "from sklearn.model_selection import train_test_split\n",
    "\n",
    "X, y = load_digits(return_X_y=True)\n",
    "\n",
    "# train: 80%, val: 10%, test: 10%\n",
    "X_train, X_test, y_train, y_test = train_test_split(X, y, test_size=1/10, random_state=42)\n",
    "X_train, X_val, y_train, y_val = train_test_split(X_train, y_train, test_size=1/9, random_state=42)"
   ]
  },
  {
   "cell_type": "code",
   "execution_count": null,
   "metadata": {},
   "outputs": [],
   "source": [
    "# scale data using StandardScaler (z-score normalization) to stabilize learning rates\n",
    "# scaling is done on the training set, and the same scaling is applied to the validation and test sets\n",
    "# this is to prevent data leakage (i.e., information from the validation or test sets being used to scale the training set)\n",
    "from sklearn.preprocessing import StandardScaler\n",
    "\n",
    "scaler = StandardScaler()\n",
    "X_train = scaler.fit_transform(X_train)\n",
    "X_val = scaler.transform(X_val)\n",
    "X_test = scaler.transform(X_test)"
   ]
  },
  {
   "cell_type": "code",
   "execution_count": null,
   "metadata": {},
   "outputs": [],
   "source": [
    "import torch\n",
    "\n",
    "X_train_torch = torch.tensor(X_train, dtype=torch.float)\n",
    "y_train_torch = torch.tensor(y_train, dtype=torch.long)\n",
    "train_dataset = torch.utils.data.TensorDataset(X_train_torch, y_train_torch)\n",
    "\n",
    "X_val_torch = torch.tensor(X_val, dtype=torch.float)\n",
    "y_val_torch = torch.tensor(y_val, dtype=torch.long)\n",
    "val_dataset = torch.utils.data.TensorDataset(X_val_torch, y_val_torch)\n",
    "\n",
    "X_test_torch = torch.tensor(X_test, dtype=torch.float)\n",
    "y_test_torch = torch.tensor(y_test, dtype=torch.long)\n",
    "test_dataset = torch.utils.data.TensorDataset(X_test_torch, y_test_torch)\n"
   ]
  },
  {
   "cell_type": "code",
   "execution_count": null,
   "metadata": {},
   "outputs": [],
   "source": [
    "# Create data loaders\n",
    "batch_size = 16\n",
    "train_loader = torch.utils.data.DataLoader(train_dataset, batch_size=batch_size, shuffle=True)\n",
    "val_loader = torch.utils.data.DataLoader(val_dataset, batch_size=batch_size, shuffle=True)\n",
    "test_loader  = torch.utils.data.DataLoader(test_dataset,  batch_size=batch_size, shuffle=True)"
   ]
  },
  {
   "cell_type": "code",
   "execution_count": null,
   "metadata": {},
   "outputs": [],
   "source": [
    "def update_model(model, loss_fn, opt, train_loader):\n",
    "  train_loss = 0\n",
    "  train_correct = 0\n",
    "  train_count = len(train_loader.dataset)\n",
    "  \n",
    "  for X, y in train_loader:\n",
    "    y_pred = model(X) \n",
    "    \n",
    "    _, predicted = torch.max(y_pred.data, 1) \n",
    "    train_correct += (predicted == y).sum().item() \n",
    "    \n",
    "    loss = loss_fn(y_pred, y)        \n",
    "    train_loss += loss.item()*len(y)\n",
    "    \n",
    "    opt.zero_grad()\n",
    "    loss.backward()\n",
    "    opt.step()\n",
    "    \n",
    "  mean_train_loss = train_loss / train_count\n",
    "  train_accuracy = train_correct / train_count\n",
    "  \n",
    "  return mean_train_loss, train_accuracy    "
   ]
  },
  {
   "cell_type": "code",
   "execution_count": null,
   "metadata": {},
   "outputs": [],
   "source": [
    "def evaluate_model(model, loss_fn, dataloader):\n",
    "  model.eval()\n",
    "\n",
    "  valid_loss = 0\n",
    "  valid_correct = 0\n",
    "  valid_count = len(dataloader.dataset)\n",
    "\n",
    "  for X, y in dataloader:\n",
    "    y_pred = model(X)\n",
    "    \n",
    "    _, predicted = torch.max(y_pred.data, 1) \n",
    "    valid_correct += (predicted == y).sum().item()\n",
    "    \n",
    "    loss = loss_fn(y_pred, y)\n",
    "    valid_loss += loss.item()*len(y)\n",
    "    \n",
    "  mean_valid_loss = valid_loss / valid_count\n",
    "  valid_accuracy = valid_correct / valid_count\n",
    "\n",
    "  model.train()\n",
    "  return mean_valid_loss, valid_accuracy"
   ]
  },
  {
   "cell_type": "code",
   "execution_count": null,
   "metadata": {},
   "outputs": [],
   "source": [
    "from livelossplot import PlotLosses\n",
    "def train(model, loss_fn, opt, train_loader, valid_loader, epoch=50, verbose=True):\n",
    "  if verbose:\n",
    "    liveloss = PlotLosses() # Initialize the drawing\n",
    "  for i in range(epoch):\n",
    "    train_loss, train_accuracy = update_model(model, loss_fn, opt, train_loader)\n",
    "    valid_loss, valid_accuracy = evaluate_model(model, loss_fn, valid_loader)\n",
    "\n",
    "    if verbose:\n",
    "      liveloss.update({\n",
    "          'loss': train_loss,\n",
    "          'val_loss': valid_loss,\n",
    "          'accuracy': train_accuracy,\n",
    "          'val_accuracy': valid_accuracy,\n",
    "      })\n",
    "      liveloss.draw()  \n",
    "  if verbose:\n",
    "    print('Accuracy: {:.4f} (valid), {:.4f} (train)'.format(valid_accuracy, train_accuracy))\n",
    "  return model # Return the trained model"
   ]
  },
  {
   "cell_type": "markdown",
   "metadata": {},
   "source": [
    "#### 練習問題 1-1 | 交差エントロピー誤差の計算\n"
   ]
  },
  {
   "cell_type": "markdown",
   "metadata": {},
   "source": [
    "#### Exercise 1-1 | Calculation of Cross-Entropy Loss\n"
   ]
  },
  {
   "cell_type": "markdown",
   "metadata": {
    "deletable": false,
    "editable": false
   },
   "source": [
    "ある予測モデルに対してあるデータを入力したところ、予測結果 `q11_y_pred = (0.0, 0.0, 0.1, 0.5, 0.0, 0.2, 0.0, 0.1, 0.1, 0.0)` が得られた。正解ラベルが `q11_y_true = 3` （対応する予測確率は `0.5` ）であった時の交差エントロピー誤差`q11_loss`を算出せよ。"
   ]
  },
  {
   "cell_type": "markdown",
   "metadata": {
    "deletable": false,
    "editable": false
   },
   "source": [
    "For a given prediction model with input data, the prediction result `q11_y_pred = (0.0, 0.0, 0.1, 0.5, 0.0, 0.2, 0.0, 0.1, 0.1, 0.0)` was obtained. Calculate the cross-entropy loss `q11_loss` when the true label is `q11_y_true = 3` (with the corresponding predicted probability of `0.5`)."
   ]
  },
  {
   "cell_type": "code",
   "execution_count": null,
   "metadata": {
    "tags": [
     "otter_answer_cell"
    ]
   },
   "outputs": [],
   "source": [
    "\n",
    "q11_y_pred = (0.0, 0.0, 0.1, 0.5, 0.0, 0.2, 0.0, 0.1, 0.1, 0.0)\n",
    "q11_y_true = 3\n"
   ]
  },
  {
   "cell_type": "code",
   "execution_count": null,
   "metadata": {
    "tags": [
     "otter_answer_cell"
    ]
   },
   "outputs": [],
   "source": [
    "from torch import nn\n",
    "import torch\n",
    "loss=nn.CrossEntropyLoss()\n",
    "q11_loss= ...\n",
    "q11_loss"
   ]
  },
  {
   "cell_type": "code",
   "execution_count": null,
   "metadata": {
    "deletable": false,
    "editable": false
   },
   "outputs": [],
   "source": [
    "grader.check(\"Exercise 1-1\")"
   ]
  },
  {
   "cell_type": "markdown",
   "metadata": {},
   "source": [
    "#### 練習問題 1-2 | 予測モデル構築の練習"
   ]
  },
  {
   "cell_type": "markdown",
   "metadata": {},
   "source": [
    "#### Exercise 1-2 | Practice Building a Prediction Model"
   ]
  },
  {
   "cell_type": "markdown",
   "metadata": {},
   "source": [
    "以下のコードを実行し、予測モデルを構築せよ。なおこの問題は穴埋め形式ではないので、自動添削対象外である。"
   ]
  },
  {
   "cell_type": "markdown",
   "metadata": {},
   "source": [
    "Run the following code to build a prediction model. Note that this problem is not in fill-in-the-blank format, so it is not subject to automatic grading."
   ]
  },
  {
   "cell_type": "code",
   "execution_count": null,
   "metadata": {
    "metadata": {}
   },
   "outputs": [],
   "source": [
    "torch.manual_seed(42)\n",
    "\n",
    "q12_slp = torch.nn.Sequential(\n",
    "  torch.nn.Linear(8*8, 10),\n",
    ")\n",
    "\n",
    "# Prepare loss functions and optimization methods\n",
    "q12_loss_fn = torch.nn.CrossEntropyLoss()\n",
    "q12_optimizer = torch.optim.SGD(q12_slp.parameters(), lr=0.02)\n",
    "\n",
    "q12_trained_model = train(\n",
    "  q12_slp, \n",
    "  q12_loss_fn, \n",
    "  q12_optimizer, \n",
    "  train_loader, \n",
    "  val_loader,\n",
    "  epoch=15,\n",
    ")"
   ]
  },
  {
   "cell_type": "markdown",
   "metadata": {},
   "source": [
    "#### 練習問題 1-3 | テストデータの予測(1)"
   ]
  },
  {
   "cell_type": "markdown",
   "metadata": {},
   "source": [
    "#### Exercise 1-3 | Prediction on Test Data (1)"
   ]
  },
  {
   "cell_type": "markdown",
   "metadata": {
    "deletable": false,
    "editable": false
   },
   "source": [
    "`evaluate_model()` 関数を用いて `test_loader` に含まれる全てのテストデータについて予測し、平均 loss および正解率を算出せよ。"
   ]
  },
  {
   "cell_type": "markdown",
   "metadata": {
    "deletable": false,
    "editable": false
   },
   "source": [
    "Using the `evaluate_model()` function, predict all test data contained in `test_loader` and calculate the average loss and accuracy."
   ]
  },
  {
   "cell_type": "code",
   "execution_count": null,
   "metadata": {
    "tags": [
     "otter_answer_cell"
    ]
   },
   "outputs": [],
   "source": [
    "# 正答例を記述するセル\n",
    "# 下記テストケースについて、テストが実行できるように各変数を定めるようにしてください。問題文に変数名を追加しても構いません。\n",
    "# 結果を安定させるために、 torch.manual_seed(0) を最初に実行するようにしてください。\n",
    "import torch\n",
    "torch.manual_seed(0)\n",
    "q13_loss, q13_acc = ..."
   ]
  },
  {
   "cell_type": "code",
   "execution_count": null,
   "metadata": {
    "tags": [
     "otter_answer_cell"
    ]
   },
   "outputs": [],
   "source": [
    "print(q13_loss,q13_acc)"
   ]
  },
  {
   "cell_type": "code",
   "execution_count": null,
   "metadata": {
    "deletable": false,
    "editable": false
   },
   "outputs": [],
   "source": [
    "grader.check(\"Exercise 1-3\")"
   ]
  },
  {
   "cell_type": "markdown",
   "metadata": {},
   "source": [
    "#### 練習問題 1-4 | テストデータの予測(2)"
   ]
  },
  {
   "cell_type": "markdown",
   "metadata": {},
   "source": [
    "#### Exercise 1-4 | Prediction on Test Data (2)"
   ]
  },
  {
   "cell_type": "markdown",
   "metadata": {
    "deletable": false,
    "editable": false
   },
   "source": [
    "以下のコードは、入力に対してモデルが出力する確率を計算する関数 `predict_proba()` である。先ほど訓練したモデル `q12_trained_model` を使ってテストデータの0件目の手書き文字である `q14_X_test` を予測した時に、最も予測確率の高い数字と、その確率を算出せよ。"
   ]
  },
  {
   "cell_type": "markdown",
   "metadata": {
    "deletable": false,
    "editable": false
   },
   "source": [
    "The following code is the function `predict_proba()` which calculates the probabilities that the model outputs for the input. Use the trained model `q12_trained_model` to predict the first handwritten digit from the test data `q14_X_test`, and calculate the digit with the highest predicted probability and that probability."
   ]
  },
  {
   "cell_type": "code",
   "execution_count": null,
   "metadata": {
    "deletable": false,
    "editable": false
   },
   "outputs": [],
   "source": [
    "def predict_proba(model, X):\n",
    "  model.eval()\n",
    "  with torch.no_grad():\n",
    "    y_pred = model(X).softmax(dim=1)\n",
    "  model.train()\n",
    "  return y_pred"
   ]
  },
  {
   "cell_type": "code",
   "execution_count": null,
   "metadata": {
    "tags": [
     "otter_answer_cell"
    ]
   },
   "outputs": [],
   "source": [
    "q14_X_test = X_test_torch[:1] # Get only the first test data, which becomes (1, 64) torch.tensor\n",
    "q14_X_test_copy = X_test_torch[:1] # for auto grading purpose"
   ]
  },
  {
   "cell_type": "code",
   "execution_count": null,
   "metadata": {
    "tags": [
     "otter_answer_cell"
    ]
   },
   "outputs": [],
   "source": [
    "... \n",
    "q14_max_num = ...\n",
    "...\n",
    "q14_max_prob = ...\n",
    "\n",
    "print(q14_max_num, q14_max_prob)"
   ]
  },
  {
   "cell_type": "code",
   "execution_count": null,
   "metadata": {
    "deletable": false,
    "editable": false
   },
   "outputs": [],
   "source": [
    "grader.check(\"Exercise 1-4\")"
   ]
  },
  {
   "cell_type": "markdown",
   "metadata": {},
   "source": [
    "#### 練習問題 1-5 | 多層パーセプトロンの構築"
   ]
  },
  {
   "cell_type": "markdown",
   "metadata": {},
   "source": [
    "#### Exercise 1-5 | Building a Multi-layer Perceptron"
   ]
  },
  {
   "cell_type": "markdown",
   "metadata": {
    "deletable": false,
    "editable": false
   },
   "source": [
    "`torch.nn.Linear(8*8, 32)`, `torch.nn.Sigmoid()`, `torch.nn.Linear(32, 10)` を直列につないだ `q15_mlp` を作成し、学習を行え。"
   ]
  },
  {
   "cell_type": "markdown",
   "metadata": {
    "deletable": false,
    "editable": false
   },
   "source": [
    "Create `q15_mlp` by connecting `torch.nn.Linear(8*8, 32)`, `torch.nn.Sigmoid()`, and `torch.nn.Linear(32, 10)` in series, and perform training."
   ]
  },
  {
   "cell_type": "code",
   "execution_count": null,
   "metadata": {
    "tags": [
     "otter_answer_cell"
    ]
   },
   "outputs": [],
   "source": [
    "torch.manual_seed(0)\n",
    "\n",
    "q15_mlp = ...\n",
    "\n",
    "# Prepare loss functions and optimization methods\n",
    "q15_loss_fn = torch.nn.CrossEntropyLoss()\n",
    "q15_optimizer = ...\n",
    "\n",
    "q15_trained_model = train(\n",
    "  q15_mlp, \n",
    "  q15_loss_fn, \n",
    "  q15_optimizer, \n",
    "  train_loader, \n",
    "  val_loader,\n",
    "  epoch=15\n",
    ")"
   ]
  },
  {
   "cell_type": "code",
   "execution_count": null,
   "metadata": {
    "deletable": false,
    "editable": false
   },
   "outputs": [],
   "source": [
    "grader.check(\"Exercise 1-5\")"
   ]
  },
  {
   "cell_type": "markdown",
   "metadata": {},
   "source": [
    "#### 練習問題 1-6 | ReLU の動作確認"
   ]
  },
  {
   "cell_type": "markdown",
   "metadata": {},
   "source": [
    "#### Exercise 1-6 | Confirming ReLU Functionality"
   ]
  },
  {
   "cell_type": "markdown",
   "metadata": {
    "deletable": false,
    "editable": false
   },
   "source": [
    "$ReLU(x)$ について、`q16_x1 = -1`, `q16_x2 = 1` をそれぞれ $ReLU(x)$ の入力としたときの値 `q16_y1`, `q16_y2`と、勾配 `q16_g1`, `q16_g2` を計算せよ。ただし、ある torch.tensor `x` について、 `x.relu()` とすることで計算ができる。また、勾配は `backward()` を利用して計算すること。"
   ]
  },
  {
   "cell_type": "markdown",
   "metadata": {
    "deletable": false,
    "editable": false
   },
   "source": [
    "For $ReLU(x)$, calculate the values `q16_y1` and `q16_y2` and the gradients `q16_g1` and `q16_g2` when `q16_x1 = -1` and `q16_x2 = 1` are used as inputs to $ReLU(x)$. For a given torch.tensor `x`, the calculation can be performed using `x.relu()`. Also, calculate the gradients using `backward()`."
   ]
  },
  {
   "cell_type": "code",
   "execution_count": null,
   "metadata": {
    "tags": [
     "otter_answer_cell"
    ]
   },
   "outputs": [],
   "source": [
    "\n",
    "q16_x1=torch.tensor(-1.0, requires_grad=True)\n",
    "q16_x2=torch.tensor(1.0, requires_grad=True)\n",
    "\n",
    "q16_y1 = ...\n",
    "q16_g1 = ...\n",
    "q16_y2 = ...\n",
    "q16_g2 = ...\n",
    "\n",
    "print(q16_y1,q16_g1)\n",
    "print(q16_y2,q16_g2)"
   ]
  },
  {
   "cell_type": "code",
   "execution_count": null,
   "metadata": {
    "deletable": false,
    "editable": false
   },
   "outputs": [],
   "source": [
    "grader.check(\"Exercise 1-6\")"
   ]
  },
  {
   "cell_type": "markdown",
   "metadata": {},
   "source": [
    "#### 練習問題 1-7 | Dropout の動作確認"
   ]
  },
  {
   "cell_type": "markdown",
   "metadata": {},
   "source": [
    "#### Exercise 1-7 | Confirming Dropout Functionality"
   ]
  },
  {
   "cell_type": "markdown",
   "metadata": {
    "deletable": false,
    "editable": false
   },
   "source": [
    "2件の5次元ベクトル torch.tensor `q17_in` （`q17_in.shape = torch.Size([2, 5])`となるはずだ）を任意の値で準備し、`torch.nn.Dropout()` に入力したときの出力 `q17_out` を求めよ。"
   ]
  },
  {
   "cell_type": "markdown",
   "metadata": {
    "deletable": false,
    "editable": false
   },
   "source": [
    "Prepare two 5-dimensional vectors `q17_in` (which should have `q17_in.shape = torch.Size([2, 5])`) with arbitrary values, and calculate the output `q17_out` when inputting it into `torch.nn.Dropout()`."
   ]
  },
  {
   "cell_type": "code",
   "execution_count": null,
   "metadata": {
    "tags": [
     "otter_answer_cell"
    ]
   },
   "outputs": [],
   "source": [
    "torch.manual_seed(0)\n",
    "q17_in = ...\n",
    "q17_dropout = torch.nn.Dropout()\n",
    "q17_out = ..."
   ]
  },
  {
   "cell_type": "code",
   "execution_count": null,
   "metadata": {
    "deletable": false,
    "editable": false
   },
   "outputs": [],
   "source": [
    "grader.check(\"Exercise 1-7\")"
   ]
  },
  {
   "cell_type": "markdown",
   "metadata": {},
   "source": [
    "#### 練習問題 1-8 | 予測モデルの汎化性能評価"
   ]
  },
  {
   "cell_type": "markdown",
   "metadata": {},
   "source": [
    "#### Exercise 1-8 | Evaluating Generalization Performance of the Prediction Model"
   ]
  },
  {
   "cell_type": "markdown",
   "metadata": {
    "deletable": false,
    "editable": false
   },
   "source": [
    "以下に与えられるニューラルネットワーク `q18_nn` について訓練を行い、テストデータに対する正解率 `q18_test_acc` を `evaluate_model()` 関数を用いて求めよ。ただし、損失関数は `torch.nn.CrossEntropyLoss()` 、最適化手法は `torch.optim.SGD()` を用い、学習率は `0.05` とすること。"
   ]
  },
  {
   "cell_type": "markdown",
   "metadata": {
    "deletable": false,
    "editable": false
   },
   "source": [
    "Train the given neural network `q18_nn` and use the `evaluate_model()` function to calculate the accuracy `q18_test_acc` on the test data. Use the loss function `torch.nn.CrossEntropyLoss()` and the optimization method `torch.optim.SGD()` with a learning rate of `0.05`."
   ]
  },
  {
   "cell_type": "code",
   "execution_count": null,
   "metadata": {
    "tags": [
     "otter_answer_cell"
    ]
   },
   "outputs": [],
   "source": [
    "torch.manual_seed(0)\n",
    "q18_nn = torch.nn.Sequential(\n",
    "  torch.nn.Linear(8*8, 32),\n",
    "  torch.nn.ReLU(),\n",
    "  torch.nn.Dropout(0.5),\n",
    "  torch.nn.Linear(32, 10),\n",
    ")\n",
    " "
   ]
  },
  {
   "cell_type": "code",
   "execution_count": null,
   "metadata": {
    "tags": [
     "otter_answer_cell"
    ]
   },
   "outputs": [],
   "source": [
    "q18_loss_fn = ...\n",
    "q18_optimizer = ..."
   ]
  },
  {
   "cell_type": "code",
   "execution_count": null,
   "metadata": {
    "tags": [
     "otter_answer_cell"
    ]
   },
   "outputs": [],
   "source": [
    "torch.manual_seed(0)\n",
    "q18_train=train(\n",
    "    q18_nn,\n",
    "    q18_loss_fn,\n",
    "    q18_optimizer,\n",
    "    train_loader,\n",
    "    val_loader\n",
    ")\n",
    "\n",
    "_,q18_test_acc = evaluate_model(q18_train,q18_loss_fn,test_loader)\n"
   ]
  },
  {
   "cell_type": "code",
   "execution_count": null,
   "metadata": {
    "deletable": false,
    "editable": false
   },
   "outputs": [],
   "source": [
    "grader.check(\"Exercise 1-8\")"
   ]
  }
 ],
 "metadata": {
  "kernelspec": {
   "display_name": "base",
   "language": "python",
   "name": "python3"
  },
  "language_info": {
   "codemirror_mode": {
    "name": "ipython",
    "version": 3
   },
   "file_extension": ".py",
   "mimetype": "text/x-python",
   "name": "python",
   "nbconvert_exporter": "python",
   "pygments_lexer": "ipython3",
   "version": "3.11.10"
  }
 },
 "nbformat": 4,
 "nbformat_minor": 2
}
