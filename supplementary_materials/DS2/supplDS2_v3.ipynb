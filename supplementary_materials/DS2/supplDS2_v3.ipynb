{
 "cells": [
  {
   "cell_type": "markdown",
   "metadata": {},
   "source": [
    "<img height=\"40px\" src=\"https://science-tokyo.box.com/shared/static/pf4c5uu92wk1hfv7msyarksbyegwgs2z.png\">"
   ]
  },
  {
   "cell_type": "code",
   "execution_count": null,
   "metadata": {},
   "outputs": [],
   "source": [
    "# Preparation for auto-grading\n",
    "unit = \"DS2\"\n",
    "!pip install otter-grader \n",
    "!wget https://github.com/keisuke-yanagisawa/isct-efdsai/raw/refs/heads/main/supplementary_materials/{unit}/tests.tar.gz -O {unit}.tar.gz\n",
    "!tar -zxvf {unit}.tar.gz \n",
    "!rm {unit}.tar.gz\n",
    "import otter\n",
    "grader = otter.Notebook()"
   ]
  },
  {
   "cell_type": "markdown",
   "metadata": {},
   "source": [
    "# 基盤データサイエンス演習 第2回 記述統計と推測統計 補習資料"
   ]
  },
  {
   "cell_type": "markdown",
   "metadata": {},
   "source": [
    "# Suupelentary Materials: Exercises in Fundamental of Data Science 2 - Descriptive and Inferential Statistics"
   ]
  },
  {
   "cell_type": "markdown",
   "metadata": {
    "id": "nIWu0KHd5qgP"
   },
   "source": [
    "## 1 | 記述統計"
   ]
  },
  {
   "cell_type": "markdown",
   "metadata": {},
   "source": [
    "## 1 | Descriptive Statistics"
   ]
  },
  {
   "cell_type": "markdown",
   "metadata": {
    "id": "FgHD4XBt5qgP"
   },
   "source": [
    "#### 事前準備"
   ]
  },
  {
   "cell_type": "markdown",
   "metadata": {},
   "source": [
    "#### Preliminaries"
   ]
  },
  {
   "cell_type": "code",
   "execution_count": null,
   "metadata": {
    "id": "EHVfOndQ5qgQ"
   },
   "outputs": [],
   "source": [
    "import pandas as pd"
   ]
  },
  {
   "cell_type": "code",
   "execution_count": null,
   "metadata": {},
   "outputs": [],
   "source": [
    "q1_df_small = pd.DataFrame([[1.0,2.0,3.0, \"first\"],[4.0,5.0,6.0, \"second\"],[7.0,8.0,9.0, \"third\"]], columns=[\"column_A\",\"column_B\",\"column_C\", \"column_D\"])\n",
    "print(q1_df_small)"
   ]
  },
  {
   "cell_type": "code",
   "execution_count": null,
   "metadata": {},
   "outputs": [],
   "source": [
    "import numpy as np\n",
    "q1_df_large = pd.DataFrame(np.arange(-1,1, 0.0005).reshape((1000, 4)), columns=list('abcd')).sample(frac=1)\n",
    "print(q1_df_large)"
   ]
  },
  {
   "cell_type": "markdown",
   "metadata": {},
   "source": [
    "#### 練習問題 1-1 | pandasデータフレームによる平均値の算出"
   ]
  },
  {
   "cell_type": "markdown",
   "metadata": {},
   "source": [
    "#### Exercise 1-1 | Calculating the Mean with pandas DataFrame"
   ]
  },
  {
   "cell_type": "markdown",
   "metadata": {
    "deletable": false,
    "editable": false,
    "id": "a0StRQcy5qgS"
   },
   "source": [
    "`q1_df_small`について、`column_A` 列の平均値を求め、変数 `q11_mean_colA` に代入せよ。ただし、`pandas` が持つ関数（メソッド）を利用すること（`+` 演算子を使って計算してはならない）。\n",
    "\n",
    "また、同様に `q1_df_large` について、 `c` 列の最大値を求め、変数 `q11_max_colc` に代入せよ。こちらも同様に `pandas` が持つ関数（メソッド）を利用し、if文やfor文を使って計算してはならない。"
   ]
  },
  {
   "cell_type": "markdown",
   "metadata": {
    "deletable": false,
    "editable": false
   },
   "source": [
    "For `q1_df_small`, calculate the mean of the `column_A` column and assign it to the variable `q11_mean_colA`. Use a function (method) provided by `pandas` (do not calculate it with the `+` operator).\n",
    "\n",
    "Similarly, for `q1_df_large`, calculate the maximum value in column `c` and assign it to the variable `q11_max_colc`. Use a function (method) provided by `pandas`, and do not use `if` statements or `for` loops for this calculation."
   ]
  },
  {
   "cell_type": "code",
   "execution_count": null,
   "metadata": {
    "colab": {
     "base_uri": "https://localhost:8080/",
     "height": 75
    },
    "id": "FlhOg7kW5qgS",
    "outputId": "4a337d36-97de-4029-f8d4-c44724b41d56",
    "tags": [
     "otter_answer_cell"
    ]
   },
   "outputs": [],
   "source": [
    "q11_mean_small = ...\n",
    "q11_max_large = ..."
   ]
  },
  {
   "cell_type": "code",
   "execution_count": null,
   "metadata": {
    "deletable": false,
    "editable": false
   },
   "outputs": [],
   "source": [
    "grader.check(\"Exercise 1-1\")"
   ]
  },
  {
   "cell_type": "markdown",
   "metadata": {},
   "source": [
    "#### 練習問題 1-2 | 条件を満たす要素の取得"
   ]
  },
  {
   "cell_type": "markdown",
   "metadata": {},
   "source": [
    "#### Exercise 1-2 | Extracting Elements that Satisfy a Condition"
   ]
  },
  {
   "cell_type": "markdown",
   "metadata": {
    "deletable": false,
    "editable": false,
    "id": "XToBP3w35qgU"
   },
   "source": [
    "`q1_df_small` について、`column_B` 列の値が 4 より大きい要素の件数を求め、変数 `q12_count_small` に代入せよ。\n",
    "\n",
    "また、`q1_df_large` について、 `d` 列の値が 0 より小さい要素を取り出し、それらの行を含むデータフレームを変数 `q12_partial_df_large` に代入せよ。"
   ]
  },
  {
   "cell_type": "markdown",
   "metadata": {
    "deletable": false,
    "editable": false
   },
   "source": [
    "For `q1_df_small`, count the elements in the `column_B` column that are greater than 4 and assign the count to the variable `q12_count_small`.\n",
    "\n",
    "Additionally, for `q1_df_large`, extract the rows where the values in column `d` are less than 0 and assign this filtered DataFrame to the variable `q12_partial_df_large`.\n",
    "\n"
   ]
  },
  {
   "cell_type": "code",
   "execution_count": null,
   "metadata": {
    "colab": {
     "base_uri": "https://localhost:8080/",
     "height": 75
    },
    "id": "3ACVckH05qgU",
    "outputId": "5f47ba4f-9bd4-4961-dbbc-7db5ff662f42",
    "tags": [
     "otter_answer_cell"
    ]
   },
   "outputs": [],
   "source": [
    "q12_count_small = ...\n",
    "q12_partial_df_large = ..."
   ]
  },
  {
   "cell_type": "code",
   "execution_count": null,
   "metadata": {
    "deletable": false,
    "editable": false
   },
   "outputs": [],
   "source": [
    "grader.check(\"Exercise 1-2\")"
   ]
  },
  {
   "cell_type": "markdown",
   "metadata": {},
   "source": [
    "## 2 | 推測統計"
   ]
  },
  {
   "cell_type": "markdown",
   "metadata": {},
   "source": [
    "## 2 | Inferential Statistics"
   ]
  },
  {
   "cell_type": "markdown",
   "metadata": {},
   "source": [
    "#### 事前準備"
   ]
  },
  {
   "cell_type": "markdown",
   "metadata": {},
   "source": [
    "#### Preliminaries"
   ]
  },
  {
   "cell_type": "code",
   "execution_count": null,
   "metadata": {},
   "outputs": [],
   "source": [
    "import random\n",
    "\n",
    "# Generate a single sample consisting of n data\n",
    "def gen_sample(n, mean, var):\n",
    "    sample = []\n",
    "    for i in range(n):\n",
    "        sample.append(random.gauss(mean, var**0.5))\n",
    "    return sample\n"
   ]
  },
  {
   "cell_type": "markdown",
   "metadata": {
    "id": "saroF1iy51qR"
   },
   "source": [
    "#### 練習問題 2-1 | 母平均と標本平均"
   ]
  },
  {
   "cell_type": "markdown",
   "metadata": {},
   "source": [
    "#### Exercise 2-1 | Population Mean and Sample Mean"
   ]
  },
  {
   "cell_type": "markdown",
   "metadata": {
    "deletable": false,
    "editable": false,
    "id": "f-PSyrue6iq1"
   },
   "source": [
    "関数 `gen_sample()` を利用して、母平均 0.5、母分散 1.0 の正規分布からサンプルを生成し、その標本平均を `q21_sample_mean` に代入せよ。ただし、得られた標本平均が誤差 0.1 以内に収まるように、適切なサンプルサイズを設定せよ。"
   ]
  },
  {
   "cell_type": "markdown",
   "metadata": {
    "deletable": false,
    "editable": false
   },
   "source": [
    "Using the `gen_sample()` function, generate a sample from a normal distribution with a population mean of 0.5 and a population variance of 1.0. Calculate the sample mean and assign it to `q21_sample_mean`. Set the sample size so that the resulting sample mean is within an error of 0.1."
   ]
  },
  {
   "cell_type": "code",
   "execution_count": null,
   "metadata": {
    "id": "pAdtzt9B7ToB",
    "tags": [
     "otter_answer_cell"
    ]
   },
   "outputs": [],
   "source": [
    "q21_sample = ...\n",
    "q21_sample_mean = ...\n",
    "print(q21_sample_mean)"
   ]
  },
  {
   "cell_type": "code",
   "execution_count": null,
   "metadata": {
    "deletable": false,
    "editable": false
   },
   "outputs": [],
   "source": [
    "grader.check(\"Exercise 2-1\")"
   ]
  },
  {
   "cell_type": "markdown",
   "metadata": {
    "id": "JpuoOclX6FE3"
   },
   "source": [
    "#### 練習問題 2-2 | 母分散の変化と標本平均の精度の変化"
   ]
  },
  {
   "cell_type": "markdown",
   "metadata": {},
   "source": [
    "#### Exercise 2-2 | Changes in Population Variance and Accuracy of Sample Mean"
   ]
  },
  {
   "cell_type": "markdown",
   "metadata": {
    "deletable": false,
    "editable": false,
    "id": "TYVOBzEz8T_T"
   },
   "source": [
    "関数 `gen_sample()` を利用して、母平均 0.5、母分散 **100.0** の正規分布からサンプルを生成し、その標本平均を `q22_sample_mean` に代入せよ。ただし、得られた標本平均が誤差 0.1 以内に収まるように、適切なサンプルサイズを設定せよ。"
   ]
  },
  {
   "cell_type": "markdown",
   "metadata": {
    "deletable": false,
    "editable": false
   },
   "source": [
    "Using the `gen_sample()` function, generate a sample from a normal distribution with a population mean of 0.5 and a population variance of **100.0**. Calculate the sample mean and assign it to `q22_sample_mean`. Set the sample size so that the resulting sample mean is within an error of 0.1."
   ]
  },
  {
   "cell_type": "code",
   "execution_count": null,
   "metadata": {
    "id": "dkv48MSL9_hJ",
    "tags": [
     "otter_answer_cell"
    ]
   },
   "outputs": [],
   "source": [
    "q22_sample = ...\n",
    "q22_sample_mean = ...\n",
    "print(q22_sample_mean)"
   ]
  },
  {
   "cell_type": "code",
   "execution_count": null,
   "metadata": {
    "deletable": false,
    "editable": false
   },
   "outputs": [],
   "source": [
    "grader.check(\"Exercise 2-2\")"
   ]
  },
  {
   "cell_type": "markdown",
   "metadata": {},
   "source": [
    "#### 練習問題 2-3 | 母平均と母分散の推定 (1)"
   ]
  },
  {
   "cell_type": "markdown",
   "metadata": {},
   "source": [
    "#### Exercise 2-3 | Estimating Population Mean and Population Variance (1)"
   ]
  },
  {
   "cell_type": "markdown",
   "metadata": {
    "deletable": false,
    "editable": false
   },
   "source": [
    "あるサンプル `q23_sample = [0.85, 0.92, 0.45, 0.15, 1.20]` は何らかの母集団から得られたものであるとする。このサンプルから母平均と母分散を推定し、それぞれ `q23_estimated_mean` と `q23_estimated_var` に代入せよ。"
   ]
  },
  {
   "cell_type": "markdown",
   "metadata": {
    "deletable": false,
    "editable": false
   },
   "source": [
    "Suppose a sample `q23_sample = [0.85, 0.92, 0.45, 0.15, 1.20]` was obtained from some population. Estimate the population mean and population variance from this sample and assign them to `q23_estimated_mean` and `q23_estimated_var` respectively."
   ]
  },
  {
   "cell_type": "code",
   "execution_count": null,
   "metadata": {
    "tags": [
     "otter_answer_cell"
    ]
   },
   "outputs": [],
   "source": [
    "import statistics\n",
    "q23_sample = [0.85, 0.92, 0.45, 0.15, 1.20]\n",
    "q23_estimated_mean = ...\n",
    "q23_estimated_var = ..."
   ]
  },
  {
   "cell_type": "code",
   "execution_count": null,
   "metadata": {
    "deletable": false,
    "editable": false
   },
   "outputs": [],
   "source": [
    "grader.check(\"Exercise 2-3\")"
   ]
  },
  {
   "cell_type": "markdown",
   "metadata": {},
   "source": [
    "#### 練習問題 2-4 | 母平均と母分散の推定 (2)"
   ]
  },
  {
   "cell_type": "markdown",
   "metadata": {},
   "source": [
    "#### Exercise 2-4 | Estimating Population Mean and Population Variance (2)"
   ]
  },
  {
   "cell_type": "markdown",
   "metadata": {
    "deletable": false,
    "editable": false
   },
   "source": [
    "母平均を推定する関数 `estimate_pop_mean(sample: list[float])` および母分散を推定する関数 `estimate_pop_var(sample: list[float])` を **`statistics` モジュールを使わずに**作成し、先ほどと同じサンプル `q23_sample = [0.85, 0.92, 0.45, 0.15, 1.20]` の母平均と母分散を推定せよ。"
   ]
  },
  {
   "cell_type": "markdown",
   "metadata": {
    "deletable": false,
    "editable": false
   },
   "source": [
    "Create a function `estimate_pop_mean(sample: list[float])` to estimate the population mean, and a function `estimate_pop_var(sample: list[float])` to estimate the population variance **without using the `statistics` module**. Use these functions to estimate the population mean and population variance for the same sample `q23_sample = [0.85, 0.92, 0.45, 0.15, 1.20]`."
   ]
  },
  {
   "cell_type": "code",
   "execution_count": null,
   "metadata": {
    "tags": [
     "otter_answer_cell"
    ]
   },
   "outputs": [],
   "source": [
    "def estimate_pop_mean(sample: list[float]) -> float:\n",
    "    ...\n",
    "\n",
    "\n",
    "def estimate_pop_var(sample: list[float]) -> float:\n",
    "    sample_mean = estimate_pop_mean(sample)\n",
    "    ...\n",
    "\n",
    "\n"
   ]
  },
  {
   "cell_type": "code",
   "execution_count": null,
   "metadata": {
    "deletable": false,
    "editable": false
   },
   "outputs": [],
   "source": [
    "grader.check(\"Exercise 2-4\")"
   ]
  },
  {
   "cell_type": "markdown",
   "metadata": {},
   "source": [
    "#### 練習問題 2-5 | 有意性検定"
   ]
  },
  {
   "cell_type": "markdown",
   "metadata": {},
   "source": [
    "#### Exercise 2-5 | Hypothesis Testing"
   ]
  },
  {
   "cell_type": "markdown",
   "metadata": {
    "deletable": false,
    "editable": false
   },
   "source": [
    "ある母集団からサンプル `[1.0, 5.0, 9.0, 2.0, 0.0, -2.0, 15.0, 13.0, 8.0, 2.0, 5.0, 8.0]` が得られた。「母平均は7.0ではない」か、「母平均は7.0ではないとは言えない」かを1標本のt検定を用いて判定せよ。ただし、検定統計量であるP値は `q25_pvalue` に代入し、帰無仮説が棄却されたか否かを `q25_is_rejected` に真偽値で記録せよ。有意水準は 5% とする。"
   ]
  },
  {
   "cell_type": "markdown",
   "metadata": {
    "deletable": false,
    "editable": false
   },
   "source": [
    "Given a sample `[1.0, 5.0, 9.0, 2.0, 0.0, -2.0, 15.0, 13.0, 8.0, 2.0, 5.0, 8.0]` from a population, conduct a one-sample t-test to determine whether the population mean is not equal to 7.0. Use the p-value as the test statistic and assign it to `q25_pvalue`, and assign a boolean indicating whether the null hypothesis is rejected to `q25_is_rejected`. Set the significance level to 5%."
   ]
  },
  {
   "cell_type": "code",
   "execution_count": null,
   "metadata": {
    "tags": [
     "otter_answer_cell"
    ]
   },
   "outputs": [],
   "source": [
    "import scipy.stats as stats\n",
    "q25_sample = np.array([1.0, 5.0, 9.0, 2.0, 0.0, -2.0, 15.0, 13.0, 8.0, 2.0, 5.0, 8.0])\n",
    "q25_null_hypothesis = ...\n",
    "q25_tvalue, q25_pvalue = stats.ttest_1samp(q25_sample, q25_null_hypothesis)\n",
    "q25_is_rejected = ..."
   ]
  },
  {
   "cell_type": "code",
   "execution_count": null,
   "metadata": {
    "deletable": false,
    "editable": false
   },
   "outputs": [],
   "source": [
    "grader.check(\"Exercise 2-5\")"
   ]
  },
  {
   "cell_type": "markdown",
   "metadata": {},
   "source": [
    "## 3 | matplotlibを利用した図の描画\n"
   ]
  },
  {
   "cell_type": "markdown",
   "metadata": {},
   "source": [
    "## 3 | Drawing Charts with matplotlib"
   ]
  },
  {
   "cell_type": "markdown",
   "metadata": {},
   "source": [
    "#### 事前準備"
   ]
  },
  {
   "cell_type": "markdown",
   "metadata": {},
   "source": [
    "#### Preliminaries"
   ]
  },
  {
   "cell_type": "code",
   "execution_count": null,
   "metadata": {},
   "outputs": [],
   "source": [
    "import random\n",
    "\n",
    "# Generate a single sample consisting of n data\n",
    "def gen_sample(n, mean, var):\n",
    "    sample = []\n",
    "    for i in range(n):\n",
    "        sample.append(random.gauss(mean, var**0.5))\n",
    "    return sample\n"
   ]
  },
  {
   "cell_type": "markdown",
   "metadata": {},
   "source": [
    "#### 練習問題 3-1 | ヒストグラムの描画"
   ]
  },
  {
   "cell_type": "markdown",
   "metadata": {},
   "source": [
    "#### Exercise 3-1 | Drawing a Histogram"
   ]
  },
  {
   "cell_type": "markdown",
   "metadata": {},
   "source": [
    "以下にヒストグラムの描画例を示す。[matplotlibの`hist()`のdocumentation](https://matplotlib.org/stable/api/_as_gen/matplotlib.pyplot.hist.html) を参照しながらコードを修正し、図のどの要素がどのように変化するか確認せよ。（自動採点機能は使わないので、各自実行して確認すること）"
   ]
  },
  {
   "cell_type": "markdown",
   "metadata": {},
   "source": [
    "The following is an example of a histogram. Refer to the [documentation for matplotlib's `hist()`](https://matplotlib.org/stable/api/_as_gen/matplotlib.pyplot.hist.html) and modify the code to observe how different elements of the chart change. (Since the auto-grading function won't be used, please run and confirm the results yourself.)"
   ]
  },
  {
   "cell_type": "code",
   "execution_count": null,
   "metadata": {},
   "outputs": [],
   "source": [
    "import matplotlib.pyplot as plt\n",
    "\n",
    "plt.figure(figsize=(10, 6))\n",
    "plt.rcParams[\"font.size\"] = 18\n",
    "\n",
    "sample1 = gen_sample(500, 0, 1)\n",
    "sample2 = gen_sample(300, 1, 0.2)\n",
    "bins = [-4, -3.5, -3, -2.5, -2, -1.5, -1, -0.5, 0, 0.5, 1, 1.5, 2, 2.5, 3, 3.5, 4]\n",
    "# matplotlib can render LaTeX math expressions\n",
    "plt.hist(sample1, bins=bins, label=\"first sample from $\\mathcal{N}(0,1)$\", alpha=0.8)\n",
    "plt.hist(sample2, bins=bins, label=\"second sample from $\\mathcal{N}(1,0.2)$\", alpha=0.5)\n",
    "plt.legend()\n",
    "plt.xlabel(\"value\")\n",
    "plt.xlim(-3.5, 3.5)\n",
    "plt.ylim(0, 175)\n",
    "plt.ylabel(\"count\")\n",
    "plt.title(\"An example of histograms $\\mathcal{N}(0,1)$ and $\\mathcal{N}(1,0.2)$\")\n",
    "plt.show()"
   ]
  }
 ],
 "metadata": {
  "colab": {
   "provenance": []
  },
  "kernelspec": {
   "display_name": "base",
   "language": "python",
   "name": "python3"
  },
  "language_info": {
   "codemirror_mode": {
    "name": "ipython",
    "version": 3
   },
   "file_extension": ".py",
   "mimetype": "text/x-python",
   "name": "python",
   "nbconvert_exporter": "python",
   "pygments_lexer": "ipython3",
   "version": "3.11.10"
  }
 },
 "nbformat": 4,
 "nbformat_minor": 0
}
