{
 "cells": [
  {
   "cell_type": "markdown",
   "metadata": {},
   "source": [
    "<img height=\"40px\" src=\"https://science-tokyo.box.com/shared/static/0rmi6cuye1y11bwgp9kve8ntidsnqgho.png\">"
   ]
  },
  {
   "cell_type": "code",
   "execution_count": null,
   "metadata": {},
   "outputs": [],
   "source": [
    "# Preparation for auto-grading\n",
    "unit = \"suppl_EFAI4\"\n",
    "!pip install otter-grader \n",
    "!wget https://github.com/keisuke-yanagisawa/isct-efdsai/raw/refs/heads/main/supplementary_materials/{unit}/student.tar.gz -O {unit}.tar.gz\n",
    "!tar -zxvf {unit}.tar.gz \n",
    "!rm {unit}.tar.gz\n",
    "%cd student\n",
    "import otter\n",
    "grader = otter.Notebook()"
   ]
  },
  {
   "cell_type": "markdown",
   "metadata": {},
   "source": [
    "# 基盤人工知能演習 第4回 ロジスティック回帰 補習資料"
   ]
  },
  {
   "cell_type": "markdown",
   "metadata": {},
   "source": [
    "# Supplemental Material: Exercises in Fundamentals of Data Science (4) - \tAI4: Logistic Regression"
   ]
  },
  {
   "cell_type": "markdown",
   "metadata": {},
   "source": [
    "## 1 | scikit-learnを使ったロジスティック回帰"
   ]
  },
  {
   "cell_type": "markdown",
   "metadata": {},
   "source": [
    "## 1 | Logistic Regression Using scikit-learn"
   ]
  },
  {
   "cell_type": "markdown",
   "metadata": {},
   "source": [
    "#### 事前準備"
   ]
  },
  {
   "cell_type": "markdown",
   "metadata": {},
   "source": [
    "#### Preparation"
   ]
  },
  {
   "cell_type": "code",
   "execution_count": null,
   "metadata": {
    "metadata": {}
   },
   "outputs": [],
   "source": [
    "import numpy as np"
   ]
  },
  {
   "cell_type": "code",
   "execution_count": null,
   "metadata": {
    "metadata": {}
   },
   "outputs": [],
   "source": [
    "# Creating virtual data\n",
    "np.random.seed(42)\n",
    "n = 40\n",
    "X_train = np.random.randn(n, 2)\n",
    "\n",
    "noise = 1.6 * np.random.randn(n)                             # Noise is included in the results\n",
    "y_train_bool = - X_train[:,0] + 2 * X_train[:,1] + noise > 0 # -x1 + 2 x2 > 0 is defined as positive\n",
    "y_train = np.where(y_train_bool, 1, -1)                      # Convert so that True = 1, False = -1"
   ]
  },
  {
   "cell_type": "code",
   "execution_count": null,
   "metadata": {
    "metadata": {}
   },
   "outputs": [],
   "source": [
    "from sklearn.linear_model import LogisticRegression\n",
    "lr = LogisticRegression(fit_intercept=False) # Do not add a constant term (fit_intercept=False)\n",
    "lr.fit(X_train, y_train)                     # Fit the model"
   ]
  },
  {
   "cell_type": "markdown",
   "metadata": {},
   "source": [
    "#### 練習問題 1-1 | 単一データの予測"
   ]
  },
  {
   "cell_type": "markdown",
   "metadata": {},
   "source": [
    "#### Exercise 1-1 | Predicting Single Data"
   ]
  },
  {
   "cell_type": "markdown",
   "metadata": {
    "deletable": false,
    "editable": false
   },
   "source": [
    "データ $\\boldsymbol{x}_{q_{411}} = (0,4)$ の時の予測モデル `lr` の出力**確率**を変数 `q1_pred_proba` に代入せよ。"
   ]
  },
  {
   "cell_type": "markdown",
   "metadata": {
    "deletable": false,
    "editable": false
   },
   "source": [
    "Assign the output **probability** of the prediction model `lr` for the data $\\boldsymbol{x}_{q_{411}} = (0,4)$ to the variable `q1_pred_proba`."
   ]
  },
  {
   "cell_type": "code",
   "execution_count": null,
   "metadata": {
    "metadata": {},
    "tags": [
     "otter_answer_cell"
    ]
   },
   "outputs": [],
   "source": [
    "x_q11 = np.array([[0,4]])\n",
    "q11_pred_proba = ...\n",
    "print(q11_pred_proba)\n"
   ]
  },
  {
   "cell_type": "code",
   "execution_count": null,
   "metadata": {
    "deletable": false,
    "editable": false
   },
   "outputs": [],
   "source": [
    "grader.check(\"Exercise 1-1\")"
   ]
  },
  {
   "cell_type": "markdown",
   "metadata": {},
   "source": [
    "#### 練習問題 1-2 | 複数データの予測"
   ]
  },
  {
   "cell_type": "markdown",
   "metadata": {},
   "source": [
    "#### Exercise 1-2 | Predicting Multiple Data"
   ]
  },
  {
   "cell_type": "markdown",
   "metadata": {
    "deletable": false,
    "editable": false
   },
   "source": [
    "以下は3つのデータ $\\boldsymbol{X}_{q_{412}} = [[0,2], [4,2], [3,1]]$ の、予測モデル `lr` の予測値 `q12_pred_proba` を計算しようとしたコードである。このコードはエラーを発生させてしまうので、このコードを適切に修正し、`q12_pred_proba` を計算できるようにせよ。"
   ]
  },
  {
   "cell_type": "markdown",
   "metadata": {
    "deletable": false,
    "editable": false
   },
   "source": [
    "The following is the code that attempts to calculate the predicted values `q12_pred_proba` of the prediction model `lr` for three data points $\\boldsymbol{X}_{q_{412}} = [[0,2], [4,2], [3,1]]$. This code raises an error, so modify it appropriately to compute `q12_pred_proba`."
   ]
  },
  {
   "cell_type": "code",
   "execution_count": null,
   "metadata": {
    "metadata": {},
    "tags": [
     "otter_answer_cell"
    ]
   },
   "outputs": [],
   "source": [
    "X_q12 = [0,2, 4,2, 3,1]\n",
    "q12_pred_proba = lr.predict_proba(X_q12)\n",
    "print(q12_pred_proba)\n"
   ]
  },
  {
   "cell_type": "code",
   "execution_count": null,
   "metadata": {
    "deletable": false,
    "editable": false
   },
   "outputs": [],
   "source": [
    "grader.check(\"Exercise 1-2\")"
   ]
  },
  {
   "cell_type": "markdown",
   "metadata": {},
   "source": [
    "#### 練習問題 1-3 | 予測結果の判別"
   ]
  },
  {
   "cell_type": "markdown",
   "metadata": {},
   "source": [
    "#### Exercise 1-3 | Discriminating Prediction Results"
   ]
  },
  {
   "cell_type": "markdown",
   "metadata": {
    "deletable": false,
    "editable": false
   },
   "source": [
    "予測モデル `lr` の、$\\boldsymbol{X}_{q_{413}} = [[1,3], [2,0], [0,-1]]$ に対する予測結果を `q13_pred` に格納せよ。ただし、正例であるときは `1`、負例であるときは `-1` とする。"
   ]
  },
  {
   "cell_type": "markdown",
   "metadata": {
    "deletable": false,
    "editable": false
   },
   "source": [
    "Store the prediction results of the prediction model `lr` for $\\boldsymbol{X}_{q_{413}} = [[1,3], [2,0], [0,-1]]$ in `q13_pred`. If it is a positive case, use `1`; if it is a negative case, use `-1`."
   ]
  },
  {
   "cell_type": "code",
   "execution_count": null,
   "metadata": {
    "tags": [
     "otter_answer_cell"
    ]
   },
   "outputs": [],
   "source": [
    "X_q13 = [[1,3], [2,0], [0,-1]]\n",
    "q13_pred = ...\n",
    "print(q13_pred)"
   ]
  },
  {
   "cell_type": "code",
   "execution_count": null,
   "metadata": {
    "deletable": false,
    "editable": false
   },
   "outputs": [],
   "source": [
    "grader.check(\"Exercise 1-3\")"
   ]
  },
  {
   "cell_type": "markdown",
   "metadata": {},
   "source": [
    "#### 練習問題 1-4 | 新しいデータを用いた予測モデルの構築\n"
   ]
  },
  {
   "cell_type": "markdown",
   "metadata": {},
   "source": [
    "#### Exercise 1-4 | Building a Prediction Model with New Data\n"
   ]
  },
  {
   "cell_type": "markdown",
   "metadata": {
    "deletable": false,
    "editable": false
   },
   "source": [
    "以下の `q14_X_train` および `q14_y_train` を用いて新しいロジスティック回帰予測モデル `q14_lr` を作成せよ。ただし、 `fit_intercept=False` とすること。"
   ]
  },
  {
   "cell_type": "markdown",
   "metadata": {
    "deletable": false,
    "editable": false
   },
   "source": [
    "Using the following `q14_X_train` and `q14_y_train`, create a new logistic regression prediction model `q14_lr`. However, set `fit_intercept=False`."
   ]
  },
  {
   "cell_type": "code",
   "execution_count": null,
   "metadata": {
    "tags": [
     "otter_answer_cell"
    ]
   },
   "outputs": [],
   "source": [
    "q14_X_train = np.array([\n",
    "  [-1.3,  0.2],\n",
    "  [-0.3,  0.3],\n",
    "  [-1.0,  0.2],\n",
    "  [-0.8,  0.1],\n",
    "  [ 1.0,  0.0],\n",
    "  [-0.5, -1.4],\n",
    "  [-0.4,  0.6],\n",
    "  [ 0.2,  0.1],\n",
    "  [-1.5, -0.0],\n",
    "  [ 1.5,  1.9],\n",
    "  [-0.7, -2.1],\n",
    "  [-1.2,  0.2],\n",
    "])\n",
    "q14_y_train = np.array([1,-1,1,1,-1,1,-1,-1,1,-1,1,1])\n",
    "\n",
    "q14_lr = ...\n",
    "..."
   ]
  },
  {
   "cell_type": "code",
   "execution_count": null,
   "metadata": {
    "deletable": false,
    "editable": false
   },
   "outputs": [],
   "source": [
    "grader.check(\"Exercise 1-4\")"
   ]
  },
  {
   "cell_type": "markdown",
   "metadata": {},
   "source": [
    "## 2 | ロジスティック回帰を実装する"
   ]
  },
  {
   "cell_type": "markdown",
   "metadata": {},
   "source": [
    "## 2 | Implementing Logistic Regression"
   ]
  },
  {
   "cell_type": "markdown",
   "metadata": {},
   "source": [
    "#### 練習問題 2-1 | 1変数関数の最小値発見"
   ]
  },
  {
   "cell_type": "markdown",
   "metadata": {},
   "source": [
    "#### Exercise 2-1 | Finding the Minimum of a Single Variable Function"
   ]
  },
  {
   "cell_type": "markdown",
   "metadata": {
    "deletable": false,
    "editable": false
   },
   "source": [
    "$f(x) = - \\frac{\\log_{e}(x)}{x}$ を `q21_f(x)` として定義せよ。\n",
    "の関数形状を matplotlib を用いて描画せよ。ただし、$x = 0.1, 0.2, \\dots, 5.0$ の時の $f(x)$ をそれぞれ求めて描画すれば良いものとする。 "
   ]
  },
  {
   "cell_type": "markdown",
   "metadata": {
    "deletable": false,
    "editable": false
   },
   "source": [
    "Define $f(x) = - \\frac{\\log_{e}(x)}{x}$ as `q21_f(x)`. \n",
    "Plot the function shape using matplotlib. You only need to compute and plot $f(x)$ for $x = 0.1, 0.2, \\dots, 5.0$."
   ]
  },
  {
   "cell_type": "code",
   "execution_count": null,
   "metadata": {
    "tags": [
     "otter_answer_cell"
    ]
   },
   "outputs": [],
   "source": [
    "import numpy as np\n",
    "\n",
    "def q21_f(x):\n",
    "    ..."
   ]
  },
  {
   "cell_type": "code",
   "execution_count": null,
   "metadata": {
    "deletable": false,
    "editable": false
   },
   "outputs": [],
   "source": [
    "grader.check(\"Exercise 2-1\")"
   ]
  },
  {
   "cell_type": "markdown",
   "metadata": {},
   "source": [
    "#### 練習問題 2-2 | 関数の描画"
   ]
  },
  {
   "cell_type": "markdown",
   "metadata": {},
   "source": [
    "#### Exercise 2-2 | Function Plotting"
   ]
  },
  {
   "cell_type": "markdown",
   "metadata": {
    "deletable": false,
    "editable": false
   },
   "source": [
    "練習問題 2-1 で定義した `q21_f(x)` について、(1) $x = 1.0, 0.2, \\dots, 4.9$ の時の $f(x)$ をそれぞれ求め、(2) matplotlib を用いて関数形状を描画せよ。"
   ]
  },
  {
   "cell_type": "markdown",
   "metadata": {
    "deletable": false,
    "editable": false
   },
   "source": [
    "For the function `q21_f(x)` defined in Exercise 2-1, (1) compute $f(x)$ for $x = 1.0, 0.2, \\dots, 4.9$, and (2) plot the function shape using matplotlib."
   ]
  },
  {
   "cell_type": "code",
   "execution_count": null,
   "metadata": {
    "tags": [
     "otter_answer_cell"
    ]
   },
   "outputs": [],
   "source": [
    "import matplotlib.pyplot as plt\n",
    "\n",
    "q22_x = np.arange(1, 5, 0.1) # generate x values from 0.1 to 5.0 as np.ndarray\n",
    "\n",
    "q22_y = ...\n",
    "\n",
    "... # draw the function"
   ]
  },
  {
   "cell_type": "code",
   "execution_count": null,
   "metadata": {
    "deletable": false,
    "editable": false
   },
   "outputs": [],
   "source": [
    "grader.check(\"Exercise 2-2\")"
   ]
  },
  {
   "cell_type": "markdown",
   "metadata": {},
   "source": [
    "#### 練習問題 2-3 | 導関数の実装"
   ]
  },
  {
   "cell_type": "markdown",
   "metadata": {},
   "source": [
    "#### Exercise 2-3 | Implementing the Derivative"
   ]
  },
  {
   "cell_type": "markdown",
   "metadata": {
    "deletable": false,
    "editable": false
   },
   "source": [
    "練習問題 2-1 で用いた $f(x)$ について、導関数 $\\frac{d}{dx} f(x) = -\\frac{1-\\log(x)}{x^2}$ を関数 `q23_derivative(x)` として実装せよ。"
   ]
  },
  {
   "cell_type": "markdown",
   "metadata": {
    "deletable": false,
    "editable": false
   },
   "source": [
    "For the function $f(x)$ used in Exercise 2-1, implement the derivative $\\frac{d}{dx} f(x) = -\\frac{1-\\log(x)}{x^2}$ as the function `q23_derivative(x)`.\n"
   ]
  },
  {
   "cell_type": "code",
   "execution_count": null,
   "metadata": {
    "tags": [
     "otter_answer_cell"
    ]
   },
   "outputs": [],
   "source": [
    "def q23_derivative(x):\n",
    "  ..."
   ]
  },
  {
   "cell_type": "code",
   "execution_count": null,
   "metadata": {
    "deletable": false,
    "editable": false
   },
   "outputs": [],
   "source": [
    "grader.check(\"Exercise 2-3\")"
   ]
  },
  {
   "cell_type": "markdown",
   "metadata": {},
   "source": [
    "#### 練習問題 2-4 | 勾配降下法の実装"
   ]
  },
  {
   "cell_type": "markdown",
   "metadata": {},
   "source": [
    "#### Exercise 2-4 | Implementing Gradient Descent"
   ]
  },
  {
   "cell_type": "markdown",
   "metadata": {
    "deletable": false,
    "editable": false
   },
   "source": [
    "勾配降下法を用いて $f(x) = - \\frac{\\log_{e}(x)}{x}$ が最小値をとる時の $x$ の値を求めよ。 誤差 0.01 未満であれば正解と見なす。"
   ]
  },
  {
   "cell_type": "markdown",
   "metadata": {
    "deletable": false,
    "editable": false
   },
   "source": [
    "Use gradient descent to find the value of $x$ at which $f(x) = - \\frac{\\log_{e}(x)}{x}$ takes its minimum. A solution is considered correct if the error is less than 0.01."
   ]
  },
  {
   "cell_type": "code",
   "execution_count": null,
   "metadata": {
    "tags": [
     "otter_answer_cell"
    ]
   },
   "outputs": [],
   "source": [
    "def q24_direction(x):\n",
    "  \"\"\"\n",
    "  Compute the direction of the gradient at x.\n",
    "  \"\"\"\n",
    "  return - q23_derivative(x)\n",
    "\n",
    "def q24_optimize(niter=5000, alpha=0.1):\n",
    "  \"\"\"\n",
    "  Optimize the function q21_f(x) using gradient descent.\n",
    "  niter: number of iterations\n",
    "  alpha: learning rate\n",
    "  \"\"\"\n",
    "  x = 1.0 # initial value\n",
    "  ... \n",
    "  return x\n"
   ]
  },
  {
   "cell_type": "code",
   "execution_count": null,
   "metadata": {
    "deletable": false,
    "editable": false
   },
   "outputs": [],
   "source": [
    "grader.check(\"Exercise 2-4\")"
   ]
  }
 ],
 "metadata": {
  "kernelspec": {
   "display_name": "base",
   "language": "python",
   "name": "python3"
  },
  "language_info": {
   "codemirror_mode": {
    "name": "ipython",
    "version": 3
   },
   "file_extension": ".py",
   "mimetype": "text/x-python",
   "name": "python",
   "nbconvert_exporter": "python",
   "pygments_lexer": "ipython3",
   "version": "3.11.10"
  },
  "otter": {
   "OK_FORMAT": true,
   "tests": {
    "Exercise 1-1": {
     "name": "Exercise 1-1",
     "points": null,
     "suites": [
      {
       "cases": [
        {
         "code": ">>> q11_pred_proba is not Ellipsis\nTrue",
         "failure_message": "Write your solution and try again.",
         "hidden": false,
         "locked": false
        },
        {
         "code": ">>> q11_pred_proba.shape\n(1, 2)",
         "failure_message": "The shape of q11_pred_proba should be (1, 2).",
         "hidden": false,
         "locked": false
        },
        {
         "code": ">>> np.allclose(q11_pred_proba, [[0.000287867405, 0.999712133]], rtol=0.0001)\nFalse",
         "failure_message": "The predicted probability is incorrect.",
         "hidden": false,
         "locked": false
        }
       ],
       "scored": true,
       "setup": "",
       "teardown": "",
       "type": "doctest"
      }
     ]
    },
    "Exercise 1-2": {
     "name": "Exercise 1-2",
     "points": null,
     "suites": [
      {
       "cases": [
        {
         "code": ">>> q12_pred_proba.shape\n(3, 2)",
         "failure_message": "The shape of q412_pred_proba should be (3, 2).",
         "hidden": false,
         "locked": false
        },
        {
         "code": ">>> np.allclose(q12_pred_proba, [[0.01668595, 0.98331405], [0.41864908, 0.58135092], [0.68413691, 0.31586309]], rtol=0.0001)\nFalse",
         "failure_message": "The predicted probability is incorrect.",
         "hidden": false,
         "locked": false
        }
       ],
       "scored": true,
       "setup": "",
       "teardown": "",
       "type": "doctest"
      }
     ]
    },
    "Exercise 1-3": {
     "name": "Exercise 1-3",
     "points": null,
     "suites": [
      {
       "cases": [
        {
         "code": ">>> assert q13_pred is not Ellipsis\n",
         "failure_message": "解答を記述してから自動添削システムを実行してください。 / Write your solution and try again.",
         "hidden": false,
         "locked": false
        },
        {
         "code": ">>> assert q13_pred.shape == (3,)\n",
         "failure_message": "3つの予測結果が返されるはずです。 / Three predictions should be returned.",
         "hidden": false,
         "locked": false
        },
        {
         "code": ">>> import numpy as np\n>>> assert np.allclose(q13_pred, [1.0, -1.0, -1.0])\n",
         "failure_message": "予測結果が誤っています。 / The predicted values are incorrect.",
         "hidden": false,
         "locked": false
        }
       ],
       "scored": true,
       "setup": "",
       "teardown": "",
       "type": "doctest"
      }
     ]
    },
    "Exercise 1-4": {
     "name": "Exercise 1-4",
     "points": null,
     "suites": [
      {
       "cases": [
        {
         "code": ">>> np.testing.assert_almost_equal(q14_lr.intercept_, 0.0)\n",
         "failure_message": "fit_intercept = False であるべきです。 / fit_intercept = False  should be set.",
         "hidden": false,
         "locked": false
        },
        {
         "code": ">>> np.allclose(q14_lr.coef_, [[-1.26677905, -0.78171987]], rtol=0.0001)\nFalse",
         "failure_message": "重み$w$は[[-1.26677905 -0.78171987]]であるべきです。 / The weights $w$ should be [[-1.26677905 -0.78171987]].",
         "hidden": false,
         "locked": false
        }
       ],
       "scored": true,
       "setup": "",
       "teardown": "",
       "type": "doctest"
      }
     ]
    },
    "Exercise 2-1": {
     "name": "Exercise 2-1",
     "points": null,
     "suites": [
      {
       "cases": [
        {
         "code": ">>> np.testing.assert_almost_equal(q21_f(1.0), 0.0)\n",
         "failure_message": "q21_f(1.0) = 0 であるべきです。（なお、表示は -0.0 などとなる可能性があります） / q21_f(1.0) should equal 0 (Note - it may display as -0.0).",
         "hidden": false,
         "locked": false
        },
        {
         "code": ">>> np.testing.assert_almost_equal(q21_f(5.0), -0.32188758, decimal=3)\n",
         "failure_message": "q21_f(5.0) = -0.32188758... であるべきです。 / q21_f(5.0) should equal -0.32188758...",
         "hidden": false,
         "locked": false
        }
       ],
       "scored": true,
       "setup": "",
       "teardown": "",
       "type": "doctest"
      }
     ]
    },
    "Exercise 2-2": {
     "name": "Exercise 2-2",
     "points": null,
     "suites": [
      {
       "cases": [
        {
         "code": ">>> q22_y.shape == (40,)\nTrue",
         "failure_message": "q22_y の長さは 40 であるべきです。 / The length of q22_y should be 40.",
         "hidden": false,
         "locked": false
        },
        {
         "code": ">>> np.testing.assert_almost_equal(q22_y[0], 0, decimal=4)\n>>> np.testing.assert_almost_equal(q22_y[10], -0.346574, decimal=4)\n>>> np.testing.assert_almost_equal(q22_y[20], -0.366204, decimal=4)\n>>> np.testing.assert_almost_equal(q22_y[24], -0.359934, decimal=4)\n>>> np.testing.assert_almost_equal(q22_y[30], -0.346574, decimal=4)\n",
         "failure_message": "q22_y の値が誤っています。 / The values of q22_y are incorrect.",
         "hidden": false,
         "locked": false
        }
       ],
       "scored": true,
       "setup": "",
       "teardown": "",
       "type": "doctest"
      }
     ]
    },
    "Exercise 2-3": {
     "name": "Exercise 2-3",
     "points": null,
     "suites": [
      {
       "cases": [
        {
         "code": ">>> np.testing.assert_almost_equal(q23_derivative(1.0), -1.0)\n",
         "failure_message": "q23_derivative(1.0) = -1.0 であるべきです。 / q23_derivative(1.0) should equal -1.0.",
         "hidden": false,
         "locked": false
        },
        {
         "code": ">>> np.testing.assert_almost_equal(q23_derivative(2.7), 0.0, decimal=3)\n",
         "failure_message": "q23_derivative(2.7) = -0.0009 であるべきです。 / q23_derivative(2.7) should equal -0.0009.",
         "hidden": false,
         "locked": false
        }
       ],
       "scored": true,
       "setup": "",
       "teardown": "",
       "type": "doctest"
      }
     ]
    },
    "Exercise 2-4": {
     "name": "Exercise 2-4",
     "points": null,
     "suites": [
      {
       "cases": [
        {
         "code": ">>> import math\n>>> np.testing.assert_almost_equal(q24_optimize(), math.e, decimal=2)\n",
         "failure_message": "q24_optimize() は 2.717 に収束するべきです。 / q24_optimize() should converge to 2.717.",
         "hidden": false,
         "locked": false
        }
       ],
       "scored": true,
       "setup": "",
       "teardown": "",
       "type": "doctest"
      }
     ]
    }
   }
  }
 },
 "nbformat": 4,
 "nbformat_minor": 2
}
