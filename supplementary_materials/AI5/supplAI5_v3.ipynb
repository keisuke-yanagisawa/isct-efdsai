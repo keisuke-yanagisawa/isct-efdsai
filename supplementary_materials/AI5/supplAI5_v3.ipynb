{
 "cells": [
  {
   "cell_type": "markdown",
   "metadata": {},
   "source": [
    "<img height=\"40px\" src=\"https://science-tokyo.box.com/shared/static/crawyar5h7rzb0wni5ebskoaojp1ix1p.png\">"
   ]
  },
  {
   "cell_type": "code",
   "execution_count": null,
   "metadata": {},
   "outputs": [],
   "source": [
    "# Preparation for auto-grading\n",
    "!pip install otter-grader \n",
    "import otter\n",
    "grader = otter.Notebook()"
   ]
  },
  {
   "cell_type": "markdown",
   "metadata": {},
   "source": [
    "# 基盤人工知能演習 第5回 ニューラルネットワーク 補習資料"
   ]
  },
  {
   "cell_type": "markdown",
   "metadata": {},
   "source": [
    "# Supplemental Material: Exercises in Fundamentals of Data Science (5) - \tAI5: Introduction of Neural Networks"
   ]
  },
  {
   "cell_type": "markdown",
   "metadata": {},
   "source": [
    "## 1 | PyTorchに向けたデータセットの準備"
   ]
  },
  {
   "cell_type": "markdown",
   "metadata": {},
   "source": [
    "## 1 | Preparing Datasets for PyTorch"
   ]
  },
  {
   "cell_type": "markdown",
   "metadata": {},
   "source": [
    "#### 事前準備"
   ]
  },
  {
   "cell_type": "markdown",
   "metadata": {},
   "source": [
    "#### Preliminary Preparation"
   ]
  },
  {
   "cell_type": "code",
   "execution_count": null,
   "metadata": {},
   "outputs": [],
   "source": [
    "import numpy as np"
   ]
  },
  {
   "cell_type": "code",
   "execution_count": null,
   "metadata": {},
   "outputs": [],
   "source": [
    "# Create virtual training data without noise\n",
    "np.random.seed(0)\n",
    "n = 100\n",
    "q1_X_train = np.random.rand(n, 3)\n",
    "q1_y_train = np.linalg.norm(q1_X_train, axis=1) < 1 # x1^2 + x2^2 + x3^2 < 1 is defined as positive"
   ]
  },
  {
   "cell_type": "markdown",
   "metadata": {},
   "source": [
    "#### 練習問題 1-1 | 実数値のtorch.tensorの準備"
   ]
  },
  {
   "cell_type": "markdown",
   "metadata": {},
   "source": [
    "#### Exercise 1-1 | Preparing Real-Valued torch.tensor"
   ]
  },
  {
   "cell_type": "markdown",
   "metadata": {
    "deletable": false,
    "editable": false
   },
   "source": [
    "準備された `q1_X_train` は実数値の二次元配列、 `q1_y_train` は `True`/`False` の一次元配列である。これらを、実数値 (`torch.float`) の `torch.tensor` 二次元配列である `q11_X_torch` および `q11_Y_torch` に変換せよ。"
   ]
  },
  {
   "cell_type": "markdown",
   "metadata": {
    "deletable": false,
    "editable": false
   },
   "source": [
    "The prepared `q1_X_train` is a two-dimensional array of real values, and `q1_y_train` is a one-dimensional array of `True`/`False`. Convert these into two-dimensional arrays of real values (`torch.float`), `q11_X_torch` and `q11_Y_torch`."
   ]
  },
  {
   "cell_type": "code",
   "execution_count": null,
   "metadata": {
    "metadata": {},
    "tags": [
     "otter_answer_cell"
    ]
   },
   "outputs": [],
   "source": [
    "import torch\n",
    "\n",
    "\n",
    "... \n",
    "q11_X_torch = ...\n",
    "q11_Y_torch = ..."
   ]
  },
  {
   "cell_type": "code",
   "execution_count": null,
   "metadata": {
    "deletable": false,
    "editable": false
   },
   "outputs": [],
   "source": [
    "grader.check(\"Exercise 1-1\")"
   ]
  },
  {
   "cell_type": "markdown",
   "metadata": {},
   "source": [
    "#### 練習問題 1-2 | DataLoader の作成"
   ]
  },
  {
   "cell_type": "markdown",
   "metadata": {},
   "source": [
    "#### Exercise 1-2 | Creating a DataLoader"
   ]
  },
  {
   "cell_type": "markdown",
   "metadata": {
    "deletable": false,
    "editable": false
   },
   "source": [
    "練習課題 1-1 で作成した `q11_X_torch` および `q11_Y_torch` について、 DataLoader `q12_dataloader` を作成せよ。ただし、`batch_size=1` 、 `shuffle=True` とすること。"
   ]
  },
  {
   "cell_type": "markdown",
   "metadata": {
    "deletable": false,
    "editable": false
   },
   "source": [
    "For the `q11_X_torch` and `q11_Y_torch` created in Exercise 1-1, create a DataLoader `q12_dataloader`. Set `batch_size=1` and `shuffle=True`."
   ]
  },
  {
   "cell_type": "code",
   "execution_count": null,
   "metadata": {
    "tags": [
     "otter_answer_cell"
    ]
   },
   "outputs": [],
   "source": [
    "import torch\n",
    "\n",
    "\n",
    "... \n",
    "q12_dataloader = ..."
   ]
  },
  {
   "cell_type": "code",
   "execution_count": null,
   "metadata": {
    "deletable": false,
    "editable": false
   },
   "outputs": [],
   "source": [
    "grader.check(\"Exercise 1-2\")"
   ]
  },
  {
   "cell_type": "markdown",
   "metadata": {},
   "source": [
    "#### 練習問題 1-3 | 3入力・1出力の単層パーセプトロンの準備"
   ]
  },
  {
   "cell_type": "markdown",
   "metadata": {},
   "source": [
    "#### Exercise 1-3 | Preparing a Single-Layer Perceptron with 3 Inputs and 1 Output"
   ]
  },
  {
   "cell_type": "markdown",
   "metadata": {
    "deletable": false,
    "editable": false
   },
   "source": [
    "準備した `q11_X_torch` を入力し、1つの値を出力する単層パーセプトロン `q13_slp` を定義せよ。"
   ]
  },
  {
   "cell_type": "markdown",
   "metadata": {
    "deletable": false,
    "editable": false
   },
   "source": [
    "Define a single-layer perceptron `q13_slp` that takes `q11_X_torch` as input and outputs a single value."
   ]
  },
  {
   "cell_type": "code",
   "execution_count": null,
   "metadata": {
    "tags": [
     "otter_answer_cell"
    ]
   },
   "outputs": [],
   "source": [
    "import torch\n",
    "\n",
    "torch.manual_seed(42)\n",
    "\n",
    "... \n",
    "q13_slp = ..."
   ]
  },
  {
   "cell_type": "code",
   "execution_count": null,
   "metadata": {
    "deletable": false,
    "editable": false
   },
   "outputs": [],
   "source": [
    "grader.check(\"Exercise 1-3\")"
   ]
  },
  {
   "cell_type": "markdown",
   "metadata": {},
   "source": [
    "#### 練習問題 1-4 | 単層パーセプトロンの訓練"
   ]
  },
  {
   "cell_type": "markdown",
   "metadata": {},
   "source": [
    "#### Exercise 1-4 | Training the Single-Layer Perceptron"
   ]
  },
  {
   "cell_type": "markdown",
   "metadata": {
    "deletable": false,
    "editable": false
   },
   "source": [
    "`q12_dataloader` を使って単層パーセプトロン `q13_slp` の訓練を行うコードを完成させよ。空欄は `optimizer` の部分であり、学習率 `lr=0.1` の確率的勾配降下法を利用するようにせよ。"
   ]
  },
  {
   "cell_type": "markdown",
   "metadata": {
    "deletable": false,
    "editable": false
   },
   "source": [
    "Complete the code to train the single-layer perceptron `q13_slp` using `q12_dataloader`. The blank is in the `optimizer` part, and it should use stochastic gradient descent with a learning rate of `lr=0.1`.\n"
   ]
  },
  {
   "cell_type": "code",
   "execution_count": null,
   "metadata": {
    "tags": [
     "otter_answer_cell"
    ]
   },
   "outputs": [],
   "source": [
    "import copy\n",
    "q13_slp_initial = copy.deepcopy(q13_slp) # save the initial state for auto testing"
   ]
  },
  {
   "cell_type": "code",
   "execution_count": null,
   "metadata": {
    "tags": [
     "otter_answer_cell"
    ]
   },
   "outputs": [],
   "source": [
    "import torch\n",
    "torch.manual_seed(42)\n",
    "\n",
    "\n",
    "optimizer = ...\n",
    "loss_fn = torch.nn.BCEWithLogitsLoss() # sigmoid activation + binary cross entropy loss\n",
    "\n",
    "n_epochs = 100\n",
    "for _ in range(n_epochs):\n",
    "  for X, Y in q12_dataloader:\n",
    "    Y_pred_val = q13_slp(X)\n",
    "    loss = loss_fn(Y_pred_val, Y)\n",
    "\n",
    "    optimizer.zero_grad()\n",
    "    loss.backward()\n",
    "    optimizer.step()"
   ]
  },
  {
   "cell_type": "code",
   "execution_count": null,
   "metadata": {
    "deletable": false,
    "editable": false
   },
   "outputs": [],
   "source": [
    "grader.check(\"Exercise 1-4\")"
   ]
  },
  {
   "cell_type": "markdown",
   "metadata": {},
   "source": [
    "#### 練習問題 1-5 | `q13_slp` の出力値確認"
   ]
  },
  {
   "cell_type": "markdown",
   "metadata": {},
   "source": [
    "#### Exercise 1-5 | Verifying the Output Values of `q13_slp`"
   ]
  },
  {
   "cell_type": "markdown",
   "metadata": {
    "deletable": false,
    "editable": false
   },
   "source": [
    "1つめのコードセルでテストデータ `q15_X_torch`, `q15_Y_torch` を準備する。2つめのコードセルにおいて、 `q15_X_torch` を `q13_slp` に入力したときの出力値を `q15_Y_pred_vals` として記録せよ。また、どのような値になっているか確認せよ。"
   ]
  },
  {
   "cell_type": "markdown",
   "metadata": {
    "deletable": false,
    "editable": false
   },
   "source": [
    "Prepare the test data `q15_X_torch`, `q15_Y_torch` in the first code cell. In the second code cell, record the output values when `q15_X_torch` is input into `q13_slp` as `q15_Y_pred_vals`. Also, check what values it has."
   ]
  },
  {
   "cell_type": "code",
   "execution_count": null,
   "metadata": {
    "tags": [
     "otter_answer_cell"
    ]
   },
   "outputs": [],
   "source": [
    "import torch\n",
    "test_sample_size = 100\n",
    "torch.manual_seed(42)\n",
    "q15_X_torch = torch.rand(test_sample_size, 3)\n",
    "q15_Y_torch = (torch.norm(q15_X_torch, dim=1) < 1).float().reshape(-1, 1)"
   ]
  },
  {
   "cell_type": "code",
   "execution_count": null,
   "metadata": {
    "tags": [
     "otter_answer_cell"
    ]
   },
   "outputs": [],
   "source": [
    "q15_Y_pred_vals = ...\n",
    "print(q15_Y_pred_vals[:10]) # first 10 predictions\n"
   ]
  },
  {
   "cell_type": "code",
   "execution_count": null,
   "metadata": {
    "deletable": false,
    "editable": false
   },
   "outputs": [],
   "source": [
    "grader.check(\"Exercise 1-5\")"
   ]
  },
  {
   "cell_type": "markdown",
   "metadata": {},
   "source": [
    "#### 練習問題 1-6 | q13_slp のテストデータ予測精度の評価"
   ]
  },
  {
   "cell_type": "markdown",
   "metadata": {},
   "source": [
    "#### Exercise 1-6 | Evaluating the Prediction Accuracy of `q13_slp` on Test Data"
   ]
  },
  {
   "cell_type": "markdown",
   "metadata": {
    "deletable": false,
    "editable": false
   },
   "source": [
    "`q15_Y_pred_vals` は負の値や1より大きな値を取りうる。これは、シグモイド関数による確率値化を行う前の値だからである。\n",
    "`q15_Y_pred_vals` を確率値化した上で予測結果を確定させ、 `q15_Y_torch` と比較して予測正解率 `q16_accuracy` を算出せよ。 `q16_accuracy` はPythonの組込型 (`float`) か、スカラー値の `torch.tensor` であるようにせよ。"
   ]
  },
  {
   "cell_type": "markdown",
   "metadata": {
    "deletable": false,
    "editable": false
   },
   "source": [
    "`q15_Y_pred_vals` can take negative values or values greater than 1. This is because these are the values before being converted to probabilities by the sigmoid function.\n",
    "Convert `q15_Y_pred_vals` to probabilities and finalize the predictions, then calculate the prediction accuracy `q16_accuracy` by comparing with `q15_Y_torch`. Ensure `q16_accuracy` is either a Python built-in type (`float`) or a scalar value of `torch.tensor`."
   ]
  },
  {
   "cell_type": "code",
   "execution_count": null,
   "metadata": {
    "tags": [
     "otter_answer_cell"
    ]
   },
   "outputs": [],
   "source": [
    "import torch\n",
    "\n",
    "q16_Y_pred = ...\n",
    "...\n",
    "q16_accuracy = ...\n",
    "print(q16_accuracy)"
   ]
  },
  {
   "cell_type": "code",
   "execution_count": null,
   "metadata": {
    "deletable": false,
    "editable": false
   },
   "outputs": [],
   "source": [
    "grader.check(\"Exercise 1-6\")"
   ]
  },
  {
   "cell_type": "markdown",
   "metadata": {},
   "source": [
    "#### 練習問題 1-7 | 多層パーセプトロン MLP の訓練"
   ]
  },
  {
   "cell_type": "markdown",
   "metadata": {},
   "source": [
    "#### Exercise 1-7 | Training a Multi-Layer Perceptron (MLP)"
   ]
  },
  {
   "cell_type": "markdown",
   "metadata": {
    "deletable": false,
    "editable": false
   },
   "source": [
    "練習問題 1-3, 1-4で行った内容と同様に、こんどは多層パーセプトロン MLP を準備し、訓練を行え。ただし、多層パーセプトロン `q17_mlp` は2層構造とし、1層目は3入力20出力、2層目は20入力1出力とし、層と層の間に挟む活性化関数はシグモイド関数とせよ。\n",
    "なお、学習率は `lr=0.1` とし、最適化手法は確率的勾配降下法を用いること。\n",
    "\n",
    "```otter"
   ]
  },
  {
   "cell_type": "markdown",
   "metadata": {
    "deletable": false,
    "editable": false
   },
   "source": [
    "Similar to Exercises 1-3 and 1-4, prepare a multi-layer perceptron MLP and train it. The MLP `q17_mlp` should have a two-layer structure: the first layer has 3 inputs and 20 outputs, and the second layer has 20 inputs and 1 output. The activation function between the layers should be the sigmoid function.\n",
    "The learning rate should be `lr=0.1`, and stochastic gradient descent should be used as the optimization method.\n",
    "\n",
    "```otter"
   ]
  },
  {
   "cell_type": "code",
   "execution_count": null,
   "metadata": {
    "tags": [
     "otter_answer_cell"
    ]
   },
   "outputs": [],
   "source": [
    "import torch\n",
    "\n",
    "torch.manual_seed(42)\n",
    "\n",
    "... \n",
    "q17_mlp = ...\n",
    "q17_mlp_copy=copy.deepcopy(q17_mlp)"
   ]
  },
  {
   "cell_type": "code",
   "execution_count": null,
   "metadata": {
    "tags": [
     "otter_answer_cell"
    ]
   },
   "outputs": [],
   "source": [
    "torch.manual_seed(42)\n",
    "\n",
    "optimizer = ...\n",
    "loss_fn = ...\n",
    "\n",
    "n_epochs = 100\n",
    "for _ in range(n_epochs):\n",
    "  for X, Y in q12_dataloader:\n",
    "    Y_pred_val = q17_mlp(X)\n",
    "    loss = loss_fn(Y_pred_val, Y)\n",
    "\n",
    "    optimizer.zero_grad()\n",
    "    loss.backward()\n",
    "    optimizer.step()"
   ]
  },
  {
   "cell_type": "code",
   "execution_count": null,
   "metadata": {
    "deletable": false,
    "editable": false
   },
   "outputs": [],
   "source": [
    "grader.check(\"Exercise 1-7\")"
   ]
  },
  {
   "cell_type": "markdown",
   "metadata": {},
   "source": [
    "#### 練習問題 1-8 | 多層パーセプトロン MLP のテストデータ予測精度評価"
   ]
  },
  {
   "cell_type": "markdown",
   "metadata": {},
   "source": [
    "#### Exercise 1-8 | Evaluating the Prediction Accuracy of the Multi-Layer Perceptron (MLP)"
   ]
  },
  {
   "cell_type": "markdown",
   "metadata": {
    "deletable": false,
    "editable": false
   },
   "source": [
    "練習問題 1-5, 1-6で行った内容と同様に、多層パーセプトロン MLP を使った時のテストデータ `q15_X_torch`, `q15_Y_torch` の予測正解率を求めよ。"
   ]
  },
  {
   "cell_type": "markdown",
   "metadata": {
    "deletable": false,
    "editable": false
   },
   "source": [
    "As in Exercises 1-5 and 1-6, calculate the prediction accuracy of the test data `q15_X_torch` and `q15_Y_torch` when using the multi-layer perceptron MLP."
   ]
  },
  {
   "cell_type": "code",
   "execution_count": null,
   "metadata": {
    "tags": [
     "otter_answer_cell"
    ]
   },
   "outputs": [],
   "source": [
    "import torch\n",
    "\n",
    "...\n",
    "q18_Y_pred = ...\n",
    "...\n",
    "q18_accuracy = ..."
   ]
  },
  {
   "cell_type": "code",
   "execution_count": null,
   "metadata": {
    "deletable": false,
    "editable": false
   },
   "outputs": [],
   "source": [
    "grader.check(\"Exercise 1-8\")"
   ]
  }
 ],
 "metadata": {
  "kernelspec": {
   "display_name": "base",
   "language": "python",
   "name": "python3"
  },
  "language_info": {
   "codemirror_mode": {
    "name": "ipython",
    "version": 3
   },
   "file_extension": ".py",
   "mimetype": "text/x-python",
   "name": "python",
   "nbconvert_exporter": "python",
   "pygments_lexer": "ipython3",
   "version": "3.11.10"
  },
  "otter": {
   "OK_FORMAT": true,
   "tests": {
    "Exercise 1-1": {
     "name": "Exercise 1-1",
     "points": null,
     "suites": [
      {
       "cases": [
        {
         "code": ">>> assert isinstance(q11_X_torch, torch.Tensor)\n",
         "failure_message": "torch.Tensorである必要があります。 / It must be a torch.Tensor.",
         "hidden": false,
         "locked": false
        },
        {
         "code": ">>> assert q11_X_torch.dtype == torch.float32\n",
         "failure_message": "torch.float32であるべきです / It should be torch.float32",
         "hidden": false,
         "locked": false
        },
        {
         "code": ">>> assert isinstance(q11_Y_torch, torch.Tensor)\n",
         "failure_message": "torch.Tensorである必要があります。 / It must be a torch.Tensor.",
         "hidden": false,
         "locked": false
        },
        {
         "code": ">>> assert q11_Y_torch.dtype == torch.float32\n",
         "failure_message": "torch.float32であるべきです / It should be torch.float32",
         "hidden": false,
         "locked": false
        },
        {
         "code": ">>> torch.testing.assert_close(q11_Y_torch.shape, torch.Size([100, 1]))\n",
         "failure_message": "q11_Y_torchは100行1列であるべきです。 / q11_Y_torch should be 100 by 1.",
         "hidden": false,
         "locked": false
        }
       ],
       "scored": true,
       "setup": "",
       "teardown": "",
       "type": "doctest"
      }
     ]
    },
    "Exercise 1-2": {
     "name": "Exercise 1-2",
     "points": null,
     "suites": [
      {
       "cases": [
        {
         "code": ">>> np.testing.assert_equal(q12_dataloader.batch_size, 1)\n",
         "failure_message": "q12_dataloader.batch_sizeが1である必要があります。 / q12_dataloader.batch_size should be 1.",
         "hidden": false,
         "locked": false
        },
        {
         "code": ">>> assert isinstance(q12_dataloader.sampler, torch.utils.data.sampler.RandomSampler)\n",
         "failure_message": "DataLoaderのshuffle引数がTrueになっていないようです。 / The shuffle argument of DataLoader does not seem to be True.",
         "hidden": false,
         "locked": false
        },
        {
         "code": ">>> for _, (X, y) in enumerate(q12_dataloader):\n...     assert (y[0] == 1.0) == (X[0].norm() < 1.0)\n",
         "failure_message": "XとYが正しく対応していないものが存在しています。 / There exists an incorrect correspondence between X and Y.",
         "hidden": false,
         "locked": false
        }
       ],
       "scored": true,
       "setup": "",
       "teardown": "",
       "type": "doctest"
      }
     ]
    },
    "Exercise 1-3": {
     "name": "Exercise 1-3",
     "points": null,
     "suites": [
      {
       "cases": [
        {
         "code": ">>> np.testing.assert_equal(q13_slp[0].in_features, 3)\n",
         "failure_message": "入力が3次元になっているべきです / The input should be 3-dimensional",
         "hidden": false,
         "locked": false
        },
        {
         "code": ">>> np.testing.assert_equal(q13_slp[0].out_features, 1)\n",
         "failure_message": "出力が1次元になっているべきです / The output should be one-dimensional",
         "hidden": false,
         "locked": false
        },
        {
         "code": ">>> import torch.nn as nn\n>>> assert not isinstance(q13_slp[-1], nn.Sigmoid)\n",
         "failure_message": "最終層のSigmoidがFalseであることを確認して下さい / Ensure that the final layer's Sigmoid is False",
         "hidden": false,
         "locked": false
        }
       ],
       "scored": true,
       "setup": "",
       "teardown": "",
       "type": "doctest"
      }
     ]
    },
    "Exercise 1-4": {
     "name": "Exercise 1-4",
     "points": null,
     "suites": [
      {
       "cases": [
        {
         "code": ">>> assert isinstance(optimizer, torch.optim.SGD)\n",
         "failure_message": "optimizerがtorch.optim.SGDである必要があります / The optimizer must be torch.optim.SGD",
         "hidden": false,
         "locked": false
        },
        {
         "code": ">>> np.testing.assert_almost_equal(optimizer.param_groups[0]['lr'], 0.1)\n",
         "failure_message": "学習率(\"lr\")が0.1である必要があります。 / The learning rate (\"lr\") should be 0.1.",
         "hidden": false,
         "locked": false
        },
        {
         "code": ">>> assert not torch.allclose(q13_slp.state_dict()['0.weight'], q13_slp_initial.state_dict()['0.weight'])\n>>> assert not torch.allclose(q13_slp.state_dict()['0.bias'], q13_slp_initial.state_dict()['0.bias'])\n",
         "failure_message": "訓練前(q13_slp_copy)と重みパラメータ(バイアスも)が変わっている必要があります。 / The weight parameters (including the bias) should have changed.",
         "hidden": false,
         "locked": false
        }
       ],
       "scored": true,
       "setup": "",
       "teardown": "",
       "type": "doctest"
      }
     ]
    },
    "Exercise 1-5": {
     "name": "Exercise 1-5",
     "points": null,
     "suites": [
      {
       "cases": [
        {
         "code": ">>> assert isinstance(q15_Y_pred_vals, torch.Tensor)\n>>> torch.testing.assert_close(q15_Y_pred_vals.shape, torch.Size([100, 1]))\n",
         "failure_message": "q15_Y_preds_valsは100行1列のtorch.Tensorであるべきです。 / q15_Y_pred_vals should be a 100 by 1 torch.Tensor.",
         "hidden": false,
         "locked": false
        },
        {
         "code": ">>> _ = torch.manual_seed(42)\n>>> ans_slp = copy.deepcopy(q13_slp_initial)\n>>> ans_optimizer = torch.optim.SGD(ans_slp.parameters(), lr=0.1)\n>>> ans_loss_fn = torch.nn.BCEWithLogitsLoss()\n>>> for _ in range(100):\n...     for X, Y in q12_dataloader:\n...         Y_pred_val = ans_slp(X)\n...         loss = ans_loss_fn(Y_pred_val, Y)\n...         ans_optimizer.zero_grad()\n...         loss.backward()\n...         ans_optimizer.step()\n>>> _ = torch.manual_seed(42)\n>>> ans_test_Y_pred_vals = ans_slp(q15_X_torch)\n>>> torch.testing.assert_close(q15_Y_pred_vals, ans_test_Y_pred_vals)\n",
         "failure_message": "q15_Y_pred_vals の値が誤っています。学習率は正しく 0.1 に設定されていますか？ / The values of q15_Y_pred_vals are incorrect. Is the learning rate correctly set to 0.1?",
         "hidden": false,
         "locked": false
        }
       ],
       "scored": true,
       "setup": "",
       "teardown": "",
       "type": "doctest"
      }
     ]
    },
    "Exercise 1-6": {
     "name": "Exercise 1-6",
     "points": null,
     "suites": [
      {
       "cases": [
        {
         "code": ">>> _ = torch.manual_seed(42)\n>>> ans_slp = copy.deepcopy(q13_slp_initial)\n>>> ans_optimizer = torch.optim.SGD(ans_slp.parameters(), lr=0.1)\n>>> ans_loss_fn = torch.nn.BCEWithLogitsLoss()\n>>> for _ in range(100):\n...     for X, Y in q12_dataloader:\n...         Y_pred_val = ans_slp(X)\n...         loss = ans_loss_fn(Y_pred_val, Y)\n...         ans_optimizer.zero_grad()\n...         loss.backward()\n...         ans_optimizer.step()\n>>> ans_test_Y_pred_vals = ans_slp(q15_X_torch)\n>>> ans_test_Y_pred = torch.sigmoid(ans_test_Y_pred_vals)\n>>> torch.testing.assert_close(q16_Y_pred, ans_test_Y_pred)\n",
         "failure_message": "q16_Y_pred の値が誤っています。シグモイド関数は利用しましたか？ / The values of q16_Y_pred are incorrect. Did you use the sigmoid function?",
         "hidden": false,
         "locked": false
        },
        {
         "code": ">>> _ = torch.manual_seed(42)\n>>> ans_slp = copy.deepcopy(q13_slp_initial)\n>>> ans_optimizer = torch.optim.SGD(ans_slp.parameters(), lr=0.1)\n>>> ans_loss_fn = torch.nn.BCEWithLogitsLoss()\n>>> for _ in range(100):\n...     for X, Y in q12_dataloader:\n...         Y_pred_val = ans_slp(X)\n...         loss = ans_loss_fn(Y_pred_val, Y)\n...         ans_optimizer.zero_grad()\n...         loss.backward()\n...         ans_optimizer.step()\n>>> ans_test_Y_pred_vals = ans_slp(q15_X_torch)\n>>> ans_test_Y_pred = torch.sigmoid(ans_test_Y_pred_vals)\n>>> ans_accuracy = torch.mean(((ans_test_Y_pred > 0.5) == q15_Y_torch).float())\n>>> np.testing.assert_almost_equal(q16_accuracy.item(), ans_accuracy.item())\n",
         "failure_message": "正解率が誤っています。 / The accuracy is incorrect.",
         "hidden": false,
         "locked": false
        }
       ],
       "scored": true,
       "setup": "",
       "teardown": "",
       "type": "doctest"
      }
     ]
    },
    "Exercise 1-7": {
     "name": "Exercise 1-7",
     "points": null,
     "suites": [
      {
       "cases": [
        {
         "code": ">>> assert isinstance(q17_mlp[0], torch.nn.Linear)\n>>> assert isinstance(q17_mlp[1], torch.nn.Sigmoid)\n>>> assert isinstance(q17_mlp[2], torch.nn.Linear)\n",
         "failure_message": "q17_mlp が適切になっていません。2つのLinear層の間にSigmoidは入っていますか？ / q17_mlp is not correct. Is there a Sigmoid between the two Linear layers?",
         "hidden": false,
         "locked": false
        },
        {
         "code": ">>> assert isinstance(optimizer, torch.optim.SGD)\n",
         "failure_message": "optimizerとしてSGD以外が利用されています。 / Something other than SGD is being used as the optimizer.",
         "hidden": false,
         "locked": false
        },
        {
         "code": ">>> np.testing.assert_almost_equal(optimizer.param_groups[0]['lr'], 0.1)\n",
         "failure_message": "optimizerの学習率は 0.1 に設定してください。 / The learning rate of the optimizer should be set to 0.1.",
         "hidden": false,
         "locked": false
        },
        {
         "code": ">>> params = list(q17_mlp.parameters())\n>>> for param, opt_param in zip(params, optimizer.param_groups[0]['params']):\n...     assert param is opt_param\n",
         "failure_message": "optimizerが更新するモデルが間違っています。optimizer = ...(SOMETHING, ...) の SOMETHING の部分を改めて確認してください。 / The model the optimizer updates is incorrect. Please check the SOMETHING part of optimizer = ...(SOMETHING, ...).",
         "hidden": false,
         "locked": false
        },
        {
         "code": ">>> assert isinstance(loss_fn, torch.nn.BCEWithLogitsLoss)\n",
         "failure_message": "損失関数はBCEWithLogitsLoss()になっている必要があります / The loss function should be BCEWithLogitsLoss()",
         "hidden": false,
         "locked": false
        },
        {
         "code": ">>> assert not torch.allclose(q17_mlp_copy.state_dict()['0.weight'], q17_mlp.state_dict()['0.weight'])\n>>> assert not torch.allclose(q17_mlp_copy.state_dict()['0.bias'], q17_mlp.state_dict()['0.bias'])\n>>> assert not torch.allclose(q17_mlp_copy.state_dict()['2.weight'], q17_mlp.state_dict()['2.weight'])\n>>> assert not torch.allclose(q17_mlp_copy.state_dict()['2.bias'], q17_mlp.state_dict()['2.bias'])\n",
         "failure_message": "q17_mlp の重みパラメータが更新されていません。 / The weight parameters of q17_mlp have not been updated.",
         "hidden": false,
         "locked": false
        }
       ],
       "scored": true,
       "setup": "",
       "teardown": "",
       "type": "doctest"
      }
     ]
    },
    "Exercise 1-8": {
     "name": "Exercise 1-8",
     "points": null,
     "suites": [
      {
       "cases": [
        {
         "code": ">>> torch.testing.assert_close(q18_Y_pred.shape, torch.Size([100, 1]))\n",
         "failure_message": "100行1列である必要があります。 / It should be 100 by 1.",
         "hidden": false,
         "locked": false
        },
        {
         "code": ">>> ans_mlp = copy.deepcopy(q17_mlp_copy)\n>>> _ = torch.manual_seed(42)\n>>> ans_optimizer = torch.optim.SGD(ans_mlp.parameters(), lr=0.1)\n>>> ans_loss_fn = torch.nn.BCEWithLogitsLoss()\n>>> n_epochs = 100\n>>> for _ in range(n_epochs):\n...     for X, Y in q12_dataloader:\n...         Y_pred_val = ans_mlp(X)\n...         loss = ans_loss_fn(Y_pred_val, Y)\n...         ans_optimizer.zero_grad()\n...         loss.backward()\n...         ans_optimizer.step()\n>>> ans_Y_pred = torch.sigmoid(ans_mlp(q15_X_torch))\n>>> torch.testing.assert_close(q18_Y_pred, ans_Y_pred)\n",
         "failure_message": "q_18_Y_pred の値が誤っています。 / The values of q18_Y_pred are incorrect.",
         "hidden": false,
         "locked": false
        },
        {
         "code": ">>> ans_mlp = copy.deepcopy(q17_mlp_copy)\n>>> _ = torch.manual_seed(42)\n>>> ans_optimizer = torch.optim.SGD(ans_mlp.parameters(), lr=0.1)\n>>> ans_loss_fn = torch.nn.BCEWithLogitsLoss()\n>>> n_epochs = 100\n>>> for _ in range(n_epochs):\n...     for X, Y in q12_dataloader:\n...         Y_pred_val = ans_mlp(X)\n...         loss = ans_loss_fn(Y_pred_val, Y)\n...         ans_optimizer.zero_grad()\n...         loss.backward()\n...         ans_optimizer.step()\n>>> ans_Y_pred = torch.sigmoid(ans_mlp(q15_X_torch))\n>>> ans_accuracy = torch.mean(((ans_Y_pred > 0.5) == q15_Y_torch).float())\n>>> np.testing.assert_almost_equal(q18_accuracy, ans_accuracy)\n",
         "failure_message": "正解率が誤っています。 / The accuracy is incorrect.",
         "hidden": false,
         "locked": false
        }
       ],
       "scored": true,
       "setup": "",
       "teardown": "",
       "type": "doctest"
      }
     ]
    }
   }
  }
 },
 "nbformat": 4,
 "nbformat_minor": 2
}
