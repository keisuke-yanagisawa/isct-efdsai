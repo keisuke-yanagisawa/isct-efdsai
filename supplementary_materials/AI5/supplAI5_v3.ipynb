{
 "cells": [
  {
   "cell_type": "markdown",
   "metadata": {},
   "source": [
    "<img height=\"40px\" src=\"https://ane1.boxcloud.com/api/2.0/internal_files/1702619756756/versions/1874110839956/representations/png_paged_2048x2048/content/1.png?access_token=1!6aBdF001oP2aQ1eFD9NmVUOUoumiLv9YqgpMGLcU8v5uUuf6MiWPthJjycABbIl8ijs8ELy4IqahnpyKJZWQLZZrJaUdlvz5BQRDHodGiGjcjBshdhLNfvm6sMAr6tZvdGyCdugu5rcUgygc5XVcdI9SvhOmuh-nm00TTR4SFZpEL9wlSXBLo73tr7MvadSboyKu83-ZygehsQ0dcmC3I2v3gYBC01z2dOmYU3nOYlTuGMkL6_N97pm6Z_VTCkLd3h9kJBMOUeTjUCDFXmBc2jWSdHez4m_VFEKCwYfJ5uLO4KFkMbc9U5b360Wi6OsLf7fTBYUI8hlagLeESUs5f07DgRTVQ11sODkD8cg9VFRWpzxpPY59Jd0wLeu2hX_y4PgwKMZfde45si-keq1U0z89jTseY19RsrRq7jyD8NA38_YJp1Kv0-WtrEnrByHbl-9XhqDALHqFYpLpnFjglVBdW0DwmQCaKvW1j7ttIjf9--_Cfvxop62H9gFuJgDvQW9xNxm2x6gHKizSFEiNNwlBYJybL2ZwH2nOwdnHqY6Ivrkqqr4jXMhnubaGnPAGyFKNo0paYuxUEfEY9XmpaDIgANRAT2GHKkDpqRQoe5d8EmI4fa-kpQgdhfB97w0e9_xzIjxZMqLOj6uAwOhdEtlA55kje9AlU1GgpgIfSV4FS3XOMRW12T1ftXJpp9eG68er4BwtQaIB6K2wW90muCH3wNQ.&box_client_name=box-content-preview&box_client_version=2.110.0\">"
   ]
  },
  {
   "cell_type": "code",
   "execution_count": null,
   "metadata": {},
   "outputs": [],
   "source": [
    "# Preparation for auto-grading\n",
    "unit = \"AI5\"\n",
    "!pip install otter-grader \n",
    "!wget https://github.com/keisuke-yanagisawa/isct-efdsai/raw/refs/heads/main/supplementary_materials/{unit}/student.tar.gz -O {unit}.tar.gz\n",
    "!tar -zxvf {unit}.tar.gz \n",
    "!rm {unit}.tar.gz\n",
    "%cd student\n",
    "import otter\n",
    "grader = otter.Notebook()"
   ]
  },
  {
   "cell_type": "markdown",
   "metadata": {},
   "source": [
    "# 基盤人工知能演習 第5回 ニューラルネットワーク 補習資料"
   ]
  },
  {
   "cell_type": "markdown",
   "metadata": {},
   "source": [
    "# Supplemental Material: Exercises in Fundamentals of Data Science (5) - \tAI5: Introduction of Neural Networks"
   ]
  },
  {
   "cell_type": "markdown",
   "metadata": {},
   "source": [
    "## 1 | PyTorchに向けたデータセットの準備"
   ]
  },
  {
   "cell_type": "markdown",
   "metadata": {},
   "source": [
    "## 1 | Preparing Datasets for PyTorch"
   ]
  },
  {
   "cell_type": "markdown",
   "metadata": {},
   "source": [
    "#### 事前準備"
   ]
  },
  {
   "cell_type": "markdown",
   "metadata": {},
   "source": [
    "#### Preliminary Preparation"
   ]
  },
  {
   "cell_type": "code",
   "execution_count": null,
   "metadata": {},
   "outputs": [],
   "source": [
    "import numpy as np"
   ]
  },
  {
   "cell_type": "code",
   "execution_count": null,
   "metadata": {},
   "outputs": [],
   "source": [
    "# Create virtual training data without noise\n",
    "np.random.seed(0)\n",
    "n = 100\n",
    "q1_X_train = np.random.rand(n, 3)\n",
    "q1_y_train = np.linalg.norm(q1_X_train, axis=1) < 1 # x1^2 + x2^2 + x3^2 < 1 is defined as positive"
   ]
  },
  {
   "cell_type": "markdown",
   "metadata": {},
   "source": [
    "#### 練習問題 1-1 | 実数値のtorch.tensorの準備"
   ]
  },
  {
   "cell_type": "markdown",
   "metadata": {},
   "source": [
    "#### Exercise 1-1 | Preparing Real-Valued torch.tensor"
   ]
  },
  {
   "cell_type": "markdown",
   "metadata": {
    "deletable": false,
    "editable": false
   },
   "source": [
    "準備された `q1_X_train` は実数値の二次元配列、 `q1_y_train` は `True`/`False` の一次元配列である。これらを、実数値 (`torch.float`) の `torch.tensor` 二次元配列である `q11_X_torch` および `q11_Y_torch` に変換せよ。"
   ]
  },
  {
   "cell_type": "markdown",
   "metadata": {
    "deletable": false,
    "editable": false
   },
   "source": [
    "The prepared `q1_X_train` is a two-dimensional array of real values, and `q1_y_train` is a one-dimensional array of `True`/`False`. Convert these into two-dimensional arrays of real values (`torch.float`), `q11_X_torch` and `q11_Y_torch`."
   ]
  },
  {
   "cell_type": "code",
   "execution_count": null,
   "metadata": {
    "metadata": {},
    "tags": []
   },
   "outputs": [],
   "source": [
    "import torch\n",
    "\n",
    "\n",
    "... \n",
    "q11_X_torch = ...\n",
    "q11_Y_torch = ..."
   ]
  },
  {
   "cell_type": "code",
   "execution_count": null,
   "metadata": {
    "deletable": false,
    "editable": false
   },
   "outputs": [],
   "source": [
    "grader.check(\"Exercise 1-1\")"
   ]
  },
  {
   "cell_type": "markdown",
   "metadata": {},
   "source": [
    "#### 練習問題 1-2 | DataLoader の作成"
   ]
  },
  {
   "cell_type": "markdown",
   "metadata": {},
   "source": [
    "#### Exercise 1-2 | Creating a DataLoader"
   ]
  },
  {
   "cell_type": "markdown",
   "metadata": {
    "deletable": false,
    "editable": false
   },
   "source": [
    "練習課題 1-1 で作成した `q11_X_torch` および `q11_Y_torch` について、 DataLoader `q12_dataloader` を作成せよ。ただし、`batch_size=1` 、 `shuffle=True` とすること。"
   ]
  },
  {
   "cell_type": "markdown",
   "metadata": {
    "deletable": false,
    "editable": false
   },
   "source": [
    "For the `q11_X_torch` and `q11_Y_torch` created in Exercise 1-1, create a DataLoader `q12_dataloader`. Set `batch_size=1` and `shuffle=True`."
   ]
  },
  {
   "cell_type": "code",
   "execution_count": null,
   "metadata": {
    "tags": []
   },
   "outputs": [],
   "source": [
    "import torch\n",
    "\n",
    "\n",
    "... \n",
    "q12_dataloader = ..."
   ]
  },
  {
   "cell_type": "code",
   "execution_count": null,
   "metadata": {
    "deletable": false,
    "editable": false
   },
   "outputs": [],
   "source": [
    "grader.check(\"Exercise 1-2\")"
   ]
  },
  {
   "cell_type": "markdown",
   "metadata": {},
   "source": [
    "#### 練習問題 1-3 | 3入力・1出力の単層パーセプトロンの準備"
   ]
  },
  {
   "cell_type": "markdown",
   "metadata": {},
   "source": [
    "#### Exercise 1-3 | Preparing a Single-Layer Perceptron with 3 Inputs and 1 Output"
   ]
  },
  {
   "cell_type": "markdown",
   "metadata": {
    "deletable": false,
    "editable": false
   },
   "source": [
    "準備した `q11_X_torch` を入力し、1つの値を出力する単層パーセプトロン `q13_slp` を定義せよ。"
   ]
  },
  {
   "cell_type": "markdown",
   "metadata": {
    "deletable": false,
    "editable": false
   },
   "source": [
    "Define a single-layer perceptron `q13_slp` that takes `q11_X_torch` as input and outputs a single value."
   ]
  },
  {
   "cell_type": "code",
   "execution_count": null,
   "metadata": {
    "tags": []
   },
   "outputs": [],
   "source": [
    "import torch\n",
    "\n",
    "torch.manual_seed(42)\n",
    "\n",
    "... \n",
    "q13_slp = ..."
   ]
  },
  {
   "cell_type": "code",
   "execution_count": null,
   "metadata": {
    "tags": []
   },
   "outputs": [],
   "source": []
  },
  {
   "cell_type": "code",
   "execution_count": null,
   "metadata": {
    "deletable": false,
    "editable": false
   },
   "outputs": [],
   "source": [
    "grader.check(\"Exercise 1-3\")"
   ]
  },
  {
   "cell_type": "markdown",
   "metadata": {},
   "source": [
    "#### 練習問題 1-4 | 単層パーセプトロンの訓練"
   ]
  },
  {
   "cell_type": "markdown",
   "metadata": {},
   "source": [
    "#### Exercise 1-4 | Training the Single-Layer Perceptron"
   ]
  },
  {
   "cell_type": "markdown",
   "metadata": {
    "deletable": false,
    "editable": false
   },
   "source": [
    "`q12_dataloader` を使って単層パーセプトロン `q13_slp` の訓練を行うコードを完成させよ。空欄は `optimizer` の部分であり、学習率 `lr=0.1` の確率的勾配降下法を利用するようにせよ。"
   ]
  },
  {
   "cell_type": "markdown",
   "metadata": {
    "deletable": false,
    "editable": false
   },
   "source": [
    "Complete the code to train the single-layer perceptron `q13_slp` using `q12_dataloader`. The blank is in the `optimizer` part, and it should use stochastic gradient descent with a learning rate of `lr=0.1`.\n"
   ]
  },
  {
   "cell_type": "code",
   "execution_count": null,
   "metadata": {
    "tags": []
   },
   "outputs": [],
   "source": [
    "import copy\n",
    "q13_slp_initial = copy.deepcopy(q13_slp) # save the initial state for auto testing"
   ]
  },
  {
   "cell_type": "code",
   "execution_count": null,
   "metadata": {
    "tags": []
   },
   "outputs": [],
   "source": [
    "import torch\n",
    "torch.manual_seed(42)\n",
    "\n",
    "\n",
    "optimizer = ...\n",
    "loss_fn = torch.nn.BCEWithLogitsLoss() # sigmoid activation + binary cross entropy loss\n",
    "\n",
    "n_epochs = 100\n",
    "for _ in range(n_epochs):\n",
    "  for X, Y in q12_dataloader:\n",
    "    Y_pred_val = q13_slp(X)\n",
    "    loss = loss_fn(Y_pred_val, Y)\n",
    "\n",
    "    optimizer.zero_grad()\n",
    "    loss.backward()\n",
    "    optimizer.step()"
   ]
  },
  {
   "cell_type": "code",
   "execution_count": null,
   "metadata": {
    "deletable": false,
    "editable": false
   },
   "outputs": [],
   "source": [
    "grader.check(\"Exercise 1-4\")"
   ]
  },
  {
   "cell_type": "markdown",
   "metadata": {},
   "source": [
    "#### 練習問題 1-5 | `q13_slp` の出力値確認"
   ]
  },
  {
   "cell_type": "markdown",
   "metadata": {},
   "source": [
    "#### Exercise 1-5 | Verifying the Output Values of `q13_slp`"
   ]
  },
  {
   "cell_type": "markdown",
   "metadata": {
    "deletable": false,
    "editable": false
   },
   "source": [
    "1つめのコードセルでテストデータ `q15_X_torch`, `q15_Y_torch` を準備する。2つめのコードセルにおいて、 `q15_X_torch` を `q13_slp` に入力したときの出力値を `q15_Y_pred_vals` として記録せよ。また、どのような値になっているか確認せよ。"
   ]
  },
  {
   "cell_type": "markdown",
   "metadata": {
    "deletable": false,
    "editable": false
   },
   "source": [
    "Prepare the test data `q15_X_torch`, `q15_Y_torch` in the first code cell. In the second code cell, record the output values when `q15_X_torch` is input into `q13_slp` as `q15_Y_pred_vals`. Also, check what values it has."
   ]
  },
  {
   "cell_type": "code",
   "execution_count": null,
   "metadata": {
    "tags": []
   },
   "outputs": [],
   "source": [
    "import torch\n",
    "test_sample_size = 100\n",
    "torch.manual_seed(42)\n",
    "q15_X_torch = torch.rand(test_sample_size, 3)\n",
    "q15_Y_torch = (torch.norm(q15_X_torch, dim=1) < 1).float().reshape(-1, 1)"
   ]
  },
  {
   "cell_type": "code",
   "execution_count": null,
   "metadata": {
    "tags": []
   },
   "outputs": [],
   "source": [
    "q15_Y_pred_vals = ...\n",
    "print(q15_Y_pred_vals[:10]) # first 10 predictions\n"
   ]
  },
  {
   "cell_type": "code",
   "execution_count": null,
   "metadata": {
    "deletable": false,
    "editable": false
   },
   "outputs": [],
   "source": [
    "grader.check(\"Exercise 1-5\")"
   ]
  },
  {
   "cell_type": "markdown",
   "metadata": {},
   "source": [
    "#### 練習問題 1-6 | q13_slp のテストデータ予測精度の評価"
   ]
  },
  {
   "cell_type": "markdown",
   "metadata": {},
   "source": [
    "#### Exercise 1-6 | Evaluating the Prediction Accuracy of `q13_slp` on Test Data"
   ]
  },
  {
   "cell_type": "markdown",
   "metadata": {
    "deletable": false,
    "editable": false
   },
   "source": [
    "`q15_Y_pred_vals` は負の値や1より大きな値を取りうる。これは、シグモイド関数による確率値化を行う前の値だからである。\n",
    "`q15_Y_pred_vals` を確率値化した上で予測結果を確定させ、 `q15_Y_torch` と比較して予測正解率 `q16_accuracy` を算出せよ。 `q16_accuracy` はPythonの組込型 (`float`) か、スカラー値の `torch.tensor` であるようにせよ。"
   ]
  },
  {
   "cell_type": "markdown",
   "metadata": {
    "deletable": false,
    "editable": false
   },
   "source": [
    "`q15_Y_pred_vals` can take negative values or values greater than 1. This is because these are the values before being converted to probabilities by the sigmoid function.\n",
    "Convert `q15_Y_pred_vals` to probabilities and finalize the predictions, then calculate the prediction accuracy `q16_accuracy` by comparing with `q15_Y_torch`. Ensure `q16_accuracy` is either a Python built-in type (`float`) or a scalar value of `torch.tensor`."
   ]
  },
  {
   "cell_type": "code",
   "execution_count": null,
   "metadata": {
    "tags": []
   },
   "outputs": [],
   "source": [
    "import torch\n",
    "\n",
    "q16_Y_pred = ...\n",
    "...\n",
    "q16_accuracy = ...\n",
    "print(q16_accuracy)"
   ]
  },
  {
   "cell_type": "code",
   "execution_count": null,
   "metadata": {
    "deletable": false,
    "editable": false
   },
   "outputs": [],
   "source": [
    "grader.check(\"Exercise 1-6\")"
   ]
  },
  {
   "cell_type": "markdown",
   "metadata": {},
   "source": [
    "#### 練習問題 1-7 | 多層パーセプトロン MLP の訓練"
   ]
  },
  {
   "cell_type": "markdown",
   "metadata": {},
   "source": [
    "#### Exercise 1-7 | Training a Multi-Layer Perceptron (MLP)"
   ]
  },
  {
   "cell_type": "markdown",
   "metadata": {
    "deletable": false,
    "editable": false
   },
   "source": [
    "練習問題 1-3, 1-4で行った内容と同様に、こんどは多層パーセプトロン MLP を準備し、訓練を行え。ただし、多層パーセプトロン `q17_mlp` は2層構造とし、1層目は3入力20出力、2層目は20入力1出力とし、層と層の間に挟む活性化関数はシグモイド関数とせよ。\n",
    "なお、学習率は `lr=0.1` とし、最適化手法は確率的勾配降下法を用いること。\n",
    "\n",
    "```otter"
   ]
  },
  {
   "cell_type": "markdown",
   "metadata": {
    "deletable": false,
    "editable": false
   },
   "source": [
    "Similar to Exercises 1-3 and 1-4, prepare a multi-layer perceptron MLP and train it. The MLP `q17_mlp` should have a two-layer structure: the first layer has 3 inputs and 20 outputs, and the second layer has 20 inputs and 1 output. The activation function between the layers should be the sigmoid function.\n",
    "The learning rate should be `lr=0.1`, and stochastic gradient descent should be used as the optimization method.\n",
    "\n",
    "```otter"
   ]
  },
  {
   "cell_type": "code",
   "execution_count": null,
   "metadata": {
    "tags": []
   },
   "outputs": [],
   "source": [
    "import torch\n",
    "\n",
    "torch.manual_seed(42)\n",
    "\n",
    "... \n",
    "q17_mlp = ...\n",
    "q17_mlp_copy=copy.deepcopy(q17_mlp)"
   ]
  },
  {
   "cell_type": "code",
   "execution_count": null,
   "metadata": {
    "tags": []
   },
   "outputs": [],
   "source": [
    "torch.manual_seed(42)\n",
    "\n",
    "optimizer = ...\n",
    "loss_fn = ...\n",
    "\n",
    "n_epochs = 100\n",
    "for _ in range(n_epochs):\n",
    "  for X, Y in q12_dataloader:\n",
    "    Y_pred_val = q17_mlp(X)\n",
    "    loss = loss_fn(Y_pred_val, Y)\n",
    "\n",
    "    optimizer.zero_grad()\n",
    "    loss.backward()\n",
    "    optimizer.step()"
   ]
  },
  {
   "cell_type": "code",
   "execution_count": null,
   "metadata": {
    "deletable": false,
    "editable": false
   },
   "outputs": [],
   "source": [
    "grader.check(\"Exercise 1-7\")"
   ]
  },
  {
   "cell_type": "markdown",
   "metadata": {},
   "source": [
    "#### 練習問題 1-8 | 多層パーセプトロン MLP のテストデータ予測精度評価"
   ]
  },
  {
   "cell_type": "markdown",
   "metadata": {},
   "source": [
    "#### Exercise 1-8 | Evaluating the Prediction Accuracy of the Multi-Layer Perceptron (MLP)"
   ]
  },
  {
   "cell_type": "markdown",
   "metadata": {
    "deletable": false,
    "editable": false
   },
   "source": [
    "練習問題 1-5, 1-6で行った内容と同様に、多層パーセプトロン MLP を使った時のテストデータ `q15_X_torch`, `q15_Y_torch` の予測正解率を求めよ。"
   ]
  },
  {
   "cell_type": "markdown",
   "metadata": {
    "deletable": false,
    "editable": false
   },
   "source": [
    "As in Exercises 1-5 and 1-6, calculate the prediction accuracy of the test data `q15_X_torch` and `q15_Y_torch` when using the multi-layer perceptron MLP."
   ]
  },
  {
   "cell_type": "code",
   "execution_count": null,
   "metadata": {
    "tags": []
   },
   "outputs": [],
   "source": [
    "import torch\n",
    "\n",
    "...\n",
    "q18_Y_pred = ...\n",
    "...\n",
    "q18_accuracy = ..."
   ]
  },
  {
   "cell_type": "code",
   "execution_count": null,
   "metadata": {
    "deletable": false,
    "editable": false
   },
   "outputs": [],
   "source": [
    "grader.check(\"Exercise 1-8\")"
   ]
  }
 ],
 "metadata": {
  "kernelspec": {
   "display_name": "base",
   "language": "python",
   "name": "python3"
  },
  "language_info": {
   "codemirror_mode": {
    "name": "ipython",
    "version": 3
   },
   "file_extension": ".py",
   "mimetype": "text/x-python",
   "name": "python",
   "nbconvert_exporter": "python",
   "pygments_lexer": "ipython3",
   "version": "3.9.12"
  }
 },
 "nbformat": 4,
 "nbformat_minor": 2
}
