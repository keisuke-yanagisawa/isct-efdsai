{
 "cells": [
  {
   "cell_type": "markdown",
   "metadata": {},
   "source": [
    "<img height=\"40px\" src=\"https://science-tokyo.box.com/shared/static/d3p6jeu3bwsaid6xu1k56q05luvmkbd4.png\">"
   ]
  },
  {
   "cell_type": "code",
   "execution_count": null,
   "metadata": {},
   "outputs": [],
   "source": [
    "# Preparation for auto-grading\n",
    "unit = \"suppl_EFDS6\"\n",
    "!pip install otter-grader \n",
    "!wget https://github.com/keisuke-yanagisawa/isct-efdsai/raw/refs/heads/main/supplementary_materials/{unit}/student.tar.gz -O {unit}.tar.gz\n",
    "!tar -zxvf {unit}.tar.gz \n",
    "!rm {unit}.tar.gz\n",
    "%cd student\n",
    "import otter\n",
    "grader = otter.Notebook()"
   ]
  },
  {
   "cell_type": "markdown",
   "metadata": {},
   "source": [
    "# 基盤データサイエンス演習 第6回 次元削減 補習資料"
   ]
  },
  {
   "cell_type": "markdown",
   "metadata": {},
   "source": [
    "# Supplemental Materials: Exercises in Fundamentals of Data Science (6) - Dimensionality Reduction"
   ]
  },
  {
   "cell_type": "markdown",
   "metadata": {
    "id": "nIWu0KHd5qgP"
   },
   "source": [
    "## 1 | Moonデータセットを使った次元削減手法の比較"
   ]
  },
  {
   "cell_type": "markdown",
   "metadata": {},
   "source": [
    "## 1 | Comparison of Dimensionality Reduction Methods Using the Moon Dataset"
   ]
  },
  {
   "cell_type": "markdown",
   "metadata": {
    "id": "FgHD4XBt5qgP"
   },
   "source": [
    "#### 事前準備"
   ]
  },
  {
   "cell_type": "markdown",
   "metadata": {},
   "source": [
    "#### Preparations"
   ]
  },
  {
   "cell_type": "code",
   "execution_count": null,
   "metadata": {
    "id": "EHVfOndQ5qgQ"
   },
   "outputs": [],
   "source": [
    "from sklearn import datasets\n",
    "import matplotlib.pyplot as plt\n",
    "\n",
    "q1_X, q1_y = datasets.make_moons(100, noise=0.05, random_state=42)\n",
    "plt.scatter(q1_X[q1_y==0, 0], q1_X[q1_y==0, 1])\n",
    "plt.scatter(q1_X[q1_y==1, 0], q1_X[q1_y==1, 1])"
   ]
  },
  {
   "cell_type": "markdown",
   "metadata": {},
   "source": [
    "#### 練習問題 1-1 | PCAによる次元削減"
   ]
  },
  {
   "cell_type": "markdown",
   "metadata": {},
   "source": [
    "#### Exercise 1-1 | Dimensionality Reduction with PCA"
   ]
  },
  {
   "cell_type": "markdown",
   "metadata": {
    "deletable": false,
    "editable": false,
    "id": "a0StRQcy5qgS"
   },
   "source": [
    "`q1_X` に対してPCAを実施し、第1主成分得点のみを取り出したものを `q11_pc1_score` に記録せよ。\n",
    "また、`q11_pc1_score` について、`q1_y==0` であるデータと `q1_y==1` であるデータとでどの程度値に差があるのか、ヒストグラムを用いて評価せよ。（後半は自動採点対象外である）"
   ]
  },
  {
   "cell_type": "markdown",
   "metadata": {
    "deletable": false,
    "editable": false
   },
   "source": [
    "Perform PCA on `q1_X` and record only the first principal component score in `q11_pc1_score`.\n",
    "Also, evaluate the extent to which there is a difference in values between data where `q1_y==0` and `q1_y==1`, using a histogram for assessment. (The latter part is not subject to auto-grading.)"
   ]
  },
  {
   "cell_type": "code",
   "execution_count": null,
   "metadata": {
    "colab": {
     "base_uri": "https://localhost:8080/",
     "height": 75
    },
    "id": "FlhOg7kW5qgS",
    "outputId": "4a337d36-97de-4029-f8d4-c44724b41d56",
    "tags": [
     "otter_answer_cell"
    ]
   },
   "outputs": [],
   "source": [
    "from sklearn.decomposition import PCA\n",
    "..."
   ]
  },
  {
   "cell_type": "code",
   "execution_count": null,
   "metadata": {
    "tags": [
     "otter_answer_cell"
    ]
   },
   "outputs": [],
   "source": [
    "q11_pc1_score_0 = q11_pc1_score[q1_y==0]\n",
    "q11_pc1_score_1 = q11_pc1_score[q1_y==1]\n",
    "plt.hist(q11_pc1_score_0, label=\"label=0\", alpha=0.5)\n",
    "plt.hist(q11_pc1_score_1, label=\"label=1\", alpha=0.5)\n",
    "plt.ylabel(\"PC1 score\")\n",
    "plt.legend()\n",
    "plt.show()"
   ]
  },
  {
   "cell_type": "code",
   "execution_count": null,
   "metadata": {
    "deletable": false,
    "editable": false
   },
   "outputs": [],
   "source": [
    "grader.check(\"Exercise 1-1\")"
   ]
  },
  {
   "cell_type": "markdown",
   "metadata": {},
   "source": [
    "#### 練習問題 1-2 | Graph Embeddingによる次元削減"
   ]
  },
  {
   "cell_type": "markdown",
   "metadata": {},
   "source": [
    "#### Exercise 1-2 | Dimensionality Reduction with Graph Embedding"
   ]
  },
  {
   "cell_type": "markdown",
   "metadata": {
    "deletable": false,
    "editable": false,
    "id": "XToBP3w35qgU"
   },
   "source": [
    "`q1_X` に対して `SpectralEmbedding` を実施し、第1主成分得点のみを取り出したものを `q12_pc1_score` に記録せよ。ただし、 `affinity=\"Nearest_neighbors\"` とし、 `n_neighbors=10` とせよ。\n",
    "また、`q12_pc1_score` について、`q1_y==0` であるデータと `q1_y==1` であるデータとでどの程度値に差があるのか、boxplotを用いて評価せよ。（後半は自動採点対象外である）"
   ]
  },
  {
   "cell_type": "markdown",
   "metadata": {
    "deletable": false,
    "editable": false
   },
   "source": [
    "Perform `SpectralEmbedding` on `q1_X` and record only the first principal component score in `q12_pc1_score`. Use `affinity=\"Nearest_neighbors\"` and set `n_neighbors=10`.\n",
    "Also, evaluate the extent to which there is a difference in values between data where `q1_y==0` and `q1_y==1`, using a boxplot for assessment. (The latter part is not subject to auto-grading.)"
   ]
  },
  {
   "cell_type": "code",
   "execution_count": null,
   "metadata": {
    "colab": {
     "base_uri": "https://localhost:8080/",
     "height": 75
    },
    "id": "3ACVckH05qgU",
    "outputId": "5f47ba4f-9bd4-4961-dbbc-7db5ff662f42",
    "tags": [
     "otter_answer_cell"
    ]
   },
   "outputs": [],
   "source": [
    "from sklearn.manifold import SpectralEmbedding\n",
    "..."
   ]
  },
  {
   "cell_type": "code",
   "execution_count": null,
   "metadata": {
    "tags": [
     "otter_answer_cell"
    ]
   },
   "outputs": [],
   "source": [
    "q12_pc1_score_0 = q12_pc1_score[q1_y==0]\n",
    "q12_pc1_score_1 = q12_pc1_score[q1_y==1]\n",
    "plt.hist(q12_pc1_score_0, label=\"label=0\", alpha=0.5)\n",
    "plt.hist(q12_pc1_score_1, label=\"label=1\", alpha=0.5)\n",
    "plt.ylabel(\"PC1 score\")\n",
    "plt.legend()\n",
    "plt.show()"
   ]
  },
  {
   "cell_type": "code",
   "execution_count": null,
   "metadata": {
    "deletable": false,
    "editable": false
   },
   "outputs": [],
   "source": [
    "grader.check(\"Exercise 1-2\")"
   ]
  },
  {
   "cell_type": "markdown",
   "metadata": {
    "id": "saroF1iy51qR"
   },
   "source": [
    "#### 練習問題 1-3 | PCAの計算時間とGEの計算時間"
   ]
  },
  {
   "cell_type": "markdown",
   "metadata": {},
   "source": [
    "#### Exercise 1-3 | Comparison of Calculation Times for PCA and GE"
   ]
  },
  {
   "cell_type": "markdown",
   "metadata": {
    "id": "f-PSyrue6iq1"
   },
   "source": [
    "以下のコードを実行し、3000件のデータに対する計算時間を比較せよ。この練習問題は自動採点対象外である。"
   ]
  },
  {
   "cell_type": "markdown",
   "metadata": {},
   "source": [
    "Run the following code and compare the computation times for 3000 data points. This exercise is not subject to auto-grading."
   ]
  },
  {
   "cell_type": "code",
   "execution_count": null,
   "metadata": {},
   "outputs": [],
   "source": [
    "q13_X, q13_y = datasets.make_moons(3000, noise=0.05, random_state=42)"
   ]
  },
  {
   "cell_type": "code",
   "execution_count": null,
   "metadata": {},
   "outputs": [],
   "source": [
    "# PCA\n",
    "\n",
    "import time\n",
    "\n",
    "st = time.time()\n",
    "\n",
    "ge = PCA(n_components=2)\n",
    "ge.fit_transform(q13_X)\n",
    "\n",
    "ed = time.time()\n",
    "print(f\"{ed-st:.2f} sec.\")"
   ]
  },
  {
   "cell_type": "code",
   "execution_count": null,
   "metadata": {},
   "outputs": [],
   "source": [
    "# Graph Embedding\n",
    "\n",
    "import time\n",
    "\n",
    "st = time.time()\n",
    "\n",
    "ge = SpectralEmbedding(n_components=2, affinity=\"nearest_neighbors\", n_neighbors=100)\n",
    "ge.fit_transform(q13_X)\n",
    "\n",
    "ed = time.time()\n",
    "print(f\"{ed-st:.2f} sec.\")"
   ]
  },
  {
   "cell_type": "markdown",
   "metadata": {},
   "source": [
    "## 2 | CCAの低次元空間におけるデータ間の距離"
   ]
  },
  {
   "cell_type": "markdown",
   "metadata": {},
   "source": [
    "## 2 | Distances Between Data in Low-Dimensional Space with CCA"
   ]
  },
  {
   "cell_type": "markdown",
   "metadata": {},
   "source": [
    "#### 事前準備"
   ]
  },
  {
   "cell_type": "markdown",
   "metadata": {},
   "source": [
    "#### Preliminaries"
   ]
  },
  {
   "cell_type": "code",
   "execution_count": null,
   "metadata": {},
   "outputs": [],
   "source": [
    "from sklearn import datasets\n",
    "from sklearn.model_selection import train_test_split\n",
    "\n",
    "q2_d = datasets.load_digits()\n",
    "q2_D = q2_d.data\n",
    "q2_y = q2_d.target\n",
    "\n",
    "q2_D_subset, _, q2_y_subset, _ = train_test_split(q2_D, q2_y, train_size=300, random_state=42) # extract only 300 samples\n",
    "q2_X_subset = q2_D_subset[:, :48] # upper side of the digit image\n",
    "q2_Z_subset = q2_D_subset[:, 48:] # lower side of the digit image"
   ]
  },
  {
   "cell_type": "code",
   "execution_count": null,
   "metadata": {},
   "outputs": [],
   "source": [
    "## Function for 2D visualization of handwritten character data\n",
    "import matplotlib.pyplot as plt\n",
    "def plot_digits(X, y):\n",
    "    plt.figure(figsize=(5,5))\n",
    "    color = [plt.cm.nipy_spectral(i/10, 1) for i in range(10)]\n",
    "    for i in range(10):\n",
    "        plt.scatter(X[y==i, 0], X[y==i, 1], color=color[i], marker=f\"${i}$\")\n",
    "    plt.show()"
   ]
  },
  {
   "cell_type": "code",
   "execution_count": null,
   "metadata": {},
   "outputs": [],
   "source": [
    "# Perform CCA between X_subset and Z_subset\n",
    "from sklearn.cross_decomposition import CCA\n",
    "\n",
    "q2_cca = CCA(n_components=2, scale=True)\n",
    "q2_cca.fit(q2_X_subset, q2_Z_subset)\n",
    "q2_Xc, q2_Zc = q2_cca.transform(q2_X_subset, q2_Z_subset)"
   ]
  },
  {
   "cell_type": "code",
   "execution_count": null,
   "metadata": {},
   "outputs": [],
   "source": [
    "# please uncomment below lines if you want to see the plot\n",
    "\n",
    "# plot_digits(q2_Xc, q2_y_subset) \n",
    "# plot_digits(q2_Zc, q2_y_subset)"
   ]
  },
  {
   "cell_type": "markdown",
   "metadata": {},
   "source": [
    "#### 練習問題 2-1 | データ間の距離を求める関数"
   ]
  },
  {
   "cell_type": "markdown",
   "metadata": {},
   "source": [
    "#### Exercise 2-1 | Function to Calculate Distances Between Data"
   ]
  },
  {
   "cell_type": "markdown",
   "metadata": {
    "deletable": false,
    "editable": false
   },
   "source": [
    "CCAでは、2つのデータ間の距離を縮めるように低次元空間への射影を行う。したがって、得られた低次元表現 $X_c$ および $Z_c$ は、対応関係のあるデータ間の距離が近いことが期待される。\n",
    "\n",
    "そこで、データ間の距離を求める関数 `q21_calc_dist(v1, v2)` を実装せよ。ただし、`v1` および `v2` はそれぞれベクトルであり、ユークリッド距離を用いて距離を求めるものとする。"
   ]
  },
  {
   "cell_type": "markdown",
   "metadata": {
    "deletable": false,
    "editable": false
   },
   "source": [
    "CCA projects two sets of data into a lower dimensional space in order to reduce the distance between them. Therefore, the obtained low-dimensional representations $X_c$ and $Z_c$ are expected to have close distances for corresponding data.\n",
    "\n",
    "Implement the function `q21_calc_dist(v1, v2)` to calculate the distance between data, where `v1` and `v2` are vectors, and the Euclidean distance is used to calculate the distance."
   ]
  },
  {
   "cell_type": "code",
   "execution_count": null,
   "metadata": {
    "tags": [
     "otter_answer_cell"
    ]
   },
   "outputs": [],
   "source": [
    "import numpy as np\n",
    "\n",
    "def q21_calc_dist(v1, v2):\n",
    "    ...\n",
    "    return ..."
   ]
  },
  {
   "cell_type": "code",
   "execution_count": null,
   "metadata": {
    "deletable": false,
    "editable": false
   },
   "outputs": [],
   "source": [
    "grader.check(\"Exercise 2-1\")"
   ]
  },
  {
   "cell_type": "markdown",
   "metadata": {},
   "source": [
    "#### 練習問題 2-2 | 対応しあうデータ間の距離"
   ]
  },
  {
   "cell_type": "markdown",
   "metadata": {},
   "source": [
    "#### Exercise 2-2 | Distances Between Corresponding Data"
   ]
  },
  {
   "cell_type": "markdown",
   "metadata": {
    "deletable": false,
    "editable": false
   },
   "source": [
    "練習問題 2-1 で作成した `q21_calc_dist` 関数を用いて、`q2_Xc` と `q2_Zc` の対応しあう各データ間の距離を求め、その平均値を `q22_avg_dist_paired` に記録せよ。 "
   ]
  },
  {
   "cell_type": "markdown",
   "metadata": {
    "deletable": false,
    "editable": false
   },
   "source": [
    "Using the `q21_calc_dist` function created in Exercise 2-1, calculate the distances between corresponding data in `q2_Xc` and `q2_Zc`, and record the average value in `q22_avg_dist_paired`."
   ]
  },
  {
   "cell_type": "code",
   "execution_count": null,
   "metadata": {
    "tags": [
     "otter_answer_cell"
    ]
   },
   "outputs": [],
   "source": [
    "...\n",
    "q22_avg_dist_paired = ..."
   ]
  },
  {
   "cell_type": "code",
   "execution_count": null,
   "metadata": {
    "deletable": false,
    "editable": false
   },
   "outputs": [],
   "source": [
    "grader.check(\"Exercise 2-2\")"
   ]
  },
  {
   "cell_type": "markdown",
   "metadata": {},
   "source": [
    "#### 練習問題 2-3 | 対応しないデータ間の距離との比較"
   ]
  },
  {
   "cell_type": "markdown",
   "metadata": {},
   "source": [
    "#### Exercise 2-3 | Comparison with Distances Between Unpaired Data"
   ]
  },
  {
   "cell_type": "markdown",
   "metadata": {
    "deletable": false,
    "editable": false
   },
   "source": [
    "`q2_Xc` と `q2_Zc` の**対応しあわない**各データ間の距離を求め（300サンプル存在することから、$300^2 - 300 = 89700$ 件の距離を求めることになるはずである）、その平均値を `q23_avg_dist_unpaired` に記録せよ。 この値を `q22_avg_dist_paired` と比較し、距離の差があることを確認せよ。"
   ]
  },
  {
   "cell_type": "markdown",
   "metadata": {
    "deletable": false,
    "editable": false
   },
   "source": [
    "Calculate the distances between **unpaired** data in `q2_Xc` and `q2_Zc` (there should be $300^2 - 300 = 89700$ distances calculated), and record the average value in `q23_avg_dist_unpaired`. Compare this value with `q22_avg_dist_paired` to confirm the difference in distances."
   ]
  },
  {
   "cell_type": "code",
   "execution_count": null,
   "metadata": {
    "tags": [
     "otter_answer_cell"
    ]
   },
   "outputs": [],
   "source": [
    "...\n",
    "q23_avg_dist_unpaired = ..."
   ]
  },
  {
   "cell_type": "code",
   "execution_count": null,
   "metadata": {
    "deletable": false,
    "editable": false
   },
   "outputs": [],
   "source": [
    "grader.check(\"Exercise 2-3\")"
   ]
  },
  {
   "cell_type": "markdown",
   "metadata": {},
   "source": [
    "## 3 | CCAによる画像復元の復元精度評価"
   ]
  },
  {
   "cell_type": "markdown",
   "metadata": {},
   "source": [
    "## 3 | Evaluation of Restoration Accuracy of Images Using CCA"
   ]
  },
  {
   "cell_type": "markdown",
   "metadata": {},
   "source": [
    "#### 事前準備"
   ]
  },
  {
   "cell_type": "markdown",
   "metadata": {},
   "source": [
    "#### Preliminaries\n"
   ]
  },
  {
   "cell_type": "code",
   "execution_count": null,
   "metadata": {},
   "outputs": [],
   "source": [
    "q3_cca = CCA(n_components=8, scale=True)\n",
    "q3_cca.fit(q2_X_subset, q2_Z_subset)\n",
    "q3_Xc, q3_Zc = q3_cca.transform(q2_X_subset, q2_Z_subset)\n",
    "q3_X_reconstructed = q3_cca.inverse_transform(q3_Xc)"
   ]
  },
  {
   "cell_type": "markdown",
   "metadata": {},
   "source": [
    "#### 練習問題 3-1 | cos類似度：ベクトル間の類似度指標"
   ]
  },
  {
   "cell_type": "markdown",
   "metadata": {},
   "source": [
    "#### Exercise 3-1 | Cosine Similarity: A Similarity Measure Between Vectors"
   ]
  },
  {
   "cell_type": "markdown",
   "metadata": {
    "deletable": false,
    "editable": false
   },
   "source": [
    "ベクトル間の類似度を測る指標として、cos類似度がよく用いられる。cos類似度は、2つのベクトル $v_1$ および $v_2$ の内積を用いて以下のように定義される。"
   ]
  },
  {
   "cell_type": "markdown",
   "metadata": {
    "deletable": false,
    "editable": false
   },
   "source": [
    "Cosine similarity is commonly used as a measure of similarity between two vectors. It is defined as follows using the dot product of the two vectors $v_1$ and $v_2$."
   ]
  },
  {
   "cell_type": "markdown",
   "metadata": {
    "deletable": false,
    "editable": false
   },
   "source": [
    "$$\n",
    "\\text{cosine similarity} = \\frac{v_1 \\cdot v_2}{\\|v_1\\| \\|v_2\\|}\n",
    "$$"
   ]
  },
  {
   "cell_type": "markdown",
   "metadata": {
    "deletable": false,
    "editable": false
   },
   "source": [
    "cos類似度を求める関数 `q31_cos_similarity(v1, v2)` を実装せよ。ただし、`v1`および`v2`は零ベクトルではないものとする。\n"
   ]
  },
  {
   "cell_type": "markdown",
   "metadata": {
    "deletable": false,
    "editable": false
   },
   "source": [
    "Implement the function `q31_cos_similarity(v1, v2)` to calculate cosine similarity, where `v1` and `v2` are not zero vectors.\n"
   ]
  },
  {
   "cell_type": "code",
   "execution_count": null,
   "metadata": {
    "tags": [
     "otter_answer_cell"
    ]
   },
   "outputs": [],
   "source": [
    "import numpy as np\n",
    "def q31_cos_similarity(v1, v2):\n",
    "    ...\n",
    "    return ..."
   ]
  },
  {
   "cell_type": "code",
   "execution_count": null,
   "metadata": {
    "deletable": false,
    "editable": false
   },
   "outputs": [],
   "source": [
    "grader.check(\"Exercise 3-1\")"
   ]
  },
  {
   "cell_type": "markdown",
   "metadata": {},
   "source": [
    "#### 練習問題 3-2 | 自分自身の復元精度の評価"
   ]
  },
  {
   "cell_type": "markdown",
   "metadata": {},
   "source": [
    "#### Exercise 3-2 | Evaluation of Self-Reconstruction Accuracy"
   ]
  },
  {
   "cell_type": "markdown",
   "metadata": {
    "deletable": false,
    "editable": false
   },
   "source": [
    "CCAを用いて `q2_X_subset` を一旦低次元空間に射影し、元の空間に復元したものを `q3_X_reconstructed` として記録してある（事前準備のコードを確認せよ）。変換前と変換後の各データ間のcos類似度を求め、その平均値を `q32_avg_cos_similarity` に記録せよ。"
   ]
  },
  {
   "cell_type": "markdown",
   "metadata": {
    "deletable": false,
    "editable": false
   },
   "source": [
    "Using CCA, project `q2_X_subset` into a low-dimensional space and record the reconstruction in the original space as `q3_X_reconstructed` (check the code in the preparations). Calculate the cosine similarity between the original and reconstructed data for each data point, and record the average value in `q32_avg_cos_similarity`."
   ]
  },
  {
   "cell_type": "code",
   "execution_count": null,
   "metadata": {
    "tags": [
     "otter_answer_cell"
    ]
   },
   "outputs": [],
   "source": [
    "...\n",
    "q32_avg_cos_similarity = ..."
   ]
  },
  {
   "cell_type": "code",
   "execution_count": null,
   "metadata": {
    "deletable": false,
    "editable": false
   },
   "outputs": [],
   "source": [
    "grader.check(\"Exercise 3-2\")"
   ]
  },
  {
   "cell_type": "markdown",
   "metadata": {},
   "source": [
    "#### 練習問題 3-3 | 最も復元しやすい数字の特定"
   ]
  },
  {
   "cell_type": "markdown",
   "metadata": {},
   "source": [
    "#### Exercise 3-3 | Identifying the Most Easily Restorable Digit"
   ]
  },
  {
   "cell_type": "markdown",
   "metadata": {
    "deletable": false,
    "editable": false
   },
   "source": [
    "cos類似度の平均値が高い数字は復元が容易な数字であると推定出来る。最もcos類似度の平均値が高い数字を特定し、その数字を `q33_best_digit` に整数値として記録せよ（例えば文字`\"5\"`ではなく、整数値`5`として記録せよ）。"
   ]
  },
  {
   "cell_type": "markdown",
   "metadata": {
    "deletable": false,
    "editable": false
   },
   "source": [
    "Digits with high average cosine similarity are presumed to be easily restorable. Identify the digit with the highest average cosine similarity and record that digit as an integer in `q33_best_digit` (record as an integer value like `5` instead of the character `\"5\"`)."
   ]
  },
  {
   "cell_type": "code",
   "execution_count": null,
   "metadata": {
    "tags": [
     "otter_answer_cell"
    ]
   },
   "outputs": [],
   "source": [
    "...\n",
    "q33_best_digit ..."
   ]
  },
  {
   "cell_type": "code",
   "execution_count": null,
   "metadata": {
    "deletable": false,
    "editable": false
   },
   "outputs": [],
   "source": [
    "grader.check(\"Exercise 3-3\")"
   ]
  }
 ],
 "metadata": {
  "colab": {
   "provenance": []
  },
  "kernelspec": {
   "display_name": "base",
   "language": "python",
   "name": "python3"
  },
  "language_info": {
   "codemirror_mode": {
    "name": "ipython",
    "version": 3
   },
   "file_extension": ".py",
   "mimetype": "text/x-python",
   "name": "python",
   "nbconvert_exporter": "python",
   "pygments_lexer": "ipython3",
   "version": "3.11.10"
  },
  "otter": {
   "OK_FORMAT": true,
   "tests": {
    "Exercise 1-1": {
     "name": "Exercise 1-1",
     "points": null,
     "suites": [
      {
       "cases": [
        {
         "code": ">>> len(q11_pc1_score) == 100\nTrue",
         "failure_message": "q11_pc1_score の要素数が異なります。PCAへの入力形式が誤っていませんか？ / The number of elements in q11_pc1_score is different. Is the input format for PCA incorrect?",
         "hidden": false,
         "locked": false
        },
        {
         "code": ">>> import numpy as np\n>>> np.isclose(np.mean(q11_pc1_score), 0, atol=1e-05) and np.isclose(np.var(q11_pc1_score), 0.8292292718, atol=1e-05)\nnp.True_",
         "failure_message": "q11_pc1_score の値が異なっています。元のデータ q1_X の値を取得していませんか？ / The values of q11_pc1_score are different. Are you getting the values of the original data q1_X?",
         "hidden": false,
         "locked": false
        }
       ],
       "scored": true,
       "setup": "",
       "teardown": "",
       "type": "doctest"
      }
     ]
    },
    "Exercise 1-2": {
     "name": "Exercise 1-2",
     "points": null,
     "suites": [
      {
       "cases": [
        {
         "code": ">>> len(q12_pc1_score) == 100\nTrue",
         "failure_message": "q12_pc1_score の要素数が異なります。SpectralEmbeddingへの入力形式が誤っていませんか？誤って q12 ではなく q11 の変数を更新していませんか？ / The number of elements in q12_pc1_score is different. Is the input format for SpectralEmbedding incorrect? Did you accidentally update the variable q11 instead of q12?",
         "hidden": false,
         "locked": false
        },
        {
         "code": ">>> import numpy as np\n>>> np.isclose(np.mean(q12_pc1_score), 2.569711e-05, atol=1e-05) and np.isclose(np.var(q12_pc1_score), 0.00110877, atol=1e-05)\nnp.True_",
         "failure_message": "q12_pc1_score の値が異なっています。元のデータ q1_X の値を取得していませんか？誤って q12 ではなく q11 の変数を更新していませんか？ / The values of q12_pc1_score are different. Are you obtaining values from the original data q1_X? Did you accidentally update the variable q11 instead of q12?",
         "hidden": false,
         "locked": false
        }
       ],
       "scored": true,
       "setup": "",
       "teardown": "",
       "type": "doctest"
      }
     ]
    },
    "Exercise 2-1": {
     "name": "Exercise 2-1",
     "points": null,
     "suites": [
      {
       "cases": [
        {
         "code": ">>> val = q21_calc_dist(np.array([1, 2]), np.array([3, 4]))\n>>> np.issubdtype(type(val), np.floating)\nTrue",
         "failure_message": "q21_calc_dist が実数値を返り値としていません。関数の最後に return を使っていますか？ / q21_calc_dist does not return a real value. Are you using return at the end of the function?",
         "hidden": false,
         "locked": false
        },
        {
         "code": ">>> np.isclose(q21_calc_dist(np.array([1, 2]), np.array([3, 4])), 2.8284271247461903, atol=1e-05)\nnp.True_",
         "failure_message": "計算結果が異なります。距離の計算が誤っていませんか？ / The calculation result is different. Is the distance calculation incorrect?",
         "hidden": false,
         "locked": false
        },
        {
         "code": ">>> np.isclose(q21_calc_dist(np.array([-1, 2]), np.array([3, -4])), 7.211102550927978, atol=1e-05)\nnp.True_",
         "failure_message": "計算結果が異なります。距離の計算が誤っていませんか？ / The calculation result is different. Is the distance calculation incorrect?",
         "hidden": false,
         "locked": false
        },
        {
         "code": ">>> np.isclose(q21_calc_dist(np.array([1, 2, 3]), np.array([4, 5, 6])), 5.196152422706632, atol=1e-05)\nnp.True_",
         "failure_message": "計算結果が異なります。距離の計算が誤っていませんか？ / The calculation result is different. Is the distance calculation incorrect?",
         "hidden": false,
         "locked": false
        },
        {
         "code": ">>> np.isclose(q21_calc_dist(np.array([0, 0]), np.array([0, 0])), 0, atol=1e-05)\nnp.True_",
         "failure_message": "計算結果が異なります。距離の計算が誤っていませんか？ / The calculation result is different. Is the distance calculation incorrect?",
         "hidden": false,
         "locked": false
        },
        {
         "code": ">>> np.isclose(q21_calc_dist(np.array([1, 2]), np.array([1, 2])), 0, atol=1e-05)\nnp.True_",
         "failure_message": "計算結果が異なります。距離の計算が誤っていませんか？ / The calculation result is different. Is the distance calculation incorrect?",
         "hidden": false,
         "locked": false
        }
       ],
       "scored": true,
       "setup": "",
       "teardown": "",
       "type": "doctest"
      }
     ]
    },
    "Exercise 2-2": {
     "name": "Exercise 2-2",
     "points": null,
     "suites": [
      {
       "cases": [
        {
         "code": ">>> 0 < q22_avg_dist_paired < 10 and np.isclose(q22_avg_dist_paired, 0.4204476307692026, atol=1e-05)\nnp.True_",
         "failure_message": "q22_avg_dist_paired が適切ではありません。距離の計算が誤っていませんか？ / q22_avg_dist_paired is not appropriate. Is the distance calculation incorrect?",
         "hidden": false,
         "locked": false
        },
        {
         "code": ">>> q22_avg_dist_paired < 100\nnp.True_",
         "failure_message": "q22_avg_dist_paired に平均値ではなく合計値が記録されています。サンプル数で割って平均値を求めてください。 / q22_avg_dist_paired records a sum instead of an average. Please divide by the number of samples to get the average.",
         "hidden": false,
         "locked": false
        }
       ],
       "scored": true,
       "setup": "",
       "teardown": "",
       "type": "doctest"
      }
     ]
    },
    "Exercise 2-3": {
     "name": "Exercise 2-3",
     "points": null,
     "suites": [
      {
       "cases": [
        {
         "code": ">>> 0 < q23_avg_dist_unpaired and q23_avg_dist_unpaired < 10 and np.isclose(q23_avg_dist_unpaired, 1.9183889222883153, atol=1e-05)\nnp.True_",
         "failure_message": "q23_avg_dist_unpaired が適切ではありません。距離の計算が誤っていませんか？ / q23_avg_dist_unpaired is not appropriate. Is the distance calculation incorrect?",
         "hidden": false,
         "locked": false
        },
        {
         "code": ">>> q23_avg_dist_unpaired < 100000.0\nnp.True_",
         "failure_message": "q23_avg_dist_unpaired に平均値ではなく合計値が記録されています。サンプル数で割って平均値を求めてください。 / q23_avg_dist_unpaired records a sum instead of an average. Please divide by the number of samples to get the average.",
         "hidden": false,
         "locked": false
        },
        {
         "code": ">>> 1 < q23_avg_dist_unpaired and q23_avg_dist_unpaired < 10\nnp.True_",
         "failure_message": "q23_avg_dist_unpaired が適切ではありません。計算していない部分はありませんか？ / q23_avg_dist_unpaired is not appropriate. Are there any parts not being calculated?",
         "hidden": false,
         "locked": false
        },
        {
         "code": ">>> 1 < q23_avg_dist_unpaired and q23_avg_dist_unpaired < 10\nnp.True_",
         "failure_message": "q23_avg_dist_unpaired が適切ではありません。計算していない部分はありませんか？ / q23_avg_dist_unpaired is not appropriate. Are there any parts not being calculated?",
         "hidden": false,
         "locked": false
        }
       ],
       "scored": true,
       "setup": "",
       "teardown": "",
       "type": "doctest"
      }
     ]
    },
    "Exercise 3-1": {
     "name": "Exercise 3-1",
     "points": null,
     "suites": [
      {
       "cases": [
        {
         "code": ">>> val = q31_cos_similarity(np.array([1, 2]), np.array([3, 4]))\n>>> np.issubdtype(type(val), np.floating)\nTrue",
         "failure_message": "q31_cos_similarity が実数値を返り値としていません。関数の最後に return を使っていますか？ / q31_cos_similarity does not return a real value. Are you using return at the end of the function?",
         "hidden": false,
         "locked": false
        },
        {
         "code": ">>> np.isclose(q31_cos_similarity(np.array([1, 2]), np.array([3, 4])), 0.9838699100999074, atol=1e-05)\nnp.True_",
         "failure_message": "計算結果が異なります。cosの計算が誤っていませんか？ / The calculation result is different. Is the cosine calculation incorrect?",
         "hidden": false,
         "locked": false
        },
        {
         "code": ">>> np.isclose(q31_cos_similarity(np.array([1, 2, 3]), np.array([4, 5, 6])), 0.9746318461970762, atol=1e-05)\nnp.True_",
         "failure_message": "計算結果が異なります。cosの計算が誤っていませんか？ / The calculation result is different. Is the cosine calculation incorrect?",
         "hidden": false,
         "locked": false
        },
        {
         "code": ">>> np.isclose(q31_cos_similarity(np.array([1, 2]), np.array([1, 2])), 1, atol=1e-05)\nnp.True_",
         "failure_message": "計算結果が異なります。cosの計算が誤っていませんか？ / The calculation result is different. Is the cosine calculation incorrect?",
         "hidden": false,
         "locked": false
        },
        {
         "code": ">>> np.isclose(q31_cos_similarity(np.array([1, 2]), np.array([2, 4])), 1, atol=1e-05)\nnp.True_",
         "failure_message": "計算結果が異なります。cosの計算が誤っていませんか？ / The calculation result is different. Is the cosine calculation incorrect?",
         "hidden": false,
         "locked": false
        },
        {
         "code": ">>> np.isclose(q31_cos_similarity(np.array([-3, -6]), np.array([2, 4])), -1, atol=1e-05)\nnp.True_",
         "failure_message": "計算結果が異なります。cosの計算が誤っていませんか？ / The calculation result is different. Is the cosine calculation incorrect?",
         "hidden": false,
         "locked": false
        },
        {
         "code": ">>> np.isclose(q31_cos_similarity(np.array([1, 0]), np.array([0, 1])), 0, atol=1e-05)\nnp.True_",
         "failure_message": "計算結果が異なります。cosの計算が誤っていませんか？ / The calculation result is different. Is the cosine calculation incorrect?",
         "hidden": false,
         "locked": false
        }
       ],
       "scored": true,
       "setup": "",
       "teardown": "",
       "type": "doctest"
      }
     ]
    },
    "Exercise 3-2": {
     "name": "Exercise 3-2",
     "points": null,
     "suites": [
      {
       "cases": [
        {
         "code": ">>> np.issubdtype(type(q32_avg_cos_similarity), np.floating)\nTrue",
         "failure_message": "q32_avg_cos_similarity が実数値ではない値になっています。 / q32_avg_cos_similarity is not a real number.",
         "hidden": false,
         "locked": false
        },
        {
         "code": ">>> np.isclose(q32_avg_cos_similarity, 0.9015666194103865, atol=1e-05)\nnp.True_",
         "failure_message": "q32_avg_cos_similarity の値が誤っています。 / The value of q32_avg_cos_similarity is incorrect.",
         "hidden": false,
         "locked": false
        },
        {
         "code": ">>> 0 < q32_avg_cos_similarity and q32_avg_cos_similarity < 1\nnp.True_",
         "failure_message": "q32_avg_cos_similarity に平均値ではなく合計値が記録されています。サンプル数で割って平均値を求めてください。 / q32_avg_cos_similarity records a sum instead of an average. Please divide by the number of samples to get the average.",
         "hidden": false,
         "locked": false
        }
       ],
       "scored": true,
       "setup": "",
       "teardown": "",
       "type": "doctest"
      }
     ]
    },
    "Exercise 3-3": {
     "name": "Exercise 3-3",
     "points": null,
     "suites": [
      {
       "cases": [
        {
         "code": ">>> np.issubdtype(type(q33_best_digit), np.integer)\nTrue",
         "failure_message": "q33_best_digit が整数値になっていません。平均値ではなく、最もcos類似度が高い数字はどれか？を q33_best_digit に代入してください。 / q33_best_digit is not an integer. Please assign the digit with the highest cosine similarity to q33_best_digit instead of an average.",
         "hidden": false,
         "locked": false
        },
        {
         "code": ">>> not isinstance(q33_best_digit, str)\nTrue",
         "failure_message": "q33_best_digit が文字列になっています。整数値を入力するようにしてください。 / q33_best_digit is a string. Please input an integer value.",
         "hidden": false,
         "locked": false
        },
        {
         "code": ">>> 0 <= q33_best_digit and q33_best_digit <= 9\nnp.True_",
         "failure_message": "q33_best_digit が0以上9以下の整数値ではありません。 / q33_best_digit is not an integer between 0 and 9.",
         "hidden": false,
         "locked": false
        },
        {
         "code": ">>> q33_best_digit == 0\nnp.True_",
         "failure_message": "q33_best_digit が誤っています。全ての数字について平均cos類似度を出力するなどして値を確認してみてください。 / q33_best_digit is incorrect. Please check the values by outputting the average cosine similarities for all digits.",
         "hidden": false,
         "locked": false
        }
       ],
       "scored": true,
       "setup": "",
       "teardown": "",
       "type": "doctest"
      }
     ]
    }
   }
  }
 },
 "nbformat": 4,
 "nbformat_minor": 0
}
