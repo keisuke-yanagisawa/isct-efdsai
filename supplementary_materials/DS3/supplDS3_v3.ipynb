{
 "cells": [
  {
   "cell_type": "markdown",
   "metadata": {},
   "source": [
    "<img height=\"40px\" src=\"https://ane1.boxcloud.com/api/2.0/internal_files/1702616936468/versions/1874107676468/representations/png_paged_2048x2048/content/1.png?access_token=1!dkGm3geJocHGeDnBUdGDaUB3hHBa7jw4dFMQe3m6VI6nGB_n90LHq1EZlzuz-KxQEkU1FdIN3Lj--F_frENEjpPJN9X0AJaEgos_kQKnB92ygmX5i6puh2Li6M2MkOEI7ezejx9BPJdXn7jPhRlZzjLWWnwKCYdWPpeVNeIllm2muUdrg5R7E2Tan7vlf_6nesJZoo2UmbVR7a3I3H-ogJFAraFAGqQglSCLsTlyFCvME6WGzzQIXgi9cP3B9JagDKd1_UW1mYvUJpufeVsFD4d4Is3xbhtzvdnJO_MTPtsBCK-eef3WVTYEDF4hawMJ28Tx6Ahn1TRVllUZf6Wr4KRbyR3C3aWRdBihHAWXpfjs3x2J5tLC3Qe4dNxnnPn6IoakSRDq732liCQwUMn4iXoloqdsO06E7OUuAzo6-dQkv4LMOPfEvb9YozUKtZ_to7Iwb-JSTxOd-N74YxNaAvQY0aBl3467IVdKySBVfL61BMoMlF9Fdq3YmUbdQVaYaS1L8khYtfXzuhmDDNRLyTBUmBjV2HHjM8q-Oj9KsjAue_JJZJbs77N3XgOH4OOFZkx4hw9jns7DFvUo-5czuzNgMej8GWpg84l9TENpt4M54MQNtQHbRKwivASAfNCOZecLhTxQBi8CKhrGEeiTaIFenYkmyuAL2H1Bf4mBWRKJF4GruRqkAoOuVVQHXx7GWv5smx9PS2hA9yxweR6QwppqiSo.&box_client_name=box-content-preview&box_client_version=2.110.0\">"
   ]
  },
  {
   "cell_type": "code",
   "execution_count": null,
   "metadata": {},
   "outputs": [],
   "source": [
    "# Preparation for auto-grading\n",
    "unit = \"DS3\"\n",
    "!pip install otter-grader \n",
    "!wget https://github.com/keisuke-yanagisawa/isct-efdsai/raw/refs/heads/main/supplementary_materials/{unit}/student.tar.gz -O {unit}.tar.gz\n",
    "!tar -zxvf {unit}.tar.gz \n",
    "!rm {unit}.tar.gz\n",
    "%cd student\n",
    "import otter\n",
    "grader = otter.Notebook()"
   ]
  },
  {
   "cell_type": "markdown",
   "metadata": {},
   "source": [
    "# 基盤データサイエンス演習 第3回 決定木による分類とモデル評価 補習資料"
   ]
  },
  {
   "cell_type": "markdown",
   "metadata": {},
   "source": [
    "# Supplemental Material: Excersices in Fundamentals of Data Science (3) - Classification and Model Evaluation Using Decision Trees"
   ]
  },
  {
   "cell_type": "markdown",
   "metadata": {
    "id": "nIWu0KHd5qgP"
   },
   "source": [
    "## 1 | 決定木を用いた分類"
   ]
  },
  {
   "cell_type": "markdown",
   "metadata": {},
   "source": [
    "## 1 | Classification Using Decision Trees"
   ]
  },
  {
   "cell_type": "markdown",
   "metadata": {
    "id": "FgHD4XBt5qgP"
   },
   "source": [
    "#### 事前準備"
   ]
  },
  {
   "cell_type": "markdown",
   "metadata": {},
   "source": [
    "#### Preliminaries"
   ]
  },
  {
   "cell_type": "code",
   "execution_count": null,
   "metadata": {
    "id": "EHVfOndQ5qgQ"
   },
   "outputs": [],
   "source": [
    "import numpy as np\n",
    "import matplotlib.pyplot as plt"
   ]
  },
  {
   "cell_type": "code",
   "execution_count": null,
   "metadata": {
    "id": "gKj399ia5qgR"
   },
   "outputs": [],
   "source": [
    "# Creating virtual data\n",
    "np.random.seed(42)\n",
    "n = 40\n",
    "X_train = np.random.randn(n, 2)\n",
    "\n",
    "noise = 1.6 * np.random.randn(n)                             # Noise is included in the results\n",
    "y_train_bool = - X_train[:,0] + 2 * X_train[:,1] + noise > 0 # -x1 + 2 x2 > 0 is defined as positive\n",
    "y_train = np.where(y_train_bool, 1, -1)                      # Convert so that True = 1, False = -1"
   ]
  },
  {
   "cell_type": "code",
   "execution_count": null,
   "metadata": {
    "id": "sL4s-pEK9SIB"
   },
   "outputs": [],
   "source": [
    "X_test = np.random.randn(20, 2)\n",
    "y_test_bool = - X_test[:,0] + 2 * X_test[:,1] > 0\n",
    "y_test = np.where(y_test_bool, 1, -1)"
   ]
  },
  {
   "cell_type": "code",
   "execution_count": null,
   "metadata": {
    "colab": {
     "base_uri": "https://localhost:8080/",
     "height": 447
    },
    "id": "Tt4eL5ol5qgR",
    "outputId": "17ab49da-c11c-49f4-ef33-ae0ae676cb8d"
   },
   "outputs": [],
   "source": [
    "plt.scatter(X_train[y_train==1,0], X_train[y_train==1,1], marker=\"o\", label=\"train - Positive\")\n",
    "plt.scatter(X_train[y_train==-1,0], X_train[y_train==-1,1], marker=\"o\", label=\"train - Negative\")\n",
    "plt.scatter(X_test[y_test==1,0], X_test[y_test==1,1], marker=\"x\", label=\"test  - Positive\")\n",
    "plt.scatter(X_test[y_test==-1,0], X_test[y_test==-1,1], marker=\"x\", label=\"test  - Negative\")\n",
    "plt.legend()"
   ]
  },
  {
   "cell_type": "markdown",
   "metadata": {},
   "source": [
    "#### 練習問題 1-1 | 決定木の構築"
   ]
  },
  {
   "cell_type": "markdown",
   "metadata": {},
   "source": [
    "#### Exercise 1-1 | Constructing a Decision Tree"
   ]
  },
  {
   "cell_type": "markdown",
   "metadata": {
    "deletable": false,
    "editable": false,
    "id": "a0StRQcy5qgS"
   },
   "source": [
    "最大深さ 5 の決定木を構築せよ。ただし、決定木の最大深さは `max_depth` で指定できる。"
   ]
  },
  {
   "cell_type": "markdown",
   "metadata": {
    "deletable": false,
    "editable": false
   },
   "source": [
    "Construct a decision tree with a maximum depth of 5. The maximum depth of the decision tree can be specified with `max_depth`."
   ]
  },
  {
   "cell_type": "code",
   "execution_count": null,
   "metadata": {
    "colab": {
     "base_uri": "https://localhost:8080/",
     "height": 75
    },
    "id": "FlhOg7kW5qgS",
    "outputId": "4a337d36-97de-4029-f8d4-c44724b41d56",
    "tags": []
   },
   "outputs": [],
   "source": [
    "from sklearn.tree import DecisionTreeClassifier\n",
    "q1_dt = ...\n",
    "q1_dt.fit(X_train, y_train)"
   ]
  },
  {
   "cell_type": "code",
   "execution_count": null,
   "metadata": {
    "deletable": false,
    "editable": false
   },
   "outputs": [],
   "source": [
    "grader.check(\"Exercise 1-1\")"
   ]
  },
  {
   "cell_type": "markdown",
   "metadata": {},
   "source": [
    "#### 練習問題 1-2 | 予測の実施"
   ]
  },
  {
   "cell_type": "markdown",
   "metadata": {},
   "source": [
    "#### Exercise 1-2 | Making Predictions"
   ]
  },
  {
   "cell_type": "markdown",
   "metadata": {
    "deletable": false,
    "editable": false,
    "id": "XToBP3w35qgU"
   },
   "source": [
    "`X_test = [[1,4], [-3,1]]` を予測し、その予測結果を `q2_y_pred` に代入せよ。"
   ]
  },
  {
   "cell_type": "markdown",
   "metadata": {
    "deletable": false,
    "editable": false
   },
   "source": [
    "Predict the value for `X_test = [[1,4], [-3,1]]` and assign the prediction result to `q2_y_pred`."
   ]
  },
  {
   "cell_type": "code",
   "execution_count": null,
   "metadata": {
    "colab": {
     "base_uri": "https://localhost:8080/",
     "height": 75
    },
    "id": "3ACVckH05qgU",
    "outputId": "5f47ba4f-9bd4-4961-dbbc-7db5ff662f42",
    "tags": []
   },
   "outputs": [],
   "source": [
    "from sklearn.tree import DecisionTreeClassifier\n",
    "q2_dt = DecisionTreeClassifier()\n",
    "q2_dt.fit(X_train, y_train)"
   ]
  },
  {
   "cell_type": "code",
   "execution_count": null,
   "metadata": {
    "id": "oRRfIuHU5qgU",
    "tags": []
   },
   "outputs": [],
   "source": [
    "q2_X_test = [[1,4], [-3,1]]\n",
    "q2_y_pred = ..."
   ]
  },
  {
   "cell_type": "code",
   "execution_count": null,
   "metadata": {
    "deletable": false,
    "editable": false
   },
   "outputs": [],
   "source": [
    "grader.check(\"Exercise 1-2\")"
   ]
  },
  {
   "cell_type": "markdown",
   "metadata": {
    "id": "saroF1iy51qR"
   },
   "source": [
    "#### 練習問題 1-3 | 予測結果の評価"
   ]
  },
  {
   "cell_type": "markdown",
   "metadata": {},
   "source": [
    "#### Exercise 1-3 | Evaluating Prediction Results\n"
   ]
  },
  {
   "cell_type": "markdown",
   "metadata": {
    "deletable": false,
    "editable": false,
    "id": "f-PSyrue6iq1"
   },
   "source": [
    "ある予測モデルを使って `X_pred` を予測した時の結果 `y_pred` は以下の通りであった。\n",
    "```\n",
    "q3_y_pred = [1,0,0,1,1,1,0,1,1,1]\n",
    "```\n",
    "一方、そのデータの真のラベル `y_true` は以下の通りであった。\n",
    "```\n",
    "q3_y_true = [0,0,0,1,0,1,0,1,1,1]\n",
    "```\n",
    "この時の予測正解率 `q3_accuracy` を求めよ。（計算結果は0.8となるはずである。）"
   ]
  },
  {
   "cell_type": "markdown",
   "metadata": {
    "deletable": false,
    "editable": false
   },
   "source": [
    "When using a prediction model, the results of predicting `X_pred` yielded the following `y_pred`:\n",
    "```\n",
    "q3_y_pred = [1,0,0,1,1,1,0,1,1,1]\n",
    "```\n",
    "On the other hand, the true labels for that data `y_true` were as follows:\n",
    "```\n",
    "q3_y_true = [0,0,0,1,0,1,0,1,1,1]\n",
    "```\n",
    "Calculate the prediction accuracy `q3_accuracy` at this time. (The calculation result should be 0.8.)"
   ]
  },
  {
   "cell_type": "code",
   "execution_count": null,
   "metadata": {
    "id": "pAdtzt9B7ToB",
    "tags": []
   },
   "outputs": [],
   "source": [
    "from sklearn.metrics import accuracy_score\n",
    "\n",
    "q3_y_pred = [1,0,0,1,1,1,0,1,1,1]\n",
    "q3_y_true = [0,0,0,1,0,1,0,1,1,1]\n",
    "\n",
    "q3_accuracy = ..."
   ]
  },
  {
   "cell_type": "code",
   "execution_count": null,
   "metadata": {
    "deletable": false,
    "editable": false
   },
   "outputs": [],
   "source": [
    "grader.check(\"Exercise 1-3\")"
   ]
  },
  {
   "cell_type": "markdown",
   "metadata": {
    "id": "JpuoOclX6FE3"
   },
   "source": [
    "#### 練習問題 1-4 | 予測モデルの構築、新規データの予測と性能評価"
   ]
  },
  {
   "cell_type": "markdown",
   "metadata": {},
   "source": [
    "#### Exercise 1-4 | Building a Prediction Model, Making Predictions on New Data, and Performance Evaluation"
   ]
  },
  {
   "cell_type": "markdown",
   "metadata": {
    "deletable": false,
    "editable": false,
    "id": "TYVOBzEz8T_T"
   },
   "source": [
    "以下のコードを完成させ、予測精度 `q4_accuracy` を算出せよ。"
   ]
  },
  {
   "cell_type": "markdown",
   "metadata": {
    "deletable": false,
    "editable": false
   },
   "source": [
    "Complete the following code to calculate the prediction accuracy `q4_accuracy`."
   ]
  },
  {
   "cell_type": "code",
   "execution_count": null,
   "metadata": {
    "id": "dkv48MSL9_hJ",
    "tags": []
   },
   "outputs": [],
   "source": [
    "from sklearn.tree import DecisionTreeClassifier\n",
    "from sklearn.metrics import accuracy_score\n",
    "\n",
    "# Construct prediction model\n",
    "q4_dt = DecisionTreeClassifier()\n",
    "...\n",
    "\n",
    "# Predict test data\n",
    "q4_y_pred = ...\n",
    "\n",
    "# Evaluate prediction accuracy\n",
    "q4_accuracy = accuracy_score(y_test, q4_y_pred)\n"
   ]
  },
  {
   "cell_type": "code",
   "execution_count": null,
   "metadata": {
    "deletable": false,
    "editable": false
   },
   "outputs": [],
   "source": [
    "grader.check(\"Exercise 1-4\")"
   ]
  },
  {
   "cell_type": "markdown",
   "metadata": {},
   "source": [
    "## 2 | 交差検証法を用いた汎化性能評価"
   ]
  },
  {
   "cell_type": "markdown",
   "metadata": {},
   "source": [
    "## 2 | Generalization Performance Evaluation Using Cross-Validation"
   ]
  },
  {
   "cell_type": "markdown",
   "metadata": {},
   "source": [
    "#### 事前準備"
   ]
  },
  {
   "cell_type": "markdown",
   "metadata": {},
   "source": [
    "#### Preparation"
   ]
  },
  {
   "cell_type": "code",
   "execution_count": null,
   "metadata": {},
   "outputs": [],
   "source": [
    "from sklearn import datasets\n",
    "\n",
    "# breast cancer dataset: predict whether the cancer is malignant or benign\n",
    "q2_X, q2_y = datasets.load_breast_cancer(return_X_y=True)"
   ]
  },
  {
   "cell_type": "markdown",
   "metadata": {},
   "source": [
    "#### 練習問題 2-1 | 単一の機械学習手法の汎化性能評価\n"
   ]
  },
  {
   "cell_type": "markdown",
   "metadata": {},
   "source": [
    "#### Exercise 2-1 | Evaluating the Generalization Performance of a Single Machine Learning Method\n"
   ]
  },
  {
   "cell_type": "markdown",
   "metadata": {
    "deletable": false,
    "editable": false
   },
   "source": [
    "最大深さが5になるような決定木を構築するオブジェクト `q21_dt_d5` を定義し、`cross_val_score()` 関数を用いて、与えられた分類タスクに対する汎化性能 generalization performance を `q21_gen_perf_score` 変数に格納せよ。ここで言う「汎化性能」は、予測正解率のことを指すものとする。また、ここでの交差検証は5分割で実施せよ。"
   ]
  },
  {
   "cell_type": "markdown",
   "metadata": {
    "deletable": false,
    "editable": false
   },
   "source": [
    "Define an object `q21_dt_d5` to construct a decision tree with a maximum depth of 5, and use the `cross_val_score()` function to store the generalization performance for the given classification task in the variable `q21_gen_perf_score`. Here, \"generalization performance\" refers to prediction accuracy. Also, perform 5-fold cross-validation."
   ]
  },
  {
   "cell_type": "code",
   "execution_count": null,
   "metadata": {
    "tags": []
   },
   "outputs": [],
   "source": [
    "from sklearn.tree import DecisionTreeClassifier\n",
    "from sklearn.model_selection import cross_val_score\n",
    "random_state = 59\n",
    "\n",
    "q21_dt_d5 = DecisionTreeClassifier(\n",
    "    max_depth= ...\n",
    "    random_state=random_state) \n",
    "\n",
    "q21_gen_perf_score = ...\n",
    "q21_gen_perf_score = q21_gen_perf_score.mean()\n"
   ]
  },
  {
   "cell_type": "code",
   "execution_count": null,
   "metadata": {
    "deletable": false,
    "editable": false
   },
   "outputs": [],
   "source": [
    "grader.check(\"Exercise 2-1\")"
   ]
  },
  {
   "cell_type": "markdown",
   "metadata": {},
   "source": [
    "#### 練習問題 2-2 | 他者のモデルとの汎化性能比較"
   ]
  },
  {
   "cell_type": "markdown",
   "metadata": {},
   "source": [
    "#### Exercise 2-2 | Comparing Generalization Performance with Other Models"
   ]
  },
  {
   "cell_type": "markdown",
   "metadata": {
    "deletable": false,
    "editable": false
   },
   "source": [
    "自分とは異なる研究者が `q22_dt_other = DecisionTreeClassifier(min_impurity_decrease=0.1)` が最良の予測モデルを作成すると過去に提案していたとする。5分割の交差検証法を用いて、他者の手法の汎化性能を計算、 `q22_other_gen_perf_score` に格納せよ。\n",
    "なお、他者の手法よりも練習問題2-1で提案した手法の方が汎化性能が高くなるはずである。"
   ]
  },
  {
   "cell_type": "markdown",
   "metadata": {
    "deletable": false,
    "editable": false
   },
   "source": [
    "Assume that a different researcher previously proposed that `q22_dt_other = DecisionTreeClassifier(min_impurity_decrease=0.1)` would create the best prediction model. Use 5-fold cross-validation to calculate the generalization performance of the other person's method and store it in `q22_other_gen_perf_score`.\n",
    "Note that the method you proposed in Exercise 2-1 should have higher generalization performance than the other person's method."
   ]
  },
  {
   "cell_type": "code",
   "execution_count": null,
   "metadata": {
    "tags": []
   },
   "outputs": [],
   "source": [
    "from sklearn.tree import DecisionTreeClassifier\n",
    "\n",
    "q22_dt = ...\n",
    "\n",
    "q22_gen_perf_score = ...\n",
    "q22_gen_perf_score = q22_gen_perf_score.mean()"
   ]
  },
  {
   "cell_type": "code",
   "execution_count": null,
   "metadata": {
    "deletable": false,
    "editable": false
   },
   "outputs": [],
   "source": [
    "grader.check(\"Exercise 2-2\")"
   ]
  },
  {
   "cell_type": "markdown",
   "metadata": {},
   "source": [
    "## 3 | モデル選択・グリッドサーチ\n"
   ]
  },
  {
   "cell_type": "markdown",
   "metadata": {},
   "source": [
    "## 3 | Model Selection and Grid Search\n"
   ]
  },
  {
   "cell_type": "markdown",
   "metadata": {},
   "source": [
    "#### 事前準備"
   ]
  },
  {
   "cell_type": "markdown",
   "metadata": {},
   "source": [
    "#### Preparation"
   ]
  },
  {
   "cell_type": "markdown",
   "metadata": {},
   "source": [
    "2 で作成した `q2_X`, `q2_y` をそのまま用いる。"
   ]
  },
  {
   "cell_type": "markdown",
   "metadata": {},
   "source": [
    "Use `q2_X` and `q2_y` created in section 2 as they are."
   ]
  },
  {
   "cell_type": "code",
   "execution_count": null,
   "metadata": {},
   "outputs": [],
   "source": [
    "from sklearn.model_selection import train_test_split\n",
    "q3_X_train, q3_X_test, q3_y_train, _ = train_test_split(q2_X, q2_y, test_size=0.2, random_state=42)"
   ]
  },
  {
   "cell_type": "markdown",
   "metadata": {},
   "source": [
    "#### 練習問題 3-1 | 予測の実施"
   ]
  },
  {
   "cell_type": "markdown",
   "metadata": {},
   "source": [
    "#### Exercise 3-1 | Making Predictions"
   ]
  },
  {
   "cell_type": "markdown",
   "metadata": {
    "deletable": false,
    "editable": false
   },
   "source": [
    "訓練データ `q3_X_train`, `q3_y_train` を用いて予測モデルを構築し、テストデータに対する予測結果 `q31_test_predicted` を求めよ。ただし、予測モデルの構築時には `q31_dt = DecisionTreeClassifier()` を用いよ。"
   ]
  },
  {
   "cell_type": "markdown",
   "metadata": {
    "deletable": false,
    "editable": false
   },
   "source": [
    "Construct a prediction model using the training data `q3_X_train`, `q3_y_train`, and determine the prediction results `q31_test_predicted` for the test data. When constructing the prediction model, use `q31_dt = DecisionTreeClassifier()`."
   ]
  },
  {
   "cell_type": "code",
   "execution_count": null,
   "metadata": {
    "tags": []
   },
   "outputs": [],
   "source": [
    "q31_dt = DecisionTreeClassifier(random_state=random_state)\n",
    "...\n",
    "q31_test_predicted = ..."
   ]
  },
  {
   "cell_type": "code",
   "execution_count": null,
   "metadata": {
    "deletable": false,
    "editable": false
   },
   "outputs": [],
   "source": [
    "grader.check(\"Exercise 3-1\")"
   ]
  },
  {
   "cell_type": "markdown",
   "metadata": {},
   "source": [
    "#### 練習問題 3-2 | グリッドサーチによるハイパーパラメータチューニング"
   ]
  },
  {
   "cell_type": "markdown",
   "metadata": {},
   "source": [
    "#### Exercise 3-2 | Hyperparameter Tuning Using Grid Search"
   ]
  },
  {
   "cell_type": "markdown",
   "metadata": {
    "deletable": false,
    "editable": false
   },
   "source": [
    "`GridSearchCV()` を用いて、 `max_depth` を1から10まで変化させて、最も良い汎化性能を示す `max_depth` の値を決定せよ。グリッドサーチを行う際には、5分割の交差検証を行うこと。"
   ]
  },
  {
   "cell_type": "markdown",
   "metadata": {
    "deletable": false,
    "editable": false
   },
   "source": [
    "Using `GridSearchCV()`, vary `max_depth` from 1 to 10, and determine the value of `max_depth` that demonstrates the best generalization performance. Perform a 5-fold cross-validation during the grid search."
   ]
  },
  {
   "cell_type": "code",
   "execution_count": null,
   "metadata": {
    "tags": []
   },
   "outputs": [],
   "source": [
    "from sklearn.tree import DecisionTreeClassifier\n",
    "from sklearn.model_selection import GridSearchCV\n",
    "\n",
    "q32_dt = DecisionTreeClassifier(random_state=random_state)\n",
    "q32_param_grid = {\n",
    "    ...\n",
    "}\n",
    "\n",
    "q32_gs = GridSearchCV(q32_dt, q32_param_grid, cv=5)\n",
    "q32_gs.fit(q3_X_train, q3_y_train)\n",
    "\n",
    "q32_best_params = ..."
   ]
  },
  {
   "cell_type": "code",
   "execution_count": null,
   "metadata": {
    "deletable": false,
    "editable": false
   },
   "outputs": [],
   "source": [
    "grader.check(\"Exercise 3-1\")"
   ]
  }
 ],
 "metadata": {
  "colab": {
   "provenance": []
  },
  "kernelspec": {
   "display_name": "base",
   "language": "python",
   "name": "python3"
  },
  "language_info": {
   "codemirror_mode": {
    "name": "ipython",
    "version": 3
   },
   "file_extension": ".py",
   "mimetype": "text/x-python",
   "name": "python",
   "nbconvert_exporter": "python",
   "pygments_lexer": "ipython3",
   "version": "3.9.12"
  }
 },
 "nbformat": 4,
 "nbformat_minor": 0
}
