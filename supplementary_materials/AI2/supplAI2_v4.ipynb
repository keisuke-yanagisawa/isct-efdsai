{
 "cells": [
  {
   "cell_type": "code",
   "execution_count": null,
   "metadata": {},
   "outputs": [],
   "source": [
    "# Preparation for auto-grading\n",
    "unit = \"AI2\"\n",
    "!pip install otter-grader \n",
    "!wget https://github.com/keisuke-yanagisawa/isct-efdsai/raw/refs/heads/main/supplementary_materials/{unit}/student.tar.gz -O {unit}.tar.gz\n",
    "!tar -zxvf {unit}.tar.gz \n",
    "!rm {unit}.tar.gz\n",
    "%cd student\n",
    "import otter\n",
    "grader = otter.Notebook()"
   ]
  },
  {
   "cell_type": "markdown",
   "metadata": {},
   "source": [
    "# 基盤人工知能演習 第2回 NumPyによる線形代数 補習資料"
   ]
  },
  {
   "cell_type": "markdown",
   "metadata": {},
   "source": [
    "# Supplemental Material: Exercises in Fundamentals of Artificial Intelligence (2) - Introduction of NumPy"
   ]
  },
  {
   "cell_type": "markdown",
   "metadata": {},
   "source": [
    "## 1 | NumPy配列"
   ]
  },
  {
   "cell_type": "markdown",
   "metadata": {},
   "source": [
    "## 1 | NumPy Arrays"
   ]
  },
  {
   "cell_type": "markdown",
   "metadata": {},
   "source": [
    "#### 練習問題 1-1 | 単位ベクトルの作成"
   ]
  },
  {
   "cell_type": "markdown",
   "metadata": {},
   "source": [
    "#### Exercise 1-1 | Create Unit Vector"
   ]
  },
  {
   "cell_type": "markdown",
   "metadata": {
    "deletable": false,
    "editable": false
   },
   "source": [
    "与えられた 3次元ベクトル `v = (x,y,z)` の単位ベクトルを求める関数 `normalize_vector(v)` を作成せよ。ただし、`v` は `np.array((x,y,z))` で作成されたNumPy配列であり、零ベクトルではないことを仮定して良い。関数の出力はNumPy配列であるようにせよ。"
   ]
  },
  {
   "cell_type": "markdown",
   "metadata": {
    "deletable": false,
    "editable": false
   },
   "source": [
    "Create a function `normalize_vector(v)` that computes the unit vector of a given 3-dimensional vector `v = (x,y,z)`. Assume that `v` is a NumPy array created with `np.array((x,y,z))` and that it is not the zero vector. The function's output should also be a NumPy array."
   ]
  },
  {
   "cell_type": "code",
   "execution_count": null,
   "metadata": {
    "metadata": {},
    "tags": []
   },
   "outputs": [],
   "source": [
    "import numpy as np\n",
    "import numpy.typing as npt\n",
    "\n",
    "def normalize_vector(v: npt.NDArray[np.float64]) -> npt.NDArray[np.float64]:\n",
    "  ... "
   ]
  },
  {
   "cell_type": "code",
   "execution_count": null,
   "metadata": {
    "deletable": false,
    "editable": false
   },
   "outputs": [],
   "source": [
    "grader.check(\"Exercise 1-1\")"
   ]
  },
  {
   "cell_type": "markdown",
   "metadata": {},
   "source": [
    "#### 練習問題 1-2 | 列方向・行方向の集計(1)"
   ]
  },
  {
   "cell_type": "markdown",
   "metadata": {},
   "source": [
    "#### Exercise 1-2 | Column-wise and Row-wise Aggregation (1)"
   ]
  },
  {
   "cell_type": "markdown",
   "metadata": {
    "deletable": false,
    "editable": false
   },
   "source": [
    "与えられた行列 `mat` の各行の最大値を取得して配列として返す関数 `get_max_per_row(mat)` を実装せよ。 ただし、入出力はいずれも NumPy 配列で表現されているものとする。"
   ]
  },
  {
   "cell_type": "markdown",
   "metadata": {
    "deletable": false,
    "editable": false
   },
   "source": [
    "Implement a function `get_max_per_row(mat)` that retrieves the maximum value from each row of a given matrix `mat` and returns it as an array. Assume that both input and output are represented as NumPy arrays."
   ]
  },
  {
   "cell_type": "code",
   "execution_count": null,
   "metadata": {
    "metadata": {},
    "tags": []
   },
   "outputs": [],
   "source": [
    "import numpy as np\n",
    "import numpy.typing as npt\n",
    "\n",
    "def get_max_per_row(mat: npt.NDArray[np.float64]) -> npt.NDArray[np.float64]:\n",
    "  ... "
   ]
  },
  {
   "cell_type": "code",
   "execution_count": null,
   "metadata": {
    "deletable": false,
    "editable": false
   },
   "outputs": [],
   "source": [
    "grader.check(\"Exercise 1-2\")"
   ]
  },
  {
   "cell_type": "markdown",
   "metadata": {},
   "source": [
    "#### 練習問題 1-3 | 列方向・行方向の集計(2)"
   ]
  },
  {
   "cell_type": "markdown",
   "metadata": {},
   "source": [
    "#### Exercise 1-3 | Column-wise and Row-wise Aggregation (2)"
   ]
  },
  {
   "cell_type": "markdown",
   "metadata": {
    "deletable": false,
    "editable": false
   },
   "source": [
    "与えられた行列 `mat` の各列の最小値を取得して配列として返す関数 `get_min_per_column(mat)` を実装せよ。 ただし、入出力はいずれも NumPy 配列で表現されているものとする。"
   ]
  },
  {
   "cell_type": "markdown",
   "metadata": {
    "deletable": false,
    "editable": false
   },
   "source": [
    "Implement a function `get_min_per_column(mat)` that retrieves the minimum value from each column of a given matrix `mat` and returns it as an array. Assume that both input and output are represented as NumPy arrays."
   ]
  },
  {
   "cell_type": "code",
   "execution_count": null,
   "metadata": {
    "tags": []
   },
   "outputs": [],
   "source": [
    "import numpy as np\n",
    "import numpy.typing as npt\n",
    "\n",
    "def get_min_per_column(mat: npt.NDArray[np.float64]) -> npt.NDArray[np.float64]:\n",
    "  ... "
   ]
  },
  {
   "cell_type": "code",
   "execution_count": null,
   "metadata": {
    "deletable": false,
    "editable": false
   },
   "outputs": [],
   "source": [
    "grader.check(\"Exercise 1-3\")"
   ]
  },
  {
   "cell_type": "markdown",
   "metadata": {},
   "source": [
    "#### 練習問題 1-4 | 行列積演算の練習\n"
   ]
  },
  {
   "cell_type": "markdown",
   "metadata": {},
   "source": [
    "#### Exercise 1-4 | Practice with Matrix Multiplication\n"
   ]
  },
  {
   "cell_type": "markdown",
   "metadata": {
    "deletable": false,
    "editable": false
   },
   "source": [
    "2行4列の行列 `q14_X` と4行3列の行列 `q14_Y` を自由に準備し、その行列積 `q14_XY` を求めよ。"
   ]
  },
  {
   "cell_type": "markdown",
   "metadata": {
    "deletable": false,
    "editable": false
   },
   "source": [
    "Prepare a 2×4 matrix `q14_X` and a 4×3 matrix `q14_Y`, and compute their matrix product `q14_XY`."
   ]
  },
  {
   "cell_type": "code",
   "execution_count": null,
   "metadata": {
    "tags": []
   },
   "outputs": [],
   "source": [
    "q14_X = ...\n",
    "q14_Y = ...\n",
    "q14_XY = ..."
   ]
  },
  {
   "cell_type": "code",
   "execution_count": null,
   "metadata": {
    "deletable": false,
    "editable": false
   },
   "outputs": [],
   "source": [
    "grader.check(\"Exercise 1-4\")"
   ]
  },
  {
   "cell_type": "markdown",
   "metadata": {},
   "source": [
    "#### 練習問題 1-5 | ベクトルの L2-Norm の算出"
   ]
  },
  {
   "cell_type": "markdown",
   "metadata": {},
   "source": [
    "#### Exercise 1-5 | Calculation of the L2 Norm of a Vector"
   ]
  },
  {
   "cell_type": "markdown",
   "metadata": {
    "deletable": false,
    "editable": false
   },
   "source": [
    "与えられた $N$ 次元ベクトル $v$ の L2ノルム $||v||_2 = \\sqrt{x_1^2 + \\cdots + x_N^2}$ を計算する関数 `calc_l2norm(v)` を、`dot()` を用いて実装せよ。（ `np.linalg.norm(v)` で計算可能であるが、これは利用しないこと）"
   ]
  },
  {
   "cell_type": "markdown",
   "metadata": {
    "deletable": false,
    "editable": false
   },
   "source": [
    "Implement a function `calc_l2norm(v)` that calculates the L2 norm of a given N-dimensional vector $v$ as $||v||_2 = \\sqrt{x_1^2 + \\cdots + x_N^2}$ using `dot()`. (While this can be computed using `np.linalg.norm(v)`, do not use it.)"
   ]
  },
  {
   "cell_type": "code",
   "execution_count": null,
   "metadata": {
    "tags": []
   },
   "outputs": [],
   "source": [
    "import numpy as np\n",
    "\n",
    "def calc_l2norm(v: npt.NDArray[np.float64]) -> np.float64:\n",
    "  ... "
   ]
  },
  {
   "cell_type": "code",
   "execution_count": null,
   "metadata": {
    "deletable": false,
    "editable": false
   },
   "outputs": [],
   "source": [
    "grader.check(\"Exercise 1-5\")"
   ]
  },
  {
   "cell_type": "markdown",
   "metadata": {},
   "source": [
    "#### 練習問題 1-6 | 逆行列の逆行列"
   ]
  },
  {
   "cell_type": "markdown",
   "metadata": {},
   "source": [
    "#### Exercise 1-6 | Inverse of the Inverse Matrix"
   ]
  },
  {
   "cell_type": "markdown",
   "metadata": {
    "deletable": false,
    "editable": false
   },
   "source": [
    "行列 `q16_A` の逆行列の逆行列 `inv_inv_q16_A` を求めよ。また、これら2つがほぼ一致することを確認せよ。"
   ]
  },
  {
   "cell_type": "markdown",
   "metadata": {
    "deletable": false,
    "editable": false
   },
   "source": [
    "Calculate the inverse of the inverse matrix `inv_inv_q16_A` of the matrix `q16_A`. Also, confirm that these two are approximately equal."
   ]
  },
  {
   "cell_type": "code",
   "execution_count": null,
   "metadata": {
    "tags": []
   },
   "outputs": [],
   "source": [
    "q16_A = ...\n",
    "inv_inv_q16_A = ..."
   ]
  },
  {
   "cell_type": "code",
   "execution_count": null,
   "metadata": {
    "deletable": false,
    "editable": false
   },
   "outputs": [],
   "source": [
    "grader.check(\"Exercise 1-6\")"
   ]
  },
  {
   "cell_type": "markdown",
   "metadata": {},
   "source": [
    "#### 練習問題 1-7 | 対角行列の固有値・固有ベクトル"
   ]
  },
  {
   "cell_type": "markdown",
   "metadata": {},
   "source": [
    "#### Exercise 1-7 | Eigenvalues and Eigenvectors of Diagonal Matrices"
   ]
  },
  {
   "cell_type": "markdown",
   "metadata": {
    "deletable": false,
    "editable": false
   },
   "source": [
    "対角行列 `q17_diagX` の固有値 `q17_eig_vals` および固有ベクトル `q17_eig_vecs` を計算せよ。ただし、 `q17_eig_vals` は複数の固有値をまとめたNumPy配列、 `q17_eig_vecs` は各固有ベクトルを行とするNumPy配列による行列とすること。"
   ]
  },
  {
   "cell_type": "markdown",
   "metadata": {
    "deletable": false,
    "editable": false
   },
   "source": [
    "Calculate the eigenvalues `q17_eig_vals` and eigenvectors `q17_eig_vecs` of the diagonal matrix `q17_diagX`. Assume that `q17_eig_vals` is a NumPy array containing multiple eigenvalues, and `q17_eig_vecs` is a matrix with each eigenvector as a row."
   ]
  },
  {
   "cell_type": "code",
   "execution_count": null,
   "metadata": {
    "tags": []
   },
   "outputs": [],
   "source": [
    "q17_diagX = np.array([[1,0,0],[0,3,0],[0,0,-2]])\n",
    "... \n",
    "print(q17_eig_vecs)"
   ]
  },
  {
   "cell_type": "code",
   "execution_count": null,
   "metadata": {
    "deletable": false,
    "editable": false
   },
   "outputs": [],
   "source": [
    "grader.check(\"Exercise 1-7\")"
   ]
  },
  {
   "cell_type": "markdown",
   "metadata": {},
   "source": [
    "#### 練習問題 1-8 | for文での行列積計算と .dot() での行列積計算との速度差"
   ]
  },
  {
   "cell_type": "markdown",
   "metadata": {},
   "source": [
    "#### Exercise 1-8 | Speed Difference Between Matrix Multiplication Using for Loops and .dot()"
   ]
  },
  {
   "cell_type": "markdown",
   "metadata": {},
   "source": [
    "与えられた巨大な行列 `q18_mat1`, `q18_mat2` の行列積を計算するコードを以下に記述している。以下のコードを実行し、その速度差を確認せよ。\n",
    "\n",
    "なお、この練習問題は穴埋め問題ではないため、自動添削システムは含まれていない。"
   ]
  },
  {
   "cell_type": "markdown",
   "metadata": {},
   "source": [
    "Write the code below to calculate the matrix product of the large matrices `q18_mat1` and `q18_mat2`. Run the following code to check the speed difference.\n",
    "\n",
    "Note that this exercise is not a fill-in-the-blank question, so the automatic grading system is not included."
   ]
  },
  {
   "cell_type": "code",
   "execution_count": null,
   "metadata": {},
   "outputs": [],
   "source": [
    "import time\n",
    "\n",
    "size = 200 # the size of the matrices\n",
    "\n",
    "q18_mat1 = np.random.rand(size, size)\n",
    "q18_mat2 = np.random.rand(size, size)\n",
    "\n",
    "# with Python loop\n",
    "start = time.time()\n",
    "q18_forloop = np.zeros((size, size))\n",
    "for i in range(size):\n",
    "  for j in range(size):\n",
    "    for k in range(size):\n",
    "      q18_forloop[i, j] += q18_mat1[i, k] * q18_mat2[k, j]\n",
    "end = time.time()\n",
    "print(\"For loop: \", end - start, \"sec.\")\n",
    "\n",
    "# with NumPy dot\n",
    "start = time.time()\n",
    "q18_dot = q18_mat1.dot(q18_mat2)\n",
    "end = time.time()\n",
    "print(\"Dot     : \", end - start, \"sec.\")\n"
   ]
  },
  {
   "cell_type": "markdown",
   "metadata": {},
   "source": [
    "--------------"
   ]
  },
  {
   "cell_type": "markdown",
   "metadata": {},
   "source": [
    "## 解答例"
   ]
  },
  {
   "cell_type": "markdown",
   "metadata": {},
   "source": [
    "## Example Answers"
   ]
  },
  {
   "cell_type": "markdown",
   "metadata": {},
   "source": [
    "#### 練習問題 1-1 | 単位ベクトルの作成"
   ]
  },
  {
   "cell_type": "markdown",
   "metadata": {},
   "source": [
    "#### Exercise 1-1 | Create Unit Vector"
   ]
  },
  {
   "cell_type": "code",
   "execution_count": null,
   "metadata": {},
   "outputs": [],
   "source": [
    "import numpy as np\n",
    "import numpy.typing as npt\n",
    "\n",
    "def normalize_vector(v: npt.NDArray[np.float64]) -> npt.NDArray[np.float64]:\n",
    "  return v / np.linalg.norm(v)"
   ]
  },
  {
   "cell_type": "markdown",
   "metadata": {},
   "source": [
    "#### 練習問題 1-2 | 列方向・行方向の集計(1)"
   ]
  },
  {
   "cell_type": "markdown",
   "metadata": {},
   "source": [
    "#### Exercise 1-2 | Column-wise and Row-wise Aggregation (1)"
   ]
  },
  {
   "cell_type": "code",
   "execution_count": null,
   "metadata": {},
   "outputs": [],
   "source": [
    "import numpy as np\n",
    "import numpy.typing as npt\n",
    "\n",
    "def get_max_per_row(mat: npt.NDArray[np.float64]) -> npt.NDArray[np.float64]:\n",
    "  return mat.max(axis=1)"
   ]
  },
  {
   "cell_type": "markdown",
   "metadata": {},
   "source": [
    "#### 練習問題 1-3 | 列方向・行方向の集計(2)"
   ]
  },
  {
   "cell_type": "markdown",
   "metadata": {},
   "source": [
    "#### Exercise 1-3 | Column-wise and Row-wise Aggregation (2)"
   ]
  },
  {
   "cell_type": "code",
   "execution_count": null,
   "metadata": {},
   "outputs": [],
   "source": [
    "import numpy as np\n",
    "import numpy.typing as npt\n",
    "\n",
    "def get_min_per_column(mat: npt.NDArray[np.float64]) -> npt.NDArray[np.float64]:\n",
    "  return mat.min(axis=0)\n"
   ]
  },
  {
   "cell_type": "markdown",
   "metadata": {},
   "source": [
    "#### 練習問題 1-4 | 行列積演算の練習\n"
   ]
  },
  {
   "cell_type": "markdown",
   "metadata": {},
   "source": [
    "#### Exercise 1-4 | Practice with Matrix Multiplication\n"
   ]
  },
  {
   "cell_type": "code",
   "execution_count": null,
   "metadata": {},
   "outputs": [],
   "source": [
    "q14_X = np.array([[1,2,3,4],[1,3,5,7]])\n",
    "q14_Y = np.array([[0,1,2],[1,2,3],[2,3,4],[3,4,5]])\n",
    "q14_XY = q14_X.dot(q14_Y)"
   ]
  },
  {
   "cell_type": "markdown",
   "metadata": {},
   "source": [
    "#### 練習問題 1-5 | ベクトルの L2-Norm の算出"
   ]
  },
  {
   "cell_type": "markdown",
   "metadata": {},
   "source": [
    "#### Exercise 1-5 | Calculation of the L2 Norm of a Vector"
   ]
  },
  {
   "cell_type": "code",
   "execution_count": null,
   "metadata": {},
   "outputs": [],
   "source": [
    "import numpy as np\n",
    "\n",
    "def calc_l2norm(v: npt.NDArray[np.float64]) -> np.float64:\n",
    "  return np.sqrt(v.dot(v))"
   ]
  },
  {
   "cell_type": "markdown",
   "metadata": {},
   "source": [
    "#### 練習問題 1-6 | 逆行列の逆行列"
   ]
  },
  {
   "cell_type": "markdown",
   "metadata": {},
   "source": [
    "#### Exercise 1-6 | Inverse of the Inverse Matrix"
   ]
  },
  {
   "cell_type": "code",
   "execution_count": null,
   "metadata": {},
   "outputs": [],
   "source": [
    "q16_A = np.array([[1,2,0],[0,1,1],[1,1,0]])\n",
    "inv_inv_q16_A = np.linalg.inv(np.linalg.inv(q16_A))"
   ]
  },
  {
   "cell_type": "markdown",
   "metadata": {},
   "source": [
    "#### 練習問題 1-7 | 対角行列の固有値・固有ベクトル"
   ]
  },
  {
   "cell_type": "markdown",
   "metadata": {},
   "source": [
    "#### Exercise 1-7 | Eigenvalues and Eigenvectors of Diagonal Matrices"
   ]
  },
  {
   "cell_type": "code",
   "execution_count": null,
   "metadata": {},
   "outputs": [],
   "source": [
    "q17_diagX = np.array([[1,0,0],[0,3,0],[0,0,-2]])\n",
    "q17_eig_vals, q17_eig_vecs = np.linalg.eig(q17_diagX)\n",
    "print(q17_eig_vecs)"
   ]
  }
 ],
 "metadata": {
  "kernelspec": {
   "display_name": "base",
   "language": "python",
   "name": "python3"
  },
  "language_info": {
   "codemirror_mode": {
    "name": "ipython",
    "version": 3
   },
   "file_extension": ".py",
   "mimetype": "text/x-python",
   "name": "python",
   "nbconvert_exporter": "python",
   "pygments_lexer": "ipython3",
   "version": "3.9.12"
  }
 },
 "nbformat": 4,
 "nbformat_minor": 2
}
