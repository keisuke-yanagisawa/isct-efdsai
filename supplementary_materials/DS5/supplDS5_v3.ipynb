{
 "cells": [
  {
   "cell_type": "markdown",
   "metadata": {},
   "source": [
    "<img height=\"40px\" src=\"https://science-tokyo.box.com/shared/static/jneg12ikt69n0j5q77qidm7g3a1iwa9b.png\">"
   ]
  },
  {
   "cell_type": "code",
   "execution_count": null,
   "metadata": {},
   "outputs": [],
   "source": [
    "# Preparation for auto-grading\n",
    "!pip install otter-grader \n",
    "import otter\n",
    "grader = otter.Notebook()"
   ]
  },
  {
   "cell_type": "markdown",
   "metadata": {},
   "source": [
    "# 基盤データサイエンス演習 第5回 主成分分析 (principal component analysis: PCA) 補習資料"
   ]
  },
  {
   "cell_type": "markdown",
   "metadata": {
    "id": "nIWu0KHd5qgP"
   },
   "source": [
    "# Supplemental Material: Excercises in Fundamentals of Data Science (5) - Principal Component Analysis (PCA)"
   ]
  },
  {
   "cell_type": "markdown",
   "metadata": {
    "id": "FgHD4XBt5qgP"
   },
   "source": [
    "## 1 | データセットの確認"
   ]
  },
  {
   "cell_type": "markdown",
   "metadata": {},
   "source": [
    "## 1 | Checking the Dataset"
   ]
  },
  {
   "cell_type": "markdown",
   "metadata": {
    "id": "FgHD4XBt5qgP"
   },
   "source": [
    "#### 事前準備"
   ]
  },
  {
   "cell_type": "markdown",
   "metadata": {},
   "source": [
    "#### Preliminaries"
   ]
  },
  {
   "cell_type": "code",
   "execution_count": null,
   "metadata": {
    "id": "EHVfOndQ5qgQ"
   },
   "outputs": [],
   "source": [
    "from sklearn import datasets\n",
    "import numpy as np\n",
    "\n",
    "d = datasets.load_digits() # load \"digits\" dataset"
   ]
  },
  {
   "cell_type": "markdown",
   "metadata": {},
   "source": [
    "#### 練習問題 1-1 | データ数の確認"
   ]
  },
  {
   "cell_type": "markdown",
   "metadata": {},
   "source": [
    "#### Exercise 1-1 | Check the Number of Data Points"
   ]
  },
  {
   "cell_type": "markdown",
   "metadata": {
    "deletable": false,
    "editable": false,
    "id": "a0StRQcy5qgS"
   },
   "source": [
    "`d.target` には、それぞれのデータがどのクラスに属しているかが記録されている。クラス0に属するデータの数を求め、`count_labelzero` に記録せよ。"
   ]
  },
  {
   "cell_type": "markdown",
   "metadata": {
    "deletable": false,
    "editable": false
   },
   "source": [
    "`d.target` records which class each data point belongs to. Count the number of data points belonging to class 0 and record it in `count_labelzero`."
   ]
  },
  {
   "cell_type": "code",
   "execution_count": null,
   "metadata": {
    "colab": {
     "base_uri": "https://localhost:8080/",
     "height": 75
    },
    "id": "FlhOg7kW5qgS",
    "outputId": "4a337d36-97de-4029-f8d4-c44724b41d56",
    "tags": [
     "otter_answer_cell"
    ]
   },
   "outputs": [],
   "source": [
    "count_labelzero = 0\n",
    "for label in d.target:\n",
    "    ...\n",
    "\"\"\"\n",
    "print(count_labelzero)"
   ]
  },
  {
   "cell_type": "code",
   "execution_count": null,
   "metadata": {
    "deletable": false,
    "editable": false
   },
   "outputs": [],
   "source": [
    "grader.check(\"Exercise 1-1\")"
   ]
  },
  {
   "cell_type": "markdown",
   "metadata": {},
   "source": [
    "#### 練習問題 1-2 | 1つのデータが持つ特徴量数"
   ]
  },
  {
   "cell_type": "markdown",
   "metadata": {},
   "source": [
    "#### Exercise 1-2 | Number of Features for One Data Point"
   ]
  },
  {
   "cell_type": "markdown",
   "metadata": {
    "deletable": false,
    "editable": false,
    "id": "XToBP3w35qgU"
   },
   "source": [
    "与えられたデータセット（変数の型は行列形式のNumPy配列 `np.ndarray` であることを仮定してよい）内の各データが持つ特徴量数（次元数）は一定のはずである。特徴量数を求める関数 `get_n_features(X)` を作成せよ。"
   ]
  },
  {
   "cell_type": "markdown",
   "metadata": {
    "deletable": false,
    "editable": false
   },
   "source": [
    "Assuming that the provided dataset is a matrix in the form of a NumPy array `np.ndarray`, the number of features (dimensions) for each data point should be constant. Create a function `get_n_features(X)` to determine the number of features."
   ]
  },
  {
   "cell_type": "code",
   "execution_count": null,
   "metadata": {
    "colab": {
     "base_uri": "https://localhost:8080/",
     "height": 75
    },
    "id": "3ACVckH05qgU",
    "outputId": "5f47ba4f-9bd4-4961-dbbc-7db5ff662f42",
    "tags": [
     "otter_answer_cell"
    ]
   },
   "outputs": [],
   "source": [
    "def get_n_features(X):\n",
    "    ..."
   ]
  },
  {
   "cell_type": "code",
   "execution_count": null,
   "metadata": {
    "deletable": false,
    "editable": false
   },
   "outputs": [],
   "source": [
    "grader.check(\"Exercise 1-2\")"
   ]
  },
  {
   "cell_type": "markdown",
   "metadata": {
    "id": "saroF1iy51qR"
   },
   "source": [
    "#### 練習問題 1-3 | ある特徴量の平均値の計算"
   ]
  },
  {
   "cell_type": "markdown",
   "metadata": {},
   "source": [
    "#### Exercise 1-3 | Calculate the Mean of a Feature"
   ]
  },
  {
   "cell_type": "markdown",
   "metadata": {
    "deletable": false,
    "editable": false,
    "id": "f-PSyrue6iq1"
   },
   "source": [
    "digitsデータセット `d.data` の各データは64次元の特徴量を持ち、そのようなデータが1000件以上存在している。このうち、10番目の特徴量 `x[10]` について、全データにおける平均値を求めよ。"
   ]
  },
  {
   "cell_type": "markdown",
   "metadata": {
    "deletable": false,
    "editable": false
   },
   "source": [
    "Each data point in the digits dataset `d.data` has 64 features, and there are more than 1000 such data points. Calculate the mean of the 10th feature `x[10]` across all data points."
   ]
  },
  {
   "cell_type": "code",
   "execution_count": null,
   "metadata": {
    "id": "pAdtzt9B7ToB",
    "tags": [
     "otter_answer_cell"
    ]
   },
   "outputs": [],
   "source": [
    "...\n",
    "\n",
    "print(q13_x10_average)"
   ]
  },
  {
   "cell_type": "code",
   "execution_count": null,
   "metadata": {
    "deletable": false,
    "editable": false
   },
   "outputs": [],
   "source": [
    "grader.check(\"Exercise 1-3\")"
   ]
  },
  {
   "cell_type": "markdown",
   "metadata": {},
   "source": [
    "## 2 | 主成分分析 (PCA)"
   ]
  },
  {
   "cell_type": "markdown",
   "metadata": {},
   "source": [
    "## 2 | Principal Component Analysis (PCA)"
   ]
  },
  {
   "cell_type": "markdown",
   "metadata": {},
   "source": [
    "#### 練習問題 2-1 | 主成分分析の実行"
   ]
  },
  {
   "cell_type": "markdown",
   "metadata": {},
   "source": [
    "#### Exercise 2-1 | Perform Principal Component Analysis"
   ]
  },
  {
   "cell_type": "markdown",
   "metadata": {
    "deletable": false,
    "editable": false,
    "id": "TYVOBzEz8T_T"
   },
   "source": [
    "digitsデータセット `d.data` に対して主成分分析を実行せよ。第1主成分の寄与率を求め、`q21_pc1_ratio` に記録せよ。ただし、寄与率は `q21_pca.components_` で求めることができる。\n"
   ]
  },
  {
   "cell_type": "markdown",
   "metadata": {
    "deletable": false,
    "editable": false
   },
   "source": [
    "Perform principal component analysis on the digits dataset `d.data`. Calculate the contribution rate of the first principal component and record it in `q21_pc1_ratio`. The contribution rate can be calculated using `q21_pca.components_`."
   ]
  },
  {
   "cell_type": "code",
   "execution_count": null,
   "metadata": {
    "id": "dkv48MSL9_hJ",
    "tags": [
     "otter_answer_cell"
    ]
   },
   "outputs": [],
   "source": [
    "from sklearn.decomposition import PCA\n",
    "\n",
    "q21_X = d.data\n",
    "q21_pca = ...\n",
    "...\n",
    "q21_pc1_ratio = ...\n",
    "print(q21_pc1_ratio)"
   ]
  },
  {
   "cell_type": "code",
   "execution_count": null,
   "metadata": {
    "deletable": false,
    "editable": false
   },
   "outputs": [],
   "source": [
    "grader.check(\"Exercise 2-1\")"
   ]
  },
  {
   "cell_type": "markdown",
   "metadata": {},
   "source": [
    "#### 練習問題 2-2 | 各主成分同士の直交性"
   ]
  },
  {
   "cell_type": "markdown",
   "metadata": {},
   "source": [
    "#### Exercise 2-2 | Orthogonality of Principal Components"
   ]
  },
  {
   "cell_type": "markdown",
   "metadata": {
    "deletable": false,
    "editable": false
   },
   "source": [
    "PCA の各主成分同士は直交するはずである。`q21_pca.components_` に格納されている主成分ベクトル同士が直交しているかどうかを確認せよ。\n",
    "2つのベクトルの内積が0であればそれらのベクトルは直交している、という事実を利用して、2つのベクトルが直交しているか否かを判定する関数 `q22_is_orthogonal(v1, v2)` を作成し、それを用いて確認すること。\n",
    "\n",
    "ただし、実数値の計算誤差を考慮して、内積が0に等しいかどうかを判定する際には、`np.isclose(val, 0)` を用いること。\n",
    "\n",
    "```otter"
   ]
  },
  {
   "cell_type": "markdown",
   "metadata": {
    "deletable": false,
    "editable": false
   },
   "source": [
    "The principal components from PCA should be orthogonal to each other. Check whether the principal component vectors stored in `q21_pca.components_` are orthogonal.\n",
    "Utilize the fact that if the dot product of two vectors is 0, the vectors are orthogonal. Create a function `q22_is_orthogonal(v1, v2)` to determine if two vectors are orthogonal, and use it to verify this.\n",
    "\n",
    "However, to account for floating-point computation errors, use `np.isclose(val, 0)` when determining if the dot product is equal to 0.\n",
    "\n",
    "```otter"
   ]
  },
  {
   "cell_type": "code",
   "execution_count": null,
   "metadata": {
    "tags": [
     "otter_answer_cell"
    ]
   },
   "outputs": [],
   "source": [
    "def q22_is_orthogonal(v1, v2):\n",
    "    ...\n",
    "    return np.isclose(..., 0)"
   ]
  },
  {
   "cell_type": "code",
   "execution_count": null,
   "metadata": {
    "deletable": false,
    "editable": false
   },
   "outputs": [],
   "source": [
    "grader.check(\"Exercise 2-2\")"
   ]
  },
  {
   "cell_type": "markdown",
   "metadata": {},
   "source": [
    "#### 練習問題 2-3 | 主成分得点の計算"
   ]
  },
  {
   "cell_type": "markdown",
   "metadata": {},
   "source": [
    "#### Exercise 2-3 | Calculate Principal Component Scores"
   ]
  },
  {
   "cell_type": "markdown",
   "metadata": {
    "deletable": false,
    "editable": false
   },
   "source": [
    "各データの主成分得点は、各主成分と各データとの内積によって得られる。`q21_pca.components_` を用いて、データの42番目の要素`q21_X[42]` の第1主成分の主成分得点を計算し、 `q23_pc1_score` に記録せよ。"
   ]
  },
  {
   "cell_type": "markdown",
   "metadata": {
    "deletable": false,
    "editable": false
   },
   "source": [
    "The principal component scores for each data point are obtained by taking the dot product between each principal component and each data point. Using `q21_pca.components_`, calculate the first principal component score for the 42nd data element `q21_X[42]` and record it in `q23_pc1_score`."
   ]
  },
  {
   "cell_type": "code",
   "execution_count": null,
   "metadata": {
    "tags": [
     "otter_answer_cell"
    ]
   },
   "outputs": [],
   "source": [
    "q23_pc1_score = np.dot(..., ...)"
   ]
  },
  {
   "cell_type": "code",
   "execution_count": null,
   "metadata": {
    "deletable": false,
    "editable": false
   },
   "outputs": [],
   "source": [
    "grader.check(\"Exercise 2-3\")"
   ]
  }
 ],
 "metadata": {
  "colab": {
   "provenance": []
  },
  "kernelspec": {
   "display_name": "base",
   "language": "python",
   "name": "python3"
  },
  "language_info": {
   "codemirror_mode": {
    "name": "ipython",
    "version": 3
   },
   "file_extension": ".py",
   "mimetype": "text/x-python",
   "name": "python",
   "nbconvert_exporter": "python",
   "pygments_lexer": "ipython3",
   "version": "3.11.10"
  },
  "otter": {
   "OK_FORMAT": true,
   "tests": {
    "Exercise 1-1": {
     "name": "Exercise 1-1",
     "points": null,
     "suites": [
      {
       "cases": [
        {
         "code": ">>> count_labelzero == 178\nTrue",
         "failure_message": "count_labelzero の値が正しくありません。 / The value of count_labelzero is incorrect.",
         "hidden": false,
         "locked": false
        }
       ],
       "scored": true,
       "setup": "",
       "teardown": "",
       "type": "doctest"
      }
     ]
    },
    "Exercise 1-2": {
     "name": "Exercise 1-2",
     "points": null,
     "suites": [
      {
       "cases": [
        {
         "code": ">>> assert isinstance(get_n_features(d.data), np.integer) or isinstance(get_n_features(d.data), int)\n",
         "failure_message": "get_n_features() の返り値が整数型ではありません。return 文は書きましたか？ / The return value of get_n_features() is not an integer. Did you write the return statement?",
         "hidden": false,
         "locked": false
        },
        {
         "code": ">>> assert get_n_features(np.random.rand(100, 20)) == 20\n",
         "failure_message": "20種類の特徴量を持つデータ100件からなる X を入力したときの出力が 20 になっていません。 / The output for X consisting of 100 data points with 20 features is not 20.",
         "hidden": false,
         "locked": false
        },
        {
         "code": ">>> assert get_n_features(np.random.rand(83, 15)) == 15\n",
         "failure_message": "15種類の特徴量を持つデータ83件からなる X を入力したときの出力が 15 になっていません。 / The output for X consisting of 83 data points with 15 features is not 15.",
         "hidden": false,
         "locked": false
        },
        {
         "code": ">>> assert get_n_features(np.random.rand(1, 20)) == 20\n",
         "failure_message": "20種類の特徴量を持つデータ1件からなる X を入力したときの出力が 20 になっていません。 / The output for X consisting of 1 data point with 20 features is not 20.",
         "hidden": false,
         "locked": false
        },
        {
         "code": ">>> assert get_n_features(np.random.rand(20, 1)) == 1\n",
         "failure_message": "1種類の特徴量を持つデータ20件からなる X を入力したときの出力が 1 になっていません。 / The output for X consisting of 20 data points with 1 feature is not 1.",
         "hidden": false,
         "locked": false
        }
       ],
       "scored": true,
       "setup": "",
       "teardown": "",
       "type": "doctest"
      }
     ]
    },
    "Exercise 1-3": {
     "name": "Exercise 1-3",
     "points": null,
     "suites": [
      {
       "cases": [
        {
         "code": ">>> assert np.isclose(q13_x10_average, 10.382303839732888, atol=1e-06)\n",
         "failure_message": "q13_x10_average の値が正しくありません。 / The value of q13_x10_average is incorrect.",
         "hidden": false,
         "locked": false
        }
       ],
       "scored": true,
       "setup": "",
       "teardown": "",
       "type": "doctest"
      }
     ]
    },
    "Exercise 2-1": {
     "name": "Exercise 2-1",
     "points": null,
     "suites": [
      {
       "cases": [
        {
         "code": ">>> from sklearn.utils.validation import check_is_fitted\n>>> check_is_fitted(q21_pca)\n",
         "failure_message": "q21_pca.fit() が実行されていません。 / q21_pca.fit() has not been executed.",
         "hidden": false,
         "locked": false
        },
        {
         "code": ">>> assert np.isclose(q21_pc1_ratio, 0.14890593593061524, rtol=1e-05)\n",
         "failure_message": "q21_pc1_ratio の値が正しくありません。 / The value of q21_pc1_ratio is incorrect.",
         "hidden": false,
         "locked": false
        }
       ],
       "scored": true,
       "setup": "",
       "teardown": "",
       "type": "doctest"
      }
     ]
    },
    "Exercise 2-2": {
     "name": "Exercise 2-2",
     "points": null,
     "suites": [
      {
       "cases": [
        {
         "code": ">>> assert isinstance(q22_is_orthogonal(np.array([1, 0]), np.array([0, 1])), np.bool_) or isinstance(q22_is_orthogonal(np.array([1, 0]), np.array([0, 1])), bool)\n",
         "failure_message": "q22_is_orthogonal() の返り値が真偽値型ではありません。return 文は書きましたか？ / The return value of q22_is_orthogonal() is not a boolean. Did you write the return statement?",
         "hidden": false,
         "locked": false
        },
        {
         "code": ">>> assert q22_is_orthogonal(np.array([1, 0]), np.array([0, 1])) == True\n",
         "failure_message": "q22_is_orthogonal([1, 0], [0, 1]) の返り値が True になっていません。 / The return value of q22_is_orthogonal([1, 0], [0, 1]) is not True.",
         "hidden": false,
         "locked": false
        },
        {
         "code": ">>> assert q22_is_orthogonal(np.array([1, 0]), np.array([1, 0])) == False\n",
         "failure_message": "is_orthogonal([1, 0], [1, 0]) の返り値が False になっていません。 / The return value of q22_is_orthogonal([1, 0], [1, 0]) is not False.",
         "hidden": false,
         "locked": false
        },
        {
         "code": ">>> from sklearn.decomposition import PCA\n>>> q22_pca = PCA(n_components=2).fit(q21_X)\n>>> assert q22_is_orthogonal(q22_pca.components_[0], q22_pca.components_[1])\n",
         "failure_message": "pca.components_ が直交していないと判定されています。 / It is determined that pca.components_ are not orthogonal.",
         "hidden": false,
         "locked": false
        }
       ],
       "scored": true,
       "setup": "",
       "teardown": "",
       "type": "doctest"
      }
     ]
    },
    "Exercise 2-3": {
     "name": "Exercise 2-3",
     "points": null,
     "suites": [
      {
       "cases": [
        {
         "code": ">>> assert isinstance(q23_pc1_score, (int, float))\n",
         "failure_message": "主成分得点はスカラー値であり、ベクトルではありません。 / The principal component score should be a scalar, not a vector.",
         "hidden": false,
         "locked": false
        },
        {
         "code": ">>> assert np.isclose(q23_pc1_score, np.dot(q21_X[42], q21_pca.components_[0]))\n",
         "failure_message": "値が誤っています。内積は np.dot(v1, v2) で求めることができます。 / The value is incorrect. The dot product can be calculated with np.dot(v1, v2).",
         "hidden": false,
         "locked": false
        }
       ],
       "scored": true,
       "setup": "",
       "teardown": "",
       "type": "doctest"
      }
     ]
    }
   }
  }
 },
 "nbformat": 4,
 "nbformat_minor": 0
}
