{
 "cells": [
  {
   "cell_type": "code",
   "execution_count": null,
   "metadata": {},
   "outputs": [],
   "source": [
    "# Preparation for auto-grading\n",
    "unit = \"DS7\"\n",
    "!pip install otter-grader \n",
    "!wget https://github.com/keisuke-yanagisawa/isct-efdsai/raw/refs/heads/main/supplementary_materials/{unit}/tests.tar.gz -O {unit}.tar.gz\n",
    "!tar -zxvf {unit}.tar.gz \n",
    "!rm {unit}.tar.gz\n",
    "import otter\n",
    "grader = otter.Notebook()"
   ]
  },
  {
   "cell_type": "markdown",
   "metadata": {},
   "source": [
    "# 基盤データサイエンス演習 第7回 アンサンブル学習 補習資料"
   ]
  },
  {
   "cell_type": "markdown",
   "metadata": {},
   "source": [
    "# Supplemental Materials: Exercises in Fundamentals on Data Science (7) - Ensemble Learning"
   ]
  },
  {
   "cell_type": "markdown",
   "metadata": {
    "id": "nIWu0KHd5qgP"
   },
   "source": [
    "## 1 | ブートストラップ・リサンプリング"
   ]
  },
  {
   "cell_type": "markdown",
   "metadata": {},
   "source": [
    "## 1 | Bootstrap Resampling"
   ]
  },
  {
   "cell_type": "markdown",
   "metadata": {
    "id": "FgHD4XBt5qgP"
   },
   "source": [
    "#### 事前準備"
   ]
  },
  {
   "cell_type": "markdown",
   "metadata": {},
   "source": [
    "#### Preliminaries"
   ]
  },
  {
   "cell_type": "code",
   "execution_count": null,
   "metadata": {
    "id": "EHVfOndQ5qgQ"
   },
   "outputs": [],
   "source": [
    "import numpy as np\n",
    "\n",
    "q1_X = np.array([\n",
    "    [ 1,  2,  3],\n",
    "    [ 4,  5,  6],\n",
    "    [ 7,  8,  9],\n",
    "    [10, 11, 12]\n",
    "])\n",
    "q1_y = np.array([1, 2, 3, 4])\n"
   ]
  },
  {
   "cell_type": "markdown",
   "metadata": {},
   "source": [
    "#### 練習問題 1-1 | np.random.choiceによるサンプルの抽出"
   ]
  },
  {
   "cell_type": "markdown",
   "metadata": {},
   "source": [
    "#### Practice Problem 1-1 | Extracting Samples using np.random.choice"
   ]
  },
  {
   "cell_type": "markdown",
   "metadata": {
    "deletable": false,
    "editable": false,
    "id": "a0StRQcy5qgS"
   },
   "source": [
    "`np.random.choice()`を使って、`q1_X` から復元抽出で2件のサンプルを抽出し、`q11_sampled_X` に記録せよ。ただし、`np.random.seed(42)` を実行してからサンプル抽出を行うこと。"
   ]
  },
  {
   "cell_type": "markdown",
   "metadata": {
    "deletable": false,
    "editable": false
   },
   "source": [
    "Use `np.random.choice()` to extract 2 samples from `q1_X` with replacement, and record them in `q11_sampled_X`. Be sure to run `np.random.seed(42)` before extracting the samples."
   ]
  },
  {
   "cell_type": "code",
   "execution_count": null,
   "metadata": {
    "colab": {
     "base_uri": "https://localhost:8080/",
     "height": 75
    },
    "id": "FlhOg7kW5qgS",
    "outputId": "4a337d36-97de-4029-f8d4-c44724b41d56",
    "tags": []
   },
   "outputs": [],
   "source": [
    "np.random.seed(42)\n",
    "q11_sampled_X = ..."
   ]
  },
  {
   "cell_type": "code",
   "execution_count": null,
   "metadata": {
    "deletable": false,
    "editable": false
   },
   "outputs": [],
   "source": [
    "grader.check(\"Exercise 1-1\")"
   ]
  },
  {
   "cell_type": "markdown",
   "metadata": {},
   "source": [
    "#### 練習問題 1-2 | Xとyの対応関係を保持したサンプリングの実施"
   ]
  },
  {
   "cell_type": "markdown",
   "metadata": {},
   "source": [
    "#### Practice Problem 1-2 | Sampling while Maintaining the Correspondence between X and y"
   ]
  },
  {
   "cell_type": "markdown",
   "metadata": {
    "deletable": false,
    "editable": false,
    "id": "XToBP3w35qgU"
   },
   "source": [
    "教師あり学習を行う場合、説明変数 `X` と目的変数 `y` の対応関係を保持したままサンプリングを行う必要がある。`np.random.choice()`を使って、`q1_X` と `q1_y` から復元抽出で5件のサンプルを抽出し、`q12_sampled_X` と `q12_sampled_y` に記録せよ。ただし、`np.random.seed(42)` を実行してからサンプル抽出を行うこと。"
   ]
  },
  {
   "cell_type": "markdown",
   "metadata": {
    "deletable": false,
    "editable": false
   },
   "source": [
    "When performing supervised learning, it is necessary to sample while maintaining the correspondence between the explanatory variable `X` and the target variable `y`. Use `np.random.choice()` to extract 5 samples from `q1_X` and `q1_y` with replacement, and record them in `q12_sampled_X` and `q12_sampled_y`. Be sure to run `np.random.seed(42)` before extracting the samples."
   ]
  },
  {
   "cell_type": "code",
   "execution_count": null,
   "metadata": {
    "colab": {
     "base_uri": "https://localhost:8080/",
     "height": 75
    },
    "id": "3ACVckH05qgU",
    "outputId": "5f47ba4f-9bd4-4961-dbbc-7db5ff662f42",
    "tags": []
   },
   "outputs": [],
   "source": [
    "np.random.seed(42)\n",
    "...\n",
    "q12_sampled_X = ...\n",
    "q12_sampled_y = ...\n"
   ]
  },
  {
   "cell_type": "code",
   "execution_count": null,
   "metadata": {
    "deletable": false,
    "editable": false
   },
   "outputs": [],
   "source": [
    "grader.check(\"Exercise 1-2\")"
   ]
  },
  {
   "cell_type": "markdown",
   "metadata": {},
   "source": [
    "## 2 | アンサンブル学習における弱学習器 (estimator)"
   ]
  },
  {
   "cell_type": "markdown",
   "metadata": {},
   "source": [
    "## 2 | Weak Learners (Estimator) in Ensemble Learning"
   ]
  },
  {
   "cell_type": "markdown",
   "metadata": {},
   "source": [
    "#### 事前準備"
   ]
  },
  {
   "cell_type": "markdown",
   "metadata": {},
   "source": [
    "#### Preparation\n"
   ]
  },
  {
   "cell_type": "code",
   "execution_count": null,
   "metadata": {},
   "outputs": [],
   "source": [
    "from sklearn import datasets\n",
    "from sklearn.model_selection import train_test_split\n",
    "d = datasets.load_digits()\n",
    "X = d.data\n",
    "y = d.target\n",
    "X_train, X_test, y_train, y_test = train_test_split(X, y, train_size=1000, random_state=42)"
   ]
  },
  {
   "cell_type": "markdown",
   "metadata": {},
   "source": [
    "#### 練習問題 2-1 | 精度を最大化する n_estimators の探索：ランダムフォレスト"
   ]
  },
  {
   "cell_type": "markdown",
   "metadata": {},
   "source": [
    "#### Practice Problem 2-1 | Exploring n_estimators to Maximize Accuracy: Random Forest"
   ]
  },
  {
   "cell_type": "markdown",
   "metadata": {
    "deletable": false,
    "editable": false
   },
   "source": [
    "`n_estimators` を 1, 2, 4, 10, 20, 40, 100, 200, 400 の9通りに変化させた場合の予測正解率を調査し、全ての予測精度を `q21_all_accuracies` に、最も予測正解率が高かった学習器の数を `q21_best_n_estimators` に、その時の予測正解率を `q21_best_accuracy` に、それぞれ記録せよ。ただし、`random_state=42` を設定すること。\n",
    "\n",
    "また、付属している描画関数を用いて、`n_estimators` と予測正解率 `q21_all_accuracies` の関係を確認せよ。\n"
   ]
  },
  {
   "cell_type": "markdown",
   "metadata": {
    "deletable": false,
    "editable": false
   },
   "source": [
    "Investigate the prediction accuracy when varying `n_estimators` from 1, 2, 4, 10, 20, 40, 100, 200, to 400, and record all prediction accuracies in `q21_all_accuracies`, the number of estimators that achieved the highest accuracy in `q21_best_n_estimators`, and the highest accuracy in `q21_best_accuracy`. Be sure to set `random_state=42`.\n",
    "\n",
    "Additionally, use the provided plotting function to visualize the relationship between `n_estimators` and prediction accuracy `q21_all_accuracies`."
   ]
  },
  {
   "cell_type": "code",
   "execution_count": null,
   "metadata": {
    "tags": []
   },
   "outputs": [],
   "source": [
    "from sklearn.ensemble import RandomForestClassifier\n",
    "from sklearn.metrics import accuracy_score\n",
    "q21_all_accuracies = []\n",
    "q21_best_n_estimators = None\n",
    "q21_best_accuracy = 0.0\n",
    "\n",
    "for n_estimators in [1,2,4,10,20,40,100,200,400]:\n",
    "    ..."
   ]
  },
  {
   "cell_type": "code",
   "execution_count": null,
   "metadata": {
    "tags": []
   },
   "outputs": [],
   "source": [
    "import matplotlib.pyplot as plt\n",
    "plt.plot([1,2,4,10,20,40,100,200,400], q21_all_accuracies)\n",
    "plt.xscale(\"log\")\n",
    "plt.grid()\n",
    "plt.show()"
   ]
  },
  {
   "cell_type": "code",
   "execution_count": null,
   "metadata": {
    "deletable": false,
    "editable": false
   },
   "outputs": [],
   "source": [
    "grader.check(\"Exercise 2-1\")"
   ]
  }
 ],
 "metadata": {
  "colab": {
   "provenance": []
  },
  "kernelspec": {
   "display_name": "base",
   "language": "python",
   "name": "python3"
  },
  "language_info": {
   "codemirror_mode": {
    "name": "ipython",
    "version": 3
   },
   "file_extension": ".py",
   "mimetype": "text/x-python",
   "name": "python",
   "nbconvert_exporter": "python",
   "pygments_lexer": "ipython3",
   "version": "3.11.10"
  }
 },
 "nbformat": 4,
 "nbformat_minor": 0
}
