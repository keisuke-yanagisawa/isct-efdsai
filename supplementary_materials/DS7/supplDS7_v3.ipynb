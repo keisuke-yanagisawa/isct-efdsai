{
 "cells": [
  {
   "cell_type": "code",
   "execution_count": null,
   "metadata": {},
   "outputs": [],
   "source": [
    "# Preparation for auto-grading\n",
    "!pip install otter-grader \n",
    "import otter\n",
    "grader = otter.Notebook()"
   ]
  },
  {
   "cell_type": "markdown",
   "metadata": {},
   "source": [
    "# 基盤データサイエンス演習 第7回 アンサンブル学習 補習資料"
   ]
  },
  {
   "cell_type": "markdown",
   "metadata": {},
   "source": [
    "# Supplemental Materials: Exercises in Fundamentals on Data Science (7) - Ensemble Learning"
   ]
  },
  {
   "cell_type": "markdown",
   "metadata": {
    "id": "nIWu0KHd5qgP"
   },
   "source": [
    "## 1 | ブートストラップ・リサンプリング"
   ]
  },
  {
   "cell_type": "markdown",
   "metadata": {},
   "source": [
    "## 1 | Bootstrap Resampling"
   ]
  },
  {
   "cell_type": "markdown",
   "metadata": {
    "id": "FgHD4XBt5qgP"
   },
   "source": [
    "#### 事前準備"
   ]
  },
  {
   "cell_type": "markdown",
   "metadata": {},
   "source": [
    "#### Preliminaries"
   ]
  },
  {
   "cell_type": "code",
   "execution_count": null,
   "metadata": {
    "id": "EHVfOndQ5qgQ"
   },
   "outputs": [],
   "source": [
    "import numpy as np\n",
    "\n",
    "q1_X = np.array([\n",
    "    [ 1,  2,  3],\n",
    "    [ 4,  5,  6],\n",
    "    [ 7,  8,  9],\n",
    "    [10, 11, 12]\n",
    "])\n",
    "q1_y = np.array([1, 2, 3, 4])\n"
   ]
  },
  {
   "cell_type": "markdown",
   "metadata": {},
   "source": [
    "#### 練習問題 1-1 | np.random.choiceによるサンプルの抽出"
   ]
  },
  {
   "cell_type": "markdown",
   "metadata": {},
   "source": [
    "#### Practice Problem 1-1 | Extracting Samples using np.random.choice"
   ]
  },
  {
   "cell_type": "markdown",
   "metadata": {
    "deletable": false,
    "editable": false,
    "id": "a0StRQcy5qgS"
   },
   "source": [
    "`np.random.choice()`を使って、`q1_X` から復元抽出で2件のサンプルを抽出し、`q11_sampled_X` に記録せよ。ただし、`np.random.seed(42)` を実行してからサンプル抽出を行うこと。"
   ]
  },
  {
   "cell_type": "markdown",
   "metadata": {
    "deletable": false,
    "editable": false
   },
   "source": [
    "Use `np.random.choice()` to extract 2 samples from `q1_X` with replacement, and record them in `q11_sampled_X`. Be sure to run `np.random.seed(42)` before extracting the samples."
   ]
  },
  {
   "cell_type": "code",
   "execution_count": null,
   "metadata": {
    "colab": {
     "base_uri": "https://localhost:8080/",
     "height": 75
    },
    "id": "FlhOg7kW5qgS",
    "outputId": "4a337d36-97de-4029-f8d4-c44724b41d56",
    "tags": [
     "otter_answer_cell"
    ]
   },
   "outputs": [],
   "source": [
    "np.random.seed(42)\n",
    "q11_sampled_X = ..."
   ]
  },
  {
   "cell_type": "code",
   "execution_count": null,
   "metadata": {
    "deletable": false,
    "editable": false
   },
   "outputs": [],
   "source": [
    "grader.check(\"Exercise 1-1\")"
   ]
  },
  {
   "cell_type": "markdown",
   "metadata": {},
   "source": [
    "#### 練習問題 1-2 | Xとyの対応関係を保持したサンプリングの実施"
   ]
  },
  {
   "cell_type": "markdown",
   "metadata": {},
   "source": [
    "#### Practice Problem 1-2 | Sampling while Maintaining the Correspondence between X and y"
   ]
  },
  {
   "cell_type": "markdown",
   "metadata": {
    "deletable": false,
    "editable": false,
    "id": "XToBP3w35qgU"
   },
   "source": [
    "教師あり学習を行う場合、説明変数 `X` と目的変数 `y` の対応関係を保持したままサンプリングを行う必要がある。`np.random.choice()`を使って、`q1_X` と `q1_y` から復元抽出で5件のサンプルを抽出し、`q12_sampled_X` と `q12_sampled_y` に記録せよ。ただし、`np.random.seed(42)` を実行してからサンプル抽出を行うこと。"
   ]
  },
  {
   "cell_type": "markdown",
   "metadata": {
    "deletable": false,
    "editable": false
   },
   "source": [
    "When performing supervised learning, it is necessary to sample while maintaining the correspondence between the explanatory variable `X` and the target variable `y`. Use `np.random.choice()` to extract 5 samples from `q1_X` and `q1_y` with replacement, and record them in `q12_sampled_X` and `q12_sampled_y`. Be sure to run `np.random.seed(42)` before extracting the samples."
   ]
  },
  {
   "cell_type": "code",
   "execution_count": null,
   "metadata": {
    "colab": {
     "base_uri": "https://localhost:8080/",
     "height": 75
    },
    "id": "3ACVckH05qgU",
    "outputId": "5f47ba4f-9bd4-4961-dbbc-7db5ff662f42",
    "tags": [
     "otter_answer_cell"
    ]
   },
   "outputs": [],
   "source": [
    "np.random.seed(42)\n",
    "...\n",
    "q12_sampled_X = ...\n",
    "q12_sampled_y = ...\n"
   ]
  },
  {
   "cell_type": "code",
   "execution_count": null,
   "metadata": {
    "deletable": false,
    "editable": false
   },
   "outputs": [],
   "source": [
    "grader.check(\"Exercise 1-2\")"
   ]
  },
  {
   "cell_type": "markdown",
   "metadata": {},
   "source": [
    "## 2 | アンサンブル学習における弱学習器 (estimator)"
   ]
  },
  {
   "cell_type": "markdown",
   "metadata": {},
   "source": [
    "## 2 | Weak Learners (Estimator) in Ensemble Learning"
   ]
  },
  {
   "cell_type": "markdown",
   "metadata": {},
   "source": [
    "#### 事前準備"
   ]
  },
  {
   "cell_type": "markdown",
   "metadata": {},
   "source": [
    "#### Preparation\n"
   ]
  },
  {
   "cell_type": "code",
   "execution_count": null,
   "metadata": {},
   "outputs": [],
   "source": [
    "from sklearn import datasets\n",
    "from sklearn.model_selection import train_test_split\n",
    "d = datasets.load_digits()\n",
    "X = d.data\n",
    "y = d.target\n",
    "X_train, X_test, y_train, y_test = train_test_split(X, y, train_size=1000, random_state=42)"
   ]
  },
  {
   "cell_type": "markdown",
   "metadata": {},
   "source": [
    "#### 練習問題 2-1 | 精度を最大化する n_estimators の探索：ランダムフォレスト"
   ]
  },
  {
   "cell_type": "markdown",
   "metadata": {},
   "source": [
    "#### Practice Problem 2-1 | Exploring n_estimators to Maximize Accuracy: Random Forest"
   ]
  },
  {
   "cell_type": "markdown",
   "metadata": {
    "deletable": false,
    "editable": false
   },
   "source": [
    "`n_estimators` を 1, 2, 4, 10, 20, 40, 100, 200, 400 の9通りに変化させた場合の予測正解率を調査し、全ての予測精度を `q21_all_accuracies` に、最も予測正解率が高かった学習器の数を `q21_best_n_estimators` に、その時の予測正解率を `q21_best_accuracy` に、それぞれ記録せよ。ただし、`random_state=42` を設定すること。\n",
    "\n",
    "また、付属している描画関数を用いて、`n_estimators` と予測正解率 `q21_all_accuracies` の関係を確認せよ。\n"
   ]
  },
  {
   "cell_type": "markdown",
   "metadata": {
    "deletable": false,
    "editable": false
   },
   "source": [
    "Investigate the prediction accuracy when varying `n_estimators` from 1, 2, 4, 10, 20, 40, 100, 200, to 400, and record all prediction accuracies in `q21_all_accuracies`, the number of estimators that achieved the highest accuracy in `q21_best_n_estimators`, and the highest accuracy in `q21_best_accuracy`. Be sure to set `random_state=42`.\n",
    "\n",
    "Additionally, use the provided plotting function to visualize the relationship between `n_estimators` and prediction accuracy `q21_all_accuracies`."
   ]
  },
  {
   "cell_type": "code",
   "execution_count": null,
   "metadata": {
    "tags": [
     "otter_answer_cell"
    ]
   },
   "outputs": [],
   "source": [
    "from sklearn.ensemble import RandomForestClassifier\n",
    "from sklearn.metrics import accuracy_score\n",
    "q21_all_accuracies = []\n",
    "q21_best_n_estimators = None\n",
    "q21_best_accuracy = 0.0\n",
    "\n",
    "for n_estimators in [1,2,4,10,20,40,100,200,400]:\n",
    "    ..."
   ]
  },
  {
   "cell_type": "code",
   "execution_count": null,
   "metadata": {
    "tags": [
     "otter_answer_cell"
    ]
   },
   "outputs": [],
   "source": [
    "import matplotlib.pyplot as plt\n",
    "plt.plot([1,2,4,10,20,40,100,200,400], q21_all_accuracies)\n",
    "plt.xscale(\"log\")\n",
    "plt.grid()\n",
    "plt.show()"
   ]
  },
  {
   "cell_type": "code",
   "execution_count": null,
   "metadata": {
    "deletable": false,
    "editable": false
   },
   "outputs": [],
   "source": [
    "grader.check(\"Exercise 2-1\")"
   ]
  }
 ],
 "metadata": {
  "colab": {
   "provenance": []
  },
  "kernelspec": {
   "display_name": "base",
   "language": "python",
   "name": "python3"
  },
  "language_info": {
   "codemirror_mode": {
    "name": "ipython",
    "version": 3
   },
   "file_extension": ".py",
   "mimetype": "text/x-python",
   "name": "python",
   "nbconvert_exporter": "python",
   "pygments_lexer": "ipython3",
   "version": "3.11.10"
  },
  "otter": {
   "OK_FORMAT": true,
   "tests": {
    "Exercise 1-1": {
     "name": "Exercise 1-1",
     "points": null,
     "suites": [
      {
       "cases": [
        {
         "code": ">>> q11_sampled_X.shape[0] == 2\nTrue",
         "failure_message": "q11_sampled_X のサンプル数が正しくありません。",
         "hidden": false,
         "locked": false
        },
        {
         "code": ">>> q11_sampled_X.shape[0] == 2\nTrue",
         "failure_message": "The number of samples in q11_sampled_X is incorrect.",
         "hidden": false,
         "locked": false
        },
        {
         "code": ">>> np.all(q11_sampled_X == np.array([2, 3]))\nnp.True_",
         "failure_message": "q11_sampled_X の値が誤っています。復元抽出をおこなっていますか？np.random.seed(42)は最初に実行されていますか？",
         "hidden": false,
         "locked": false
        },
        {
         "code": ">>> np.all(q11_sampled_X == np.array([2, 3]))\nnp.True_",
         "failure_message": "The values of q11_sampled_X are incorrect. Are you performing resampling? Has np.random.seed(42) been run first?",
         "hidden": false,
         "locked": false
        }
       ],
       "scored": true,
       "setup": "",
       "teardown": "",
       "type": "doctest"
      }
     ]
    },
    "Exercise 1-2": {
     "name": "Exercise 1-2",
     "points": null,
     "suites": [
      {
       "cases": [
        {
         "code": ">>> q12_sampled_X.shape[0] == 5 and q12_sampled_X.shape[1] == 3\nTrue",
         "failure_message": "q12_sampled_X のサンプル数が正しくありません。",
         "hidden": false,
         "locked": false
        },
        {
         "code": ">>> q12_sampled_X.shape[0] == 5 and q12_sampled_X.shape[1] == 3\nTrue",
         "failure_message": "The number of samples in q12_sampled_X is incorrect.",
         "hidden": false,
         "locked": false
        },
        {
         "code": ">>> q12_sampled_y.shape[0] == 5\nTrue",
         "failure_message": "q12_sampled_y のサンプル数が正しくありません。",
         "hidden": false,
         "locked": false
        },
        {
         "code": ">>> q12_sampled_y.shape[0] == 5\nTrue",
         "failure_message": "The number of samples in q12_sampled_y is incorrect.",
         "hidden": false,
         "locked": false
        },
        {
         "code": ">>> boolean = True\n>>> for col in range(q12_sampled_X.shape[0]):\n...     __match_index = np.all(q1_X == q12_sampled_X[col], axis=1)\n...     boolean = boolean == __match_index.any()\n...     __ind = np.where(__match_index)\n...     __ytest = (q1_y[__ind] == q12_sampled_y[col]).any()\n...     boolean = boolean == __ytest\n>>> boolean == True\nnp.True_",
         "failure_message": "q12_sampled_X と q12_sampled_y の対応関係が保たれていません。",
         "hidden": false,
         "locked": false
        },
        {
         "code": ">>> boolean = True\n>>> for col in range(q12_sampled_X.shape[0]):\n...     __match_index = np.all(q1_X == q12_sampled_X[col], axis=1)\n...     boolean = boolean == __match_index.any()\n...     __ind = np.where(__match_index)\n...     __ytest = (q1_y[__ind] == q12_sampled_y[col]).any()\n...     boolean = boolean == __ytest\n>>> boolean == True\nnp.True_",
         "failure_message": "The correspondence between q12_sampled_X and q12_sampled_y is not maintained.",
         "hidden": false,
         "locked": false
        },
        {
         "code": ">>> np.all(q12_sampled_X == np.array([[7, 8, 9], [10, 11, 12], [1, 2, 3], [7, 8, 9], [7, 8, 9]])) and np.all(q12_sampled_y == np.array([3, 4, 1, 3, 3]))\nnp.True_",
         "failure_message": "q12_sampled_X と q12_sampled_y の値が誤っています。復元抽出をおこなっていますか？np.random.seed(42)は最初に実行されていますか？",
         "hidden": false,
         "locked": false
        },
        {
         "code": ">>> np.all(q12_sampled_X == np.array([[7, 8, 9], [10, 11, 12], [1, 2, 3], [7, 8, 9], [7, 8, 9]])) and np.all(q12_sampled_y == np.array([3, 4, 1, 3, 3]))\nnp.True_",
         "failure_message": "The values of q12_sampled_X and q12_sampled_y are incorrect. Are you performing resampling? Has np.random.seed(42) been run first?",
         "hidden": false,
         "locked": false
        }
       ],
       "scored": true,
       "setup": "",
       "teardown": "",
       "type": "doctest"
      }
     ]
    },
    "Exercise 2-1": {
     "name": "Exercise 2-1",
     "points": null,
     "suites": [
      {
       "cases": [
        {
         "code": ">>> q21_best_n_estimators == 100\nTrue",
         "failure_message": "q21_best_n_estimators の値が誤っています。random_state=42 で fit していますか？ / The value of q21_best_n_estimators is incorrect. Are you fitting with random_state=42?",
         "hidden": false,
         "locked": false
        },
        {
         "code": ">>> np.isclose(q21_best_accuracy, 0.973651191969887, atol=1e-05)\nnp.True_",
         "failure_message": "q21_best_accuracy の値が誤っています。random_state=42 で fit していますか？ / The value of q21_best_accuracy is incorrect. Are you fitting with random_state=42?",
         "hidden": false,
         "locked": false
        },
        {
         "code": ">>> len(q21_all_accuracies) == 9\nTrue",
         "failure_message": "試行回数が足りていません。[1,2,4,10,20,40,100,200,400]の全ての要素に対して試行していますか？ / Not enough trials were performed. Have you tried all elements of [1,2,4,10,20,40,100,200,400]?",
         "hidden": false,
         "locked": false
        },
        {
         "code": ">>> np.allclose(q21_all_accuracies, [0.7728983688833124, 0.7540777917189461, 0.8782936010037641, 0.946047678795483, 0.9598494353826851, 0.9711417816813049, 0.973651191969887, 0.9698870765370138, 0.972396486825596], atol=1e-05)\nTrue",
         "failure_message": "q21_all_accuracies の値が誤っています。random_state=42 で fit していますか？ / The values of q21_all_accuracies are incorrect. Are you fitting with random_state=42?",
         "hidden": false,
         "locked": false
        }
       ],
       "scored": true,
       "setup": "",
       "teardown": "",
       "type": "doctest"
      }
     ]
    }
   }
  }
 },
 "nbformat": 4,
 "nbformat_minor": 0
}
