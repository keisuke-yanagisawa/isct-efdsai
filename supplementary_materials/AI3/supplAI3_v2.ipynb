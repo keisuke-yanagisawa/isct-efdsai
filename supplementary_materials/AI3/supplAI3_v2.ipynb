{
 "cells": [
  {
   "cell_type": "code",
   "execution_count": null,
   "metadata": {},
   "outputs": [],
   "source": [
    "# Preparation for auto-grading\n",
    "unit = \"AI3\"\n",
    "!pip install otter-grader \n",
    "!wget https://github.com/keisuke-yanagisawa/isct-efdsai/raw/refs/heads/main/supplementary_materials/{unit}/student.tar.gz -O {unit}.tar.gz\n",
    "!tar -zxvf {unit}.tar.gz \n",
    "!rm {unit}.tar.gz\n",
    "%cd student\n",
    "import otter\n",
    "grader = otter.Notebook()"
   ]
  },
  {
   "cell_type": "markdown",
   "metadata": {},
   "source": [
    "# 基盤人工知能演習 第3回 線形回帰と多項式回帰 補習資料"
   ]
  },
  {
   "cell_type": "markdown",
   "metadata": {},
   "source": [
    "# Supplemental Material: Exercises in Fundamentals of Artificial Intelligence - AI3: Linear and Polynomial Regression"
   ]
  },
  {
   "cell_type": "markdown",
   "metadata": {},
   "source": [
    "## 1 | 線形回帰・Ridge回帰"
   ]
  },
  {
   "cell_type": "markdown",
   "metadata": {},
   "source": [
    "## 1 | Linear Regression and Ridge Regression"
   ]
  },
  {
   "cell_type": "markdown",
   "metadata": {},
   "source": [
    "#### 練習問題 1-1 | 入力データセットの作成"
   ]
  },
  {
   "cell_type": "markdown",
   "metadata": {},
   "source": [
    "#### Exercise 1-1 | Create the Input Dataset"
   ]
  },
  {
   "cell_type": "markdown",
   "metadata": {
    "deletable": false,
    "editable": false
   },
   "source": [
    "$y = x_1 + x_2 + 1$ となるような10件のサンプルデータを自由に作成せよ。ただし、10件全てにおいて $y$ が異なる値になるようにせよ。\n",
    "各データは `q11_X` および `q11_y` という変数に、NumPy配列として格納すること。"
   ]
  },
  {
   "cell_type": "markdown",
   "metadata": {
    "deletable": false,
    "editable": false
   },
   "source": [
    "Create 10 samples such that $y = x_1 + x_2 + 1$, ensuring that each sample has a unique $y$ value. Store the data in variables `q11_X` and `q11_y` as NumPy arrays."
   ]
  },
  {
   "cell_type": "code",
   "execution_count": null,
   "metadata": {
    "metadata": {},
    "tags": []
   },
   "outputs": [],
   "source": [
    "import numpy as np\n",
    "\n",
    "... \n",
    "\n",
    "print(q11_X)\n",
    "print(q11_y)"
   ]
  },
  {
   "cell_type": "code",
   "execution_count": null,
   "metadata": {
    "deletable": false,
    "editable": false
   },
   "outputs": [],
   "source": [
    "grader.check(\"Exercise 1-1\")"
   ]
  },
  {
   "cell_type": "markdown",
   "metadata": {},
   "source": [
    "#### 練習問題 1-2 | 線形回帰の実行"
   ]
  },
  {
   "cell_type": "markdown",
   "metadata": {},
   "source": [
    "#### Exercise 1-2 | Perform Linear Regression"
   ]
  },
  {
   "cell_type": "markdown",
   "metadata": {
    "deletable": false,
    "editable": false
   },
   "source": [
    "練習問題 1-1 で作成した `q11_X` および `q11_y` を使って線形回帰モデル `q12_lr` を構築し、その係数を確認せよ。"
   ]
  },
  {
   "cell_type": "markdown",
   "metadata": {
    "deletable": false,
    "editable": false
   },
   "source": [
    "Using the `q11_X` and `q11_y` created in Exercise 1-1, build a linear regression model `q12_lr` and check its coefficients."
   ]
  },
  {
   "cell_type": "code",
   "execution_count": null,
   "metadata": {
    "metadata": {},
    "tags": []
   },
   "outputs": [],
   "source": [
    "from sklearn.linear_model import LinearRegression\n",
    "\n",
    "q12_lr = ...\n",
    "... \n",
    "\n",
    "print(q12_lr.coef_)\n",
    "print(q12_lr.intercept_)"
   ]
  },
  {
   "cell_type": "code",
   "execution_count": null,
   "metadata": {
    "deletable": false,
    "editable": false
   },
   "outputs": [],
   "source": [
    "grader.check(\"Exercise 1-2\")"
   ]
  },
  {
   "cell_type": "markdown",
   "metadata": {},
   "source": [
    "#### 練習問題 1-3 | Ridge回帰の実行"
   ]
  },
  {
   "cell_type": "markdown",
   "metadata": {},
   "source": [
    "#### Exercise 1-3 | Perform Ridge Regression"
   ]
  },
  {
   "cell_type": "markdown",
   "metadata": {
    "deletable": false,
    "editable": false
   },
   "source": [
    "`q11_X` および `q11_y` を使って、$\\alpha=1$ としたときのRidge回帰モデル `q13_ridge_1` と、$\\alpha=10$ としたときのRidge回帰モデル `q13_ridge_10` をそれぞれ構築し、その係数を比較せよ。"
   ]
  },
  {
   "cell_type": "markdown",
   "metadata": {
    "deletable": false,
    "editable": false
   },
   "source": [
    "Using `q11_X` and `q11_y`, build Ridge regression models `q13_ridge_1` with $\\alpha=1$ and `q13_ridge_10` with $\\alpha=10$, and compare their coefficients."
   ]
  },
  {
   "cell_type": "code",
   "execution_count": null,
   "metadata": {
    "tags": []
   },
   "outputs": [],
   "source": [
    "from sklearn.linear_model import Ridge\n",
    "\n",
    "... \n",
    "\n",
    "print(\"alpha =  1\", q13_ridge_1.coef_, q13_ridge_1.intercept_)\n",
    "print(\"alpha = 10\", q13_ridge_10.coef_, q13_ridge_10.intercept_)"
   ]
  },
  {
   "cell_type": "code",
   "execution_count": null,
   "metadata": {
    "deletable": false,
    "editable": false
   },
   "outputs": [],
   "source": [
    "grader.check(\"Exercise 1-3\")"
   ]
  },
  {
   "cell_type": "markdown",
   "metadata": {},
   "source": [
    "## 2 | 多項式回帰とその応用"
   ]
  },
  {
   "cell_type": "markdown",
   "metadata": {},
   "source": [
    "## 2 | Polynomial Regression and Its Applications"
   ]
  },
  {
   "cell_type": "markdown",
   "metadata": {},
   "source": [
    "#### 事前準備"
   ]
  },
  {
   "cell_type": "markdown",
   "metadata": {},
   "source": [
    "#### Preparation"
   ]
  },
  {
   "cell_type": "markdown",
   "metadata": {},
   "source": [
    "今回用いるデータ `x` および `y` は、 $y = \\cos(x)$ となるようなデータである（$x$は [rad] とし、ノイズは一切含まれていないことを仮定する）。この数式の関係であることを念頭に置きながら、この後の練習問題に取り組んで欲しい。"
   ]
  },
  {
   "cell_type": "markdown",
   "metadata": {},
   "source": [
    "The data used here, `x` and `y`, follows $y = \\cos(x)$, where $x$ is in [rad], and it is assumed that no noise is present. Keep this in mind as you tackle the following exercises."
   ]
  },
  {
   "cell_type": "code",
   "execution_count": null,
   "metadata": {},
   "outputs": [],
   "source": [
    "import numpy as np\n",
    "from sklearn.model_selection import train_test_split\n",
    "\n",
    "x = np.random.rand(80)*8\n",
    "y = np.cos(x)\n",
    "\n",
    "x_train, x_test, y_train, y_test = train_test_split(x, y, test_size=0.5, random_state=0)"
   ]
  },
  {
   "cell_type": "code",
   "execution_count": null,
   "metadata": {},
   "outputs": [],
   "source": [
    "# check the data\n",
    "\n",
    "import matplotlib.pyplot as plt\n",
    "plt.plot(np.linspace(0, 8, 100), np.cos(np.linspace(0, 8, 100)), label=\"$\\cos(x)$\", c=\"green\")\n",
    "plt.scatter(x_train, y_train, label=\"train\", c=\"blue\")\n",
    "plt.scatter(x_test, y_test, label=\"test\", c=\"red\")\n",
    "plt.xlabel(\"x [rad]\")\n",
    "plt.ylabel(\"y\")\n",
    "plt.title(\"$y = \\cos(x)$\")\n",
    "plt.legend()\n",
    "plt.show()"
   ]
  },
  {
   "cell_type": "markdown",
   "metadata": {},
   "source": [
    "#### 練習問題 2-1 | `PolynomialFeatures` 相当の関数の作成"
   ]
  },
  {
   "cell_type": "markdown",
   "metadata": {},
   "source": [
    "#### Exercise 2-1 | Create a Function Equivalent to `PolynomialFeatures`"
   ]
  },
  {
   "cell_type": "markdown",
   "metadata": {
    "deletable": false,
    "editable": false
   },
   "source": [
    "`sklearn.preprocessing.polynomialFeatures` は、多項式回帰を行うための特徴量生成を行うものであった。\n",
    "同様に、NumPy 1次元配列（例：`np.array([1,2,3])`）を引数として、各値に対応する $x^1, x^2, x^3$ の値を並べた NumPy 2次元配列を返す関数 `q21_cubic_features(x)` を作成せよ。"
   ]
  },
  {
   "cell_type": "markdown",
   "metadata": {
    "deletable": false,
    "editable": false
   },
   "source": [
    "`sklearn.preprocessing.polynomialFeatures` generates features for polynomial regression. Similarly, create a function `q21_cubic_features(x)` that takes a NumPy 1D array (e.g., `np.array([1,2,3])`) as input and returns a 2D NumPy array where each value corresponds to $x^1, x^2, x^3$."
   ]
  },
  {
   "cell_type": "code",
   "execution_count": null,
   "metadata": {
    "tags": []
   },
   "outputs": [],
   "source": [
    "import numpy as np\n",
    "def q21_cubic_features(x: np.ndarray) -> np.ndarray:\n",
    "    ...\n",
    "    return ...\n",
    "\n",
    "print(q21_cubic_features(np.array([1, 2])))\n",
    "# The result should be [[1, 1, 1], [2, 4, 8]]"
   ]
  },
  {
   "cell_type": "code",
   "execution_count": null,
   "metadata": {
    "deletable": false,
    "editable": false
   },
   "outputs": [],
   "source": [
    "grader.check(\"Exercise 2-1\")"
   ]
  },
  {
   "cell_type": "markdown",
   "metadata": {},
   "source": [
    "#### 練習問題 2-2 | 三角関数を用いた基底関数"
   ]
  },
  {
   "cell_type": "markdown",
   "metadata": {},
   "source": [
    "#### Exercise 2-2 | Base Function with Trigonometric Functions"
   ]
  },
  {
   "cell_type": "markdown",
   "metadata": {
    "deletable": false,
    "editable": false
   },
   "source": [
    "NumPy 1次元配列（例：`np.array([1,2,3])`）を引数として、各値に対応する $x, \\sin(x), \\cos(x)$ の値を並べた NumPy 2次元配列を返す関数 `q22_trigonometric_features(x)` を作成せよ。ただし、$\\sin(x)$ および $\\cos(x)$ はラジアンで計算すること。"
   ]
  },
  {
   "cell_type": "markdown",
   "metadata": {
    "deletable": false,
    "editable": false
   },
   "source": [
    "Create a function `q22_trigonometric_features(x)` that takes a NumPy 1D array (e.g., `np.array([1,2,3])`) as input and returns a 2D NumPy array where each value corresponds to $x, \\sin(x), \\cos(x)$. Make sure to compute $\\sin(x)$ and $\\cos(x)$ in radians."
   ]
  },
  {
   "cell_type": "code",
   "execution_count": null,
   "metadata": {
    "tags": []
   },
   "outputs": [],
   "source": [
    "import numpy as np\n",
    "def q22_trigonometric_features(x: np.ndarray) -> np.ndarray:\n",
    "    ...\n",
    "    return ...\n",
    "\n",
    "print(q22_trigonometric_features(np.array([0, 1, np.pi])))\n",
    "# The result should be [[0,0,1], [1, 0.84.., 0.54..], [3.14.., 0, -1]]"
   ]
  },
  {
   "cell_type": "code",
   "execution_count": null,
   "metadata": {
    "deletable": false,
    "editable": false
   },
   "outputs": [],
   "source": [
    "grader.check(\"Exercise 2-2\")"
   ]
  },
  {
   "cell_type": "markdown",
   "metadata": {},
   "source": [
    "#### 練習問題 2-3 | 三角関数を用いた回帰"
   ]
  },
  {
   "cell_type": "markdown",
   "metadata": {},
   "source": [
    "#### Exercise 2-3 | Regression Using Trigonometric Functions"
   ]
  },
  {
   "cell_type": "markdown",
   "metadata": {
    "deletable": false,
    "editable": false
   },
   "source": [
    "練習問題2-2で作成した関数 `q22_trigonometric_features()` を利用して、 $ y = a \\sin{x} + b \\cos{x} + c x + d $ の回帰を `LinearRegression()` を利用して実施し、その係数を確認せよ。"
   ]
  },
  {
   "cell_type": "markdown",
   "metadata": {
    "deletable": false,
    "editable": false
   },
   "source": [
    "Using the `q22_trigonometric_features()` function created in Exercise 2-2, perform regression using $ y = a \\sin{x} + b \\cos{x} + c x + d $ and check the coefficients using `LinearRegression()`."
   ]
  },
  {
   "cell_type": "code",
   "execution_count": null,
   "metadata": {
    "tags": []
   },
   "outputs": [],
   "source": [
    "from sklearn.linear_model import LinearRegression\n",
    "\n",
    "q23_lr = LinearRegression()\n",
    "...\n",
    "print(q23_lr.coef_, q23_lr.intercept_)"
   ]
  },
  {
   "cell_type": "code",
   "execution_count": null,
   "metadata": {
    "deletable": false,
    "editable": false
   },
   "outputs": [],
   "source": [
    "grader.check(\"Exercise 2-3\")"
   ]
  },
  {
   "cell_type": "markdown",
   "metadata": {},
   "source": [
    "#### 練習問題 2-4 | 二乗平均平方根誤差 (root mean squared error, RMSE) による予測精度評価"
   ]
  },
  {
   "cell_type": "markdown",
   "metadata": {},
   "source": [
    "#### Exercise 2-4 | Evaluate Prediction Accuracy Using RMSE"
   ]
  },
  {
   "cell_type": "markdown",
   "metadata": {
    "deletable": false,
    "editable": false
   },
   "source": [
    "練習問題2-3で作成した回帰モデル `q23_lr` について、テストデータ `x_test` および `y_test` に対する二乗平均平方根誤差 (root mean squared error, RMSE) を計算し、 `q24_rmse` に格納せよ。\n"
   ]
  },
  {
   "cell_type": "markdown",
   "metadata": {
    "deletable": false,
    "editable": false
   },
   "source": [
    "For the regression model `q23_lr` built in Exercise 2-3, compute the root mean squared error (RMSE) on the test data `x_test` and `y_test`, and store it in `q24_rmse`."
   ]
  },
  {
   "cell_type": "code",
   "execution_count": null,
   "metadata": {
    "tags": []
   },
   "outputs": [],
   "source": [
    "...\n",
    "q24_rmse = ...\n",
    "print(q24_rmse)\n"
   ]
  },
  {
   "cell_type": "code",
   "execution_count": null,
   "metadata": {
    "deletable": false,
    "editable": false
   },
   "outputs": [],
   "source": [
    "grader.check(\"Exercise 2-4\")"
   ]
  }
 ],
 "metadata": {
  "kernelspec": {
   "display_name": "base",
   "language": "python",
   "name": "python3"
  },
  "language_info": {
   "codemirror_mode": {
    "name": "ipython",
    "version": 3
   },
   "file_extension": ".py",
   "mimetype": "text/x-python",
   "name": "python",
   "nbconvert_exporter": "python",
   "pygments_lexer": "ipython3",
   "version": "3.9.12"
  }
 },
 "nbformat": 4,
 "nbformat_minor": 2
}
